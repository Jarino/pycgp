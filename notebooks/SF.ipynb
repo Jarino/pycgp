{
 "cells": [
  {
   "cell_type": "code",
   "execution_count": 1,
   "metadata": {},
   "outputs": [],
   "source": [
    "import pickle\n",
    "import os \n",
    "from itertools import product\n",
    "\n",
    "import numpy as np\n",
    "import pandas as pd\n",
    "import matplotlib.pyplot as plt\n",
    "%matplotlib inline\n",
    "import seaborn as sns\n",
    "plt.style.use('seaborn')\n",
    "\n",
    "from pycgp import single_mutation, point_mutation, probabilistic_mutation\n",
    "from pycgp.gems import MatchByActiveStrategy, MatchPMStrategy, MatchSMStrategy\n",
    "\n",
    "from utils import load_data, aggregate_statistics, plot_fitnesses, plot_distributions"
   ]
  },
  {
   "cell_type": "markdown",
   "metadata": {},
   "source": [
    "This notebook interpret the results of basic run of symbolic regression - 30 applications of gems until it expires, replacement of the worst gem in jewellery box, 5 individuals in population."
   ]
  },
  {
   "cell_type": "markdown",
   "metadata": {},
   "source": [
    "# Aggregate statistics"
   ]
  },
  {
   "cell_type": "code",
   "execution_count": 2,
   "metadata": {},
   "outputs": [
    {
     "data": {
      "text/html": [
       "<div>\n",
       "<style scoped>\n",
       "    .dataframe tbody tr th:only-of-type {\n",
       "        vertical-align: middle;\n",
       "    }\n",
       "\n",
       "    .dataframe tbody tr th {\n",
       "        vertical-align: top;\n",
       "    }\n",
       "\n",
       "    .dataframe thead th {\n",
       "        text-align: right;\n",
       "    }\n",
       "</style>\n",
       "<table border=\"1\" class=\"dataframe\">\n",
       "  <thead>\n",
       "    <tr style=\"text-align: right;\">\n",
       "      <th></th>\n",
       "      <th>mutation</th>\n",
       "      <th>strategy</th>\n",
       "      <th>gems</th>\n",
       "      <th>columns</th>\n",
       "      <th>best</th>\n",
       "      <th>mean</th>\n",
       "      <th>std</th>\n",
       "      <th>avg_gem_count</th>\n",
       "      <th>gem_better</th>\n",
       "      <th>gem_worse</th>\n",
       "      <th>bf</th>\n",
       "      <th>mf</th>\n",
       "    </tr>\n",
       "  </thead>\n",
       "  <tbody>\n",
       "    <tr>\n",
       "      <th>0</th>\n",
       "      <td>single_mutation</td>\n",
       "      <td>MatchSMStrategy</td>\n",
       "      <td>0</td>\n",
       "      <td>10</td>\n",
       "      <td>-27.80</td>\n",
       "      <td>-17.21</td>\n",
       "      <td>9.078754</td>\n",
       "      <td>0.00</td>\n",
       "      <td>0.00</td>\n",
       "      <td>0.0</td>\n",
       "      <td>[-1.75, -1.95, -2.15, -2.4, -2.5, -2.9, -2.95,...</td>\n",
       "      <td>[-0.61, -1.21, -1.4999999999999998, -1.5999999...</td>\n",
       "    </tr>\n",
       "    <tr>\n",
       "      <th>1</th>\n",
       "      <td>single_mutation</td>\n",
       "      <td>MatchSMStrategy</td>\n",
       "      <td>0</td>\n",
       "      <td>50</td>\n",
       "      <td>-69.05</td>\n",
       "      <td>-57.60</td>\n",
       "      <td>-29.549113</td>\n",
       "      <td>0.00</td>\n",
       "      <td>0.00</td>\n",
       "      <td>0.0</td>\n",
       "      <td>[-3.05, -3.6, -4.2, -4.5, -5.25, -5.5, -5.8, -...</td>\n",
       "      <td>[-1.0799999999999998, -2.6899999999999995, -3....</td>\n",
       "    </tr>\n",
       "    <tr>\n",
       "      <th>2</th>\n",
       "      <td>single_mutation</td>\n",
       "      <td>MatchSMStrategy</td>\n",
       "      <td>0</td>\n",
       "      <td>100</td>\n",
       "      <td>-67.45</td>\n",
       "      <td>-57.66</td>\n",
       "      <td>-15.636148</td>\n",
       "      <td>0.00</td>\n",
       "      <td>0.00</td>\n",
       "      <td>0.0</td>\n",
       "      <td>[-3.4, -3.9, -4.45, -4.9, -5.3, -5.85, -6.0, -...</td>\n",
       "      <td>[-1.21, -3.06, -3.13, -3.8300000000000005, -4....</td>\n",
       "    </tr>\n",
       "    <tr>\n",
       "      <th>3</th>\n",
       "      <td>single_mutation</td>\n",
       "      <td>MatchSMStrategy</td>\n",
       "      <td>5</td>\n",
       "      <td>10</td>\n",
       "      <td>-37.30</td>\n",
       "      <td>-22.73</td>\n",
       "      <td>-21.457154</td>\n",
       "      <td>6.05</td>\n",
       "      <td>93.35</td>\n",
       "      <td>25.0</td>\n",
       "      <td>[-1.5, -1.75, -2.05, -2.2, -2.5, -2.75, -2.9, ...</td>\n",
       "      <td>[-0.5599999999999999, -1.2400000000000002, -1....</td>\n",
       "    </tr>\n",
       "    <tr>\n",
       "      <th>4</th>\n",
       "      <td>single_mutation</td>\n",
       "      <td>MatchSMStrategy</td>\n",
       "      <td>5</td>\n",
       "      <td>50</td>\n",
       "      <td>-75.20</td>\n",
       "      <td>-60.00</td>\n",
       "      <td>-58.388219</td>\n",
       "      <td>5.30</td>\n",
       "      <td>27.95</td>\n",
       "      <td>19.2</td>\n",
       "      <td>[-2.85, -3.8, -4.05, -4.15, -4.65, -5.35, -5.7...</td>\n",
       "      <td>[-0.9399999999999998, -2.9699999999999998, -2....</td>\n",
       "    </tr>\n",
       "  </tbody>\n",
       "</table>\n",
       "</div>"
      ],
      "text/plain": [
       "          mutation         strategy gems columns   best   mean        std  \\\n",
       "0  single_mutation  MatchSMStrategy    0      10 -27.80 -17.21   9.078754   \n",
       "1  single_mutation  MatchSMStrategy    0      50 -69.05 -57.60 -29.549113   \n",
       "2  single_mutation  MatchSMStrategy    0     100 -67.45 -57.66 -15.636148   \n",
       "3  single_mutation  MatchSMStrategy    5      10 -37.30 -22.73 -21.457154   \n",
       "4  single_mutation  MatchSMStrategy    5      50 -75.20 -60.00 -58.388219   \n",
       "\n",
       "   avg_gem_count  gem_better  gem_worse  \\\n",
       "0           0.00        0.00        0.0   \n",
       "1           0.00        0.00        0.0   \n",
       "2           0.00        0.00        0.0   \n",
       "3           6.05       93.35       25.0   \n",
       "4           5.30       27.95       19.2   \n",
       "\n",
       "                                                  bf  \\\n",
       "0  [-1.75, -1.95, -2.15, -2.4, -2.5, -2.9, -2.95,...   \n",
       "1  [-3.05, -3.6, -4.2, -4.5, -5.25, -5.5, -5.8, -...   \n",
       "2  [-3.4, -3.9, -4.45, -4.9, -5.3, -5.85, -6.0, -...   \n",
       "3  [-1.5, -1.75, -2.05, -2.2, -2.5, -2.75, -2.9, ...   \n",
       "4  [-2.85, -3.8, -4.05, -4.15, -4.65, -5.35, -5.7...   \n",
       "\n",
       "                                                  mf  \n",
       "0  [-0.61, -1.21, -1.4999999999999998, -1.5999999...  \n",
       "1  [-1.0799999999999998, -2.6899999999999995, -3....  \n",
       "2  [-1.21, -3.06, -3.13, -3.8300000000000005, -4....  \n",
       "3  [-0.5599999999999999, -1.2400000000000002, -1....  \n",
       "4  [-0.9399999999999998, -2.9699999999999998, -2....  "
      ]
     },
     "execution_count": 2,
     "metadata": {},
     "output_type": "execute_result"
    }
   ],
   "source": [
    "mutations = [\n",
    "        (single_mutation, MatchSMStrategy),\n",
    "        (point_mutation, MatchPMStrategy),\n",
    "        (probabilistic_mutation, MatchSMStrategy),\n",
    "        (single_mutation, MatchByActiveStrategy),\n",
    "        (probabilistic_mutation, MatchByActiveStrategy)]\n",
    "\n",
    "folder = 'scripts/santa_fe_out'\n",
    "data = aggregate_statistics(folder, mutations)\n",
    "data.head()"
   ]
  },
  {
   "cell_type": "code",
   "execution_count": 3,
   "metadata": {},
   "outputs": [
    {
     "data": {
      "text/html": [
       "<div>\n",
       "<style scoped>\n",
       "    .dataframe tbody tr th:only-of-type {\n",
       "        vertical-align: middle;\n",
       "    }\n",
       "\n",
       "    .dataframe tbody tr th {\n",
       "        vertical-align: top;\n",
       "    }\n",
       "\n",
       "    .dataframe thead th {\n",
       "        text-align: right;\n",
       "    }\n",
       "</style>\n",
       "<table border=\"1\" class=\"dataframe\">\n",
       "  <thead>\n",
       "    <tr style=\"text-align: right;\">\n",
       "      <th></th>\n",
       "      <th>best</th>\n",
       "      <th>mean</th>\n",
       "      <th>std</th>\n",
       "      <th>avg_gem_count</th>\n",
       "      <th>gem_better</th>\n",
       "      <th>gem_worse</th>\n",
       "    </tr>\n",
       "    <tr>\n",
       "      <th>gems</th>\n",
       "      <th></th>\n",
       "      <th></th>\n",
       "      <th></th>\n",
       "      <th></th>\n",
       "      <th></th>\n",
       "      <th></th>\n",
       "    </tr>\n",
       "  </thead>\n",
       "  <tbody>\n",
       "    <tr>\n",
       "      <th>0</th>\n",
       "      <td>-53.606667</td>\n",
       "      <td>-33.517333</td>\n",
       "      <td>-19.700350</td>\n",
       "      <td>0.000000</td>\n",
       "      <td>0.000000</td>\n",
       "      <td>0.000000</td>\n",
       "    </tr>\n",
       "    <tr>\n",
       "      <th>5</th>\n",
       "      <td>-56.003333</td>\n",
       "      <td>-34.855333</td>\n",
       "      <td>-33.262479</td>\n",
       "      <td>6.226667</td>\n",
       "      <td>38.193333</td>\n",
       "      <td>67.660000</td>\n",
       "    </tr>\n",
       "    <tr>\n",
       "      <th>10</th>\n",
       "      <td>-55.610000</td>\n",
       "      <td>-34.954667</td>\n",
       "      <td>-32.652012</td>\n",
       "      <td>10.980000</td>\n",
       "      <td>60.646667</td>\n",
       "      <td>87.643333</td>\n",
       "    </tr>\n",
       "  </tbody>\n",
       "</table>\n",
       "</div>"
      ],
      "text/plain": [
       "           best       mean        std  avg_gem_count  gem_better  gem_worse\n",
       "gems                                                                       \n",
       "0    -53.606667 -33.517333 -19.700350       0.000000    0.000000   0.000000\n",
       "5    -56.003333 -34.855333 -33.262479       6.226667   38.193333  67.660000\n",
       "10   -55.610000 -34.954667 -32.652012      10.980000   60.646667  87.643333"
      ]
     },
     "execution_count": 3,
     "metadata": {},
     "output_type": "execute_result"
    }
   ],
   "source": [
    "data.best = pd.to_numeric(data.best)\n",
    "data.groupby('gems').mean()"
   ]
  },
  {
   "cell_type": "markdown",
   "metadata": {},
   "source": [
    "Overall, gems brough slight deterioration of the results. Though, standard deviaton of generation containing the best solution is slightly better, mean of that generation is lower.\n",
    "\n",
    "Let's have a look at performance according to mutation and match strategy used."
   ]
  },
  {
   "cell_type": "code",
   "execution_count": null,
   "metadata": {},
   "outputs": [],
   "source": [
    "data.groupby(['mutation', 'strategy']).mean()"
   ]
  },
  {
   "cell_type": "markdown",
   "metadata": {},
   "source": [
    "Best performance was achieved by point mutation with its simple strategy. RIght after that is single mutation, with match by all startegy. Let's have a look at point mutation."
   ]
  },
  {
   "cell_type": "code",
   "execution_count": null,
   "metadata": {},
   "outputs": [],
   "source": [
    "data[(data['mutation'] == 'point_mutation')].iloc[:,:-2]"
   ]
  },
  {
   "cell_type": "markdown",
   "metadata": {},
   "source": [
    "With exception of point mutation with 5 max gems and 10 columns, all runs were able to achieve optimal solution. In terms of stability of results, best result was achieved using 10 gems on largest graph (100 columns), with highest mean (88.2) and lowest deviation (0.44).\n",
    "\n",
    "Interesting observation is worse mean after using gems on small graphs, indicating, that gems are usefull only on large graphs (in this case) - both 5 gem limit and 10 gem limit were more sucessful only on 50 and 100 column long individual.\n",
    "\n",
    "Let's have a look at worse performing mutation and effect of gems in this case:"
   ]
  },
  {
   "cell_type": "code",
   "execution_count": null,
   "metadata": {},
   "outputs": [],
   "source": [
    "data[(data['mutation'] == 'probabilistic_mutation') & (data['strategy'] == 'MatchByActiveStrategy' )].iloc[:,:-2]"
   ]
  },
  {
   "cell_type": "markdown",
   "metadata": {},
   "source": [
    "Here we can observe generally worse performance when using gems. Overall it seems, that large perturbance is not suitable for this task."
   ]
  },
  {
   "cell_type": "markdown",
   "metadata": {},
   "source": [
    "Let's see the avereage performance, when it comes mutation type, without using gems:"
   ]
  },
  {
   "cell_type": "code",
   "execution_count": null,
   "metadata": {},
   "outputs": [],
   "source": [
    "data[data.gems == 0].groupby('mutation').mean()"
   ]
  },
  {
   "cell_type": "markdown",
   "metadata": {},
   "source": [
    "Best performance was achieved by single mutation, now let's have a look at average including gems:"
   ]
  },
  {
   "cell_type": "code",
   "execution_count": null,
   "metadata": {},
   "outputs": [],
   "source": [
    "data[data.gems != 0].groupby('mutation').mean()"
   ]
  },
  {
   "cell_type": "markdown",
   "metadata": {},
   "source": [
    "Here, point mutation is achieving best performance, and other two types suffer from slight deterioration."
   ]
  },
  {
   "cell_type": "markdown",
   "metadata": {},
   "source": [
    "Let's plot the average best fitness of probabilistic and single mutations."
   ]
  },
  {
   "cell_type": "code",
   "execution_count": null,
   "metadata": {},
   "outputs": [],
   "source": [
    "plot_fitnesses(data, 'probabilistic_mutation', (0, -89))"
   ]
  },
  {
   "cell_type": "code",
   "execution_count": null,
   "metadata": {},
   "outputs": [],
   "source": [
    "plot_fitnesses(data, 'single_mutation', (0, -89))"
   ]
  },
  {
   "cell_type": "code",
   "execution_count": null,
   "metadata": {},
   "outputs": [],
   "source": [
    "plot_fitnesses(data, 'point_mutation', (0, -89))"
   ]
  },
  {
   "cell_type": "code",
   "execution_count": null,
   "metadata": {},
   "outputs": [],
   "source": [
    "plot_distributions(folder, mutations)"
   ]
  },
  {
   "cell_type": "markdown",
   "metadata": {},
   "source": [
    "# Conclusion\n",
    "\n",
    "Gems were able to improve performance in almost all instances of experiment. Best performance overall was achieved by "
   ]
  },
  {
   "cell_type": "markdown",
   "metadata": {},
   "source": [
    "\n"
   ]
  }
 ],
 "metadata": {
  "kernelspec": {
   "display_name": "Python 3",
   "language": "python",
   "name": "python3"
  },
  "language_info": {
   "codemirror_mode": {
    "name": "ipython",
    "version": 3
   },
   "file_extension": ".py",
   "mimetype": "text/x-python",
   "name": "python",
   "nbconvert_exporter": "python",
   "pygments_lexer": "ipython3",
   "version": "3.6.2"
  }
 },
 "nbformat": 4,
 "nbformat_minor": 2
}
