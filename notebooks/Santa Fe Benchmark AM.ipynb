{
 "cells": [
  {
   "cell_type": "markdown",
   "metadata": {},
   "source": [
    "# Santa Fe Benchmark, AM"
   ]
  },
  {
   "cell_type": "code",
   "execution_count": 1,
   "metadata": {
    "collapsed": true
   },
   "outputs": [],
   "source": [
    "from pycgp.benchmarks.santafe import PARAMS, EV_PARAMS, X, santafe_cost_function\n",
    "from pycgp.evolution import evolution\n",
    "import numpy as np\n",
    "import random"
   ]
  },
  {
   "cell_type": "code",
   "execution_count": 2,
   "metadata": {
    "collapsed": true
   },
   "outputs": [],
   "source": [
    "def run_experiment(params, ev_params, x):\n",
    "    rstat = []\n",
    "    for i in range(0, 20):\n",
    "        print(i, end=', ')\n",
    "\n",
    "        result = evolution(PARAMS, EV_PARAMS, X, None)\n",
    "\n",
    "        rstat.append([santafe_cost_function(None, individual.execute(X)) for individual in result['final']])\n",
    "    \n",
    "    #print('Best fitness: {}'.format(np.min(stats)))\n",
    "    #print('mean and std of fitness of last generation: {}, {}'.format(np.mean(stats), np.std(stats)))\n",
    "    #print('Mean and std of best fitness: {}, {}'.format(np.mean(np.min(stats, axis=1)), np.std(np.min(stats, axis=1))))\n",
    "    # best fitness, mean of last generation, std of last generation, mean of best individual, std of best individual\n",
    "    results = [\n",
    "        np.min(rstat), np.mean(rstat), np.std(rstat), np.mean(np.min(rstat, axis=1)), np.std(np.min(rstat, axis=1)) \n",
    "    ]\n",
    "    print(results)\n",
    "    return results\n",
    "    "
   ]
  },
  {
   "cell_type": "markdown",
   "metadata": {},
   "source": [
    "## Active mutation"
   ]
  },
  {
   "cell_type": "code",
   "execution_count": 3,
   "metadata": {
    "collapsed": true
   },
   "outputs": [],
   "source": [
    "from pycgp.mutation import active_mutation\n",
    "EV_PARAMS['mutation']   = active_mutation\n",
    "all_measurements = {}"
   ]
  },
  {
   "cell_type": "markdown",
   "metadata": {},
   "source": [
    "### AM, 10 nodes"
   ]
  },
  {
   "cell_type": "code",
   "execution_count": 4,
   "metadata": {},
   "outputs": [
    {
     "name": "stdout",
     "output_type": "stream",
     "text": [
      "0, 1, 2, 3, 4, 5, 6, 7, 8, 9, 10, 11, 12, 13, 14, 15, 16, 17, 18, 19, [-41, -10.34, 8.6881758729896816, -20.149999999999999, 8.8897412785749843]\n",
      "CPU times: user 3min 17s, sys: 72.6 ms, total: 3min 17s\n",
      "Wall time: 3min 18s\n"
     ]
    }
   ],
   "source": [
    "%%time\n",
    "random.seed(1)\n",
    "\n",
    "PARAMS['n_cols']        = 10\n",
    "EV_PARAMS['gems']       = False\n",
    "EV_PARAMS['j_box_size'] = 5\n",
    "\n",
    "all_measurements['10,false'] = run_experiment(PARAMS, EV_PARAMS, X)"
   ]
  },
  {
   "cell_type": "markdown",
   "metadata": {},
   "source": [
    "### AM, 50 nodes"
   ]
  },
  {
   "cell_type": "code",
   "execution_count": 5,
   "metadata": {},
   "outputs": [
    {
     "name": "stdout",
     "output_type": "stream",
     "text": [
      "0, 1, 2, 3, 4, 5, 6, 7, 8, 9, 10, 11, 12, 13, 14, 15, 16, 17, 18, 19, [-89, -41.340000000000003, 33.703180858785423, -51.75, 33.095128040241811]\n",
      "CPU times: user 6min 47s, sys: 100 ms, total: 6min 47s\n",
      "Wall time: 6min 48s\n"
     ]
    }
   ],
   "source": [
    "%%time\n",
    "random.seed(1);\n",
    "\n",
    "PARAMS['n_cols']        = 50\n",
    "EV_PARAMS['gems']       = False\n",
    "EV_PARAMS['j_box_size'] = 5\n",
    "\n",
    "all_measurements['50,false'] = run_experiment(PARAMS, EV_PARAMS, X)"
   ]
  },
  {
   "cell_type": "markdown",
   "metadata": {},
   "source": [
    "### AM, 100 nodes"
   ]
  },
  {
   "cell_type": "code",
   "execution_count": 6,
   "metadata": {},
   "outputs": [
    {
     "name": "stdout",
     "output_type": "stream",
     "text": [
      "0, 1, 2, 3, 4, 5, 6, 7, 8, 9, 10, 11, 12, 13, 14, 15, 16, 17, 18, 19, [-89, -58.960000000000001, 30.808414435020833, -67.5, 26.297338268349517]\n",
      "CPU times: user 9min 50s, sys: 76.1 ms, total: 9min 50s\n",
      "Wall time: 9min 50s\n"
     ]
    }
   ],
   "source": [
    "%%time\n",
    "random.seed(1);\n",
    "\n",
    "PARAMS['n_cols']        = 100\n",
    "EV_PARAMS['gems']       = False\n",
    "EV_PARAMS['j_box_size'] = 5\n",
    "\n",
    "all_measurements['100,false'] = run_experiment(PARAMS, EV_PARAMS, X)"
   ]
  },
  {
   "cell_type": "markdown",
   "metadata": {},
   "source": [
    "### AM, 10 nodes, Gems"
   ]
  },
  {
   "cell_type": "code",
   "execution_count": 7,
   "metadata": {},
   "outputs": [
    {
     "name": "stdout",
     "output_type": "stream",
     "text": [
      "0, 1, 2, 3, 4, 5, 6, 7, 8, 9, 10, 11, 12, 13, 14, 15, 16, 17, 18, 19, [-89, -16.050000000000001, 18.278060619223258, -26.25, 20.918592208846178]\n",
      "CPU times: user 2min 31s, sys: 32 ms, total: 2min 31s\n",
      "Wall time: 2min 31s\n"
     ]
    }
   ],
   "source": [
    "%%time\n",
    "random.seed(1);\n",
    "\n",
    "PARAMS['n_cols']        = 10\n",
    "EV_PARAMS['gems']       = True\n",
    "EV_PARAMS['j_box_size'] = 5\n",
    "\n",
    "all_measurements['10,true,5'] = run_experiment(PARAMS, EV_PARAMS, X)"
   ]
  },
  {
   "cell_type": "markdown",
   "metadata": {},
   "source": [
    "### AM, 50 nodes, Gems"
   ]
  },
  {
   "cell_type": "code",
   "execution_count": 8,
   "metadata": {},
   "outputs": [
    {
     "name": "stdout",
     "output_type": "stream",
     "text": [
      "0, 1, 2, 3, 4, 5, 6, 7, 8, 9, 10, 11, 12, 13, 14, 15, 16, 17, 18, 19, [-89, -46.719999999999999, 30.09421206810373, -60.200000000000003, 25.458986625551301]\n",
      "CPU times: user 6min 3s, sys: 48 ms, total: 6min 3s\n",
      "Wall time: 6min 3s\n"
     ]
    }
   ],
   "source": [
    "%%time\n",
    "random.seed(1);\n",
    "\n",
    "PARAMS['n_cols']        = 50\n",
    "EV_PARAMS['gems']       = True\n",
    "EV_PARAMS['j_box_size'] = 5\n",
    "\n",
    "all_measurements['50,true,5'] = run_experiment(PARAMS, EV_PARAMS, X)"
   ]
  },
  {
   "cell_type": "markdown",
   "metadata": {},
   "source": [
    "### AM, 100 nodes, Gems"
   ]
  },
  {
   "cell_type": "code",
   "execution_count": 9,
   "metadata": {},
   "outputs": [
    {
     "name": "stdout",
     "output_type": "stream",
     "text": [
      "0, 1, 2, 3, 4, 5, 6, 7, 8, 9, 10, 11, 12, 13, 14, 15, 16, 17, 18, 19, [-89, -58.57, 26.997872138374163, -66.900000000000006, 21.628453481467417]\n",
      "CPU times: user 8min 21s, sys: 124 ms, total: 8min 21s\n",
      "Wall time: 8min 23s\n"
     ]
    }
   ],
   "source": [
    "%%time\n",
    "random.seed(1);\n",
    "\n",
    "PARAMS['n_cols']        = 100\n",
    "EV_PARAMS['gems']       = True\n",
    "EV_PARAMS['j_box_size'] = 5\n",
    "\n",
    "all_measurements['100,true,5'] = run_experiment(PARAMS, EV_PARAMS, X)"
   ]
  },
  {
   "cell_type": "code",
   "execution_count": 10,
   "metadata": {},
   "outputs": [
    {
     "name": "stdout",
     "output_type": "stream",
     "text": [
      "0, 1, 2, 3, 4, 5, 6, 7, 8, 9, 10, 11, 12, 13, 14, 15, 16, 17, 18, 19, [-43, -10.550000000000001, 8.873978814489023, -19.899999999999999, 10.304853225543777]\n",
      "CPU times: user 2min 29s, sys: 36 ms, total: 2min 29s\n",
      "Wall time: 2min 30s\n"
     ]
    }
   ],
   "source": [
    "%%time\n",
    "random.seed(1);\n",
    "\n",
    "PARAMS['n_cols']        = 10\n",
    "EV_PARAMS['gems']       = True\n",
    "EV_PARAMS['j_box_size'] = 10\n",
    "\n",
    "all_measurements['10,true,10'] = run_experiment(PARAMS, EV_PARAMS, X)"
   ]
  },
  {
   "cell_type": "code",
   "execution_count": 11,
   "metadata": {},
   "outputs": [
    {
     "name": "stdout",
     "output_type": "stream",
     "text": [
      "0, 1, 2, 3, 4, 5, 6, 7, 8, 9, 10, 11, 12, 13, 14, 15, 16, 17, 18, 19, [-89, -41.380000000000003, 29.57390065581475, -51.950000000000003, 25.865952524506032]\n",
      "CPU times: user 5min 1s, sys: 224 ms, total: 5min 2s\n",
      "Wall time: 5min 2s\n"
     ]
    }
   ],
   "source": [
    "%%time\n",
    "random.seed(1);\n",
    "\n",
    "PARAMS['n_cols']        = 50\n",
    "EV_PARAMS['gems']       = True\n",
    "EV_PARAMS['j_box_size'] = 10\n",
    "\n",
    "all_measurements['50,true,10'] = run_experiment(PARAMS, EV_PARAMS, X)"
   ]
  },
  {
   "cell_type": "code",
   "execution_count": 12,
   "metadata": {},
   "outputs": [
    {
     "name": "stdout",
     "output_type": "stream",
     "text": [
      "0, 1, 2, 3, 4, 5, 6, 7, 8, 9, 10, 11, 12, 13, 14, 15, 16, 17, 18, 19, [-89, -48.240000000000002, 28.384192784012722, -58.600000000000001, 24.046621384302618]\n",
      "CPU times: user 11min 51s, sys: 360 ms, total: 11min 51s\n",
      "Wall time: 11min 55s\n"
     ]
    }
   ],
   "source": [
    "%%time\n",
    "random.seed(1);\n",
    "\n",
    "PARAMS['n_cols']        = 100\n",
    "EV_PARAMS['gems']       = True\n",
    "EV_PARAMS['j_box_size'] = 10\n",
    "\n",
    "all_measurements['100,true,10'] = run_experiment(PARAMS, EV_PARAMS, X)"
   ]
  },
  {
   "cell_type": "markdown",
   "metadata": {},
   "source": [
    "# Summary"
   ]
  },
  {
   "cell_type": "code",
   "execution_count": 13,
   "metadata": {},
   "outputs": [
    {
     "data": {
      "text/html": [
       "<div>\n",
       "<style>\n",
       "    .dataframe thead tr:only-child th {\n",
       "        text-align: right;\n",
       "    }\n",
       "\n",
       "    .dataframe thead th {\n",
       "        text-align: left;\n",
       "    }\n",
       "\n",
       "    .dataframe tbody tr th {\n",
       "        vertical-align: top;\n",
       "    }\n",
       "</style>\n",
       "<table border=\"1\" class=\"dataframe\">\n",
       "  <thead>\n",
       "    <tr style=\"text-align: right;\">\n",
       "      <th></th>\n",
       "      <th>best fitness</th>\n",
       "      <th>mean of last gen</th>\n",
       "      <th>std of last gen</th>\n",
       "      <th>mean of best individual</th>\n",
       "      <th>std of best indvidiual</th>\n",
       "    </tr>\n",
       "  </thead>\n",
       "  <tbody>\n",
       "    <tr>\n",
       "      <th>10,false</th>\n",
       "      <td>-41</td>\n",
       "      <td>-10.34</td>\n",
       "      <td>8.688176</td>\n",
       "      <td>-20.15</td>\n",
       "      <td>8.889741</td>\n",
       "    </tr>\n",
       "    <tr>\n",
       "      <th>50,false</th>\n",
       "      <td>-89</td>\n",
       "      <td>-41.34</td>\n",
       "      <td>33.703181</td>\n",
       "      <td>-51.75</td>\n",
       "      <td>33.095128</td>\n",
       "    </tr>\n",
       "    <tr>\n",
       "      <th>100,false</th>\n",
       "      <td>-89</td>\n",
       "      <td>-58.96</td>\n",
       "      <td>30.808414</td>\n",
       "      <td>-67.50</td>\n",
       "      <td>26.297338</td>\n",
       "    </tr>\n",
       "    <tr>\n",
       "      <th>10,true,5</th>\n",
       "      <td>-89</td>\n",
       "      <td>-16.05</td>\n",
       "      <td>18.278061</td>\n",
       "      <td>-26.25</td>\n",
       "      <td>20.918592</td>\n",
       "    </tr>\n",
       "    <tr>\n",
       "      <th>50,true,5</th>\n",
       "      <td>-89</td>\n",
       "      <td>-46.72</td>\n",
       "      <td>30.094212</td>\n",
       "      <td>-60.20</td>\n",
       "      <td>25.458987</td>\n",
       "    </tr>\n",
       "    <tr>\n",
       "      <th>100,true,5</th>\n",
       "      <td>-89</td>\n",
       "      <td>-58.57</td>\n",
       "      <td>26.997872</td>\n",
       "      <td>-66.90</td>\n",
       "      <td>21.628453</td>\n",
       "    </tr>\n",
       "    <tr>\n",
       "      <th>10,true,10</th>\n",
       "      <td>-43</td>\n",
       "      <td>-10.55</td>\n",
       "      <td>8.873979</td>\n",
       "      <td>-19.90</td>\n",
       "      <td>10.304853</td>\n",
       "    </tr>\n",
       "    <tr>\n",
       "      <th>50,true,10</th>\n",
       "      <td>-89</td>\n",
       "      <td>-41.38</td>\n",
       "      <td>29.573901</td>\n",
       "      <td>-51.95</td>\n",
       "      <td>25.865953</td>\n",
       "    </tr>\n",
       "    <tr>\n",
       "      <th>100,true,10</th>\n",
       "      <td>-89</td>\n",
       "      <td>-48.24</td>\n",
       "      <td>28.384193</td>\n",
       "      <td>-58.60</td>\n",
       "      <td>24.046621</td>\n",
       "    </tr>\n",
       "  </tbody>\n",
       "</table>\n",
       "</div>"
      ],
      "text/plain": [
       "             best fitness  mean of last gen  std of last gen  \\\n",
       "10,false              -41            -10.34         8.688176   \n",
       "50,false              -89            -41.34        33.703181   \n",
       "100,false             -89            -58.96        30.808414   \n",
       "10,true,5             -89            -16.05        18.278061   \n",
       "50,true,5             -89            -46.72        30.094212   \n",
       "100,true,5            -89            -58.57        26.997872   \n",
       "10,true,10            -43            -10.55         8.873979   \n",
       "50,true,10            -89            -41.38        29.573901   \n",
       "100,true,10           -89            -48.24        28.384193   \n",
       "\n",
       "             mean of best individual  std of best indvidiual  \n",
       "10,false                      -20.15                8.889741  \n",
       "50,false                      -51.75               33.095128  \n",
       "100,false                     -67.50               26.297338  \n",
       "10,true,5                     -26.25               20.918592  \n",
       "50,true,5                     -60.20               25.458987  \n",
       "100,true,5                    -66.90               21.628453  \n",
       "10,true,10                    -19.90               10.304853  \n",
       "50,true,10                    -51.95               25.865953  \n",
       "100,true,10                   -58.60               24.046621  "
      ]
     },
     "execution_count": 13,
     "metadata": {},
     "output_type": "execute_result"
    }
   ],
   "source": [
    "import pandas as pd\n",
    "df = pd.DataFrame.from_dict(all_measurements, orient='index')\n",
    "df.columns = ['best fitness', 'mean of last gen', 'std of last gen', 'mean of best individual', 'std of best indvidiual']\n",
    "df"
   ]
  },
  {
   "cell_type": "code",
   "execution_count": null,
   "metadata": {
    "collapsed": true
   },
   "outputs": [],
   "source": []
  }
 ],
 "metadata": {
  "kernelspec": {
   "display_name": "Python 3",
   "language": "python",
   "name": "python3"
  },
  "language_info": {
   "codemirror_mode": {
    "name": "ipython",
    "version": 3
   },
   "file_extension": ".py",
   "mimetype": "text/x-python",
   "name": "python",
   "nbconvert_exporter": "python",
   "pygments_lexer": "ipython3",
   "version": "3.6.3"
  }
 },
 "nbformat": 4,
 "nbformat_minor": 2
}
