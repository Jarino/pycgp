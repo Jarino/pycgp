{
 "cells": [
  {
   "cell_type": "markdown",
   "metadata": {},
   "source": [
    "# Binary classification, Single mutation"
   ]
  },
  {
   "cell_type": "code",
   "execution_count": 1,
   "metadata": {
    "collapsed": true
   },
   "outputs": [],
   "source": [
    "from pycgp.benchmarks.classification import X_train, y_train, X_test, y_test, PARAMS, EV_PARAMS\n",
    "from pycgp.evolution import evolution\n",
    "import random\n",
    "import numpy as np"
   ]
  },
  {
   "cell_type": "markdown",
   "metadata": {},
   "source": [
    "Statistics we want to measure for classification task:\n",
    "- best train error achieved\n",
    "- mean and std of best train errors\n",
    "- best test error achieved\n",
    "- mean and std of best test errors\n",
    "- mean and std of last generation's train error\n",
    "- mean and std of last generation's test error"
   ]
  },
  {
   "cell_type": "code",
   "execution_count": 2,
   "metadata": {},
   "outputs": [],
   "source": [
    "def run_experiment(PARAMS,EV_PARAMS):\n",
    "    train_stat = []\n",
    "    test_stat = []\n",
    "    for i in range(0, 5):\n",
    "        print(i, end=', ')\n",
    "        result = evolution(PARAMS, EV_PARAMS, X_train, y_train)\n",
    "        \n",
    "        train_stat.append([x.fitness for x in result['final']])\n",
    "        test_stat.append([EV_PARAMS['cost_func'](y_test, x.execute(X_test)) for x in result['final']   ])\n",
    "    \n",
    "    train_results = [\n",
    "        np.min(train_stat), # best fitness\n",
    "        np.mean(train_stat), # mean of fitnesses of all last generations\n",
    "        np.std(train_stat), # std of fitnesses of all last generations\n",
    "        np.mean(np.min(train_stat, axis=1)), # mean of best individuals from run\n",
    "        np.std(np.min(train_stat, axis=1)) # std of best individuals from run\n",
    "    ]\n",
    "    \n",
    "    test_results = [\n",
    "        np.min(test_stat), # best fitness\n",
    "        np.mean(test_stat), # mean of fitnesses of all last generations\n",
    "        np.std(test_stat), # std of fitnesses of all last generations\n",
    "        np.mean(np.min(test_stat, axis=1)), # mean of best individuals from run\n",
    "        np.std(np.min(test_stat, axis=1)) # std of best individuals from run\n",
    "    ]\n",
    "    print('Train: ', train_results)\n",
    "    print('Test: ', test_results)\n",
    "    return train_results, test_results\n",
    "        \n",
    "        "
   ]
  },
  {
   "cell_type": "code",
   "execution_count": 3,
   "metadata": {},
   "outputs": [],
   "source": [
    "train_measurements = {}\n",
    "test_measurements = {}"
   ]
  },
  {
   "cell_type": "code",
   "execution_count": 4,
   "metadata": {},
   "outputs": [],
   "source": [
    "from pycgp.mutation import single_mutation\n",
    "from pycgp.gems import GemSM, MatchSMStrategy\n",
    "EV_PARAMS['gem_type'] = GemSM\n",
    "EV_PARAMS['mutation'] = single_mutation\n",
    "EV_PARAMS['match_strategy'] = MatchSMStrategy"
   ]
  },
  {
   "cell_type": "markdown",
   "metadata": {},
   "source": [
    "### BinClassification, PM, 10 nodes"
   ]
  },
  {
   "cell_type": "code",
   "execution_count": 5,
   "metadata": {},
   "outputs": [
    {
     "name": "stdout",
     "output_type": "stream",
     "text": [
      "0, 1, 2, 3, 4, Train:  [-0.91959798994974873, -0.7212060301507538, 0.19186700906604634, -0.89899497487437185, 0.027172876049438764]\n",
      "Test:  [-0.90058479532163738, -0.71134502923976628, 0.18240275122314853, -0.87134502923976598, 0.034695665436704853]\n",
      "CPU times: user 3min 59s, sys: 516 ms, total: 3min 59s\n",
      "Wall time: 4min 24s\n"
     ]
    }
   ],
   "source": [
    "%%time\n",
    "random.seed(1)\n",
    "\n",
    "key = '10,false'\n",
    "results = run_experiment(PARAMS, EV_PARAMS)\n",
    "train_measurements[key] = results[0]\n",
    "test_measurements[key] = results[1]"
   ]
  },
  {
   "cell_type": "markdown",
   "metadata": {},
   "source": [
    "### BinClassification, PM, 50 nodes"
   ]
  },
  {
   "cell_type": "code",
   "execution_count": 6,
   "metadata": {},
   "outputs": [
    {
     "name": "stdout",
     "output_type": "stream",
     "text": [
      "0, 1, 2, 3, 4, Train:  [-0.94221105527638194, -0.71798994974874375, 0.22788407854368789, -0.92261306532663334, 0.023322213840949322]\n",
      "Test:  [-0.92982456140350878, -0.69918128654970757, 0.21556720037845623, -0.88538011695906427, 0.032370415211925269]\n",
      "CPU times: user 5min 20s, sys: 609 ms, total: 5min 20s\n",
      "Wall time: 5min 35s\n"
     ]
    }
   ],
   "source": [
    "%%time\n",
    "random.seed(1)\n",
    "\n",
    "PARAMS['n_cols'] = 50\n",
    "EV_PARAMS['gems'] = False\n",
    "\n",
    "key = '50,false'\n",
    "results = run_experiment(PARAMS, EV_PARAMS)\n",
    "train_measurements[key] = results[0]\n",
    "test_measurements[key] = results[1]"
   ]
  },
  {
   "cell_type": "markdown",
   "metadata": {},
   "source": [
    "### BinClassification, PM, 100 nodes"
   ]
  },
  {
   "cell_type": "code",
   "execution_count": 7,
   "metadata": {},
   "outputs": [
    {
     "name": "stdout",
     "output_type": "stream",
     "text": [
      "0, 1, 2, 3, 4, Train:  [-0.95226130653266328, -0.75819095477386933, 0.24451176945886255, -0.93919597989949755, 0.0073511250443858032]\n",
      "Test:  [-0.92397660818713445, -0.73754385964912272, 0.23027763622912378, -0.90877192982456134, 0.012596876741835105]\n",
      "CPU times: user 5min 32s, sys: 266 ms, total: 5min 33s\n",
      "Wall time: 5min 43s\n"
     ]
    }
   ],
   "source": [
    "%%time\n",
    "random.seed(1)\n",
    "\n",
    "PARAMS['n_cols'] = 100\n",
    "EV_PARAMS['gems'] = False\n",
    "\n",
    "key = '100,false'\n",
    "results = run_experiment(PARAMS, EV_PARAMS)\n",
    "train_measurements[key] = results[0]\n",
    "test_measurements[key] = results[1]"
   ]
  },
  {
   "cell_type": "markdown",
   "metadata": {},
   "source": [
    "### BinClassification, PM, 10 nodes, gems"
   ]
  },
  {
   "cell_type": "code",
   "execution_count": 8,
   "metadata": {},
   "outputs": [
    {
     "name": "stdout",
     "output_type": "stream",
     "text": [
      "0, 1, 2, 3, 4, Train:  [-0.91959798994974873, -0.6571859296482413, 0.16704152519543664, -0.88994974874371857, 0.0460670015532295]\n",
      "Test:  [-0.92397660818713445, -0.65520467836257312, 0.15912004528101481, -0.87017543859649127, 0.050631253384592637]\n",
      "CPU times: user 2min 8s, sys: 234 ms, total: 2min 8s\n",
      "Wall time: 2min 12s\n"
     ]
    }
   ],
   "source": [
    "%%time\n",
    "random.seed(1)\n",
    "\n",
    "PARAMS['n_cols'] = 10\n",
    "EV_PARAMS['gems'] = True\n",
    "EV_PARAMS['j_box_size'] = 5\n",
    "\n",
    "key = '10,True'\n",
    "results = run_experiment(PARAMS, EV_PARAMS)\n",
    "train_measurements[key] = results[0]\n",
    "test_measurements[key] = results[1]"
   ]
  },
  {
   "cell_type": "markdown",
   "metadata": {},
   "source": [
    "### BinClassification, PM, 50 nodes, gems"
   ]
  },
  {
   "cell_type": "code",
   "execution_count": 9,
   "metadata": {},
   "outputs": [
    {
     "name": "stdout",
     "output_type": "stream",
     "text": [
      "0, 1, 2, 3, 4, Train:  [-0.96733668341708545, -0.77427135678391967, 0.19860206884102607, -0.9206030150753769, 0.032744391070643031]\n",
      "Test:  [-0.97660818713450293, -0.76491228070175443, 0.20195007036972054, -0.91461988304093578, 0.050115287217844577]\n",
      "CPU times: user 3min 16s, sys: 125 ms, total: 3min 16s\n",
      "Wall time: 51min 27s\n"
     ]
    }
   ],
   "source": [
    "%%time\n",
    "random.seed(1)\n",
    "\n",
    "PARAMS['n_cols'] = 50\n",
    "EV_PARAMS['gems'] = True\n",
    "EV_PARAMS['j_box_size'] = 5\n",
    "\n",
    "key = '50,True'\n",
    "results = run_experiment(PARAMS, EV_PARAMS)\n",
    "train_measurements[key] = results[0]\n",
    "test_measurements[key] = results[1]"
   ]
  },
  {
   "cell_type": "markdown",
   "metadata": {},
   "source": [
    "### BinClassification, PM, 100 nodes, gems"
   ]
  },
  {
   "cell_type": "code",
   "execution_count": 10,
   "metadata": {},
   "outputs": [
    {
     "name": "stdout",
     "output_type": "stream",
     "text": [
      "0, 1, 2, 3, 4, Train:  [-0.95477386934673369, -0.76412060301507523, 0.19217715075232286, -0.93115577889447232, 0.025946393253116762]\n",
      "Test:  [-0.91228070175438591, -0.74619883040935675, 0.17459446041578566, -0.89473684210526305, 0.027178830499701167]\n",
      "CPU times: user 3min 37s, sys: 46.9 ms, total: 3min 37s\n",
      "Wall time: 3min 38s\n"
     ]
    }
   ],
   "source": [
    "%%time\n",
    "random.seed(1)\n",
    "\n",
    "PARAMS['n_cols'] = 100\n",
    "EV_PARAMS['gems'] = True\n",
    "EV_PARAMS['j_box_size'] = 5\n",
    "\n",
    "key = '100,True'\n",
    "results = run_experiment(PARAMS, EV_PARAMS)\n",
    "train_measurements[key] = results[0]\n",
    "test_measurements[key] = results[1]"
   ]
  },
  {
   "cell_type": "markdown",
   "metadata": {},
   "source": [
    "### BinClassification, PM, 10 nodes, gems, 10"
   ]
  },
  {
   "cell_type": "code",
   "execution_count": 11,
   "metadata": {},
   "outputs": [
    {
     "name": "stdout",
     "output_type": "stream",
     "text": [
      "0, 1, 2, 3, 4, Train:  [-0.91959798994974873, -0.63678391959798997, 0.18988337358295315, -0.91105527638190953, 0.0094813880724186912]\n",
      "Test:  [-0.92397660818713445, -0.63040935672514609, 0.18419474544861644, -0.88421052631578934, 0.020392509677383243]\n",
      "CPU times: user 2min 38s, sys: 297 ms, total: 2min 38s\n",
      "Wall time: 2min 44s\n"
     ]
    }
   ],
   "source": [
    "%%time\n",
    "random.seed(1)\n",
    "\n",
    "PARAMS['n_cols'] = 10\n",
    "EV_PARAMS['gems'] = True\n",
    "EV_PARAMS['j_box_size'] = 10\n",
    "\n",
    "key = '10,True,10'\n",
    "results = run_experiment(PARAMS, EV_PARAMS)\n",
    "train_measurements[key] = results[0]\n",
    "test_measurements[key] = results[1]"
   ]
  },
  {
   "cell_type": "markdown",
   "metadata": {},
   "source": [
    "### BinClassification, PM, 50 nodes, gems, 10"
   ]
  },
  {
   "cell_type": "code",
   "execution_count": 12,
   "metadata": {},
   "outputs": [
    {
     "name": "stdout",
     "output_type": "stream",
     "text": [
      "0, 1, 2, 3, 4, Train:  [-0.96733668341708545, -0.80371859296482417, 0.19514875943011642, -0.93919597989949755, 0.015682901039524872]\n",
      "Test:  [-0.97660818713450293, -0.78994152046783628, 0.18825628683758125, -0.90760233918128663, 0.041251911318241873]\n",
      "CPU times: user 3min 32s, sys: 156 ms, total: 3min 32s\n",
      "Wall time: 3min 33s\n"
     ]
    }
   ],
   "source": [
    "%%time\n",
    "random.seed(1)\n",
    "\n",
    "PARAMS['n_cols'] = 50\n",
    "EV_PARAMS['gems'] = True\n",
    "EV_PARAMS['j_box_size'] = 10\n",
    "\n",
    "key = '50,True,10'\n",
    "results = run_experiment(PARAMS, EV_PARAMS)\n",
    "train_measurements[key] = results[0]\n",
    "test_measurements[key] = results[1]"
   ]
  },
  {
   "cell_type": "markdown",
   "metadata": {},
   "source": [
    "### BinClassification, PM, 100 nodes, gems, 10"
   ]
  },
  {
   "cell_type": "code",
   "execution_count": 13,
   "metadata": {},
   "outputs": [
    {
     "name": "stdout",
     "output_type": "stream",
     "text": [
      "0, 1, 2, 3, 4, Train:  [-0.957286432160804, -0.73899497487437171, 0.21563623860406231, -0.9402010050251256, 0.011720506321297069]\n",
      "Test:  [-0.95906432748538006, -0.72912280701754384, 0.2062775952234428, -0.92046783625730977, 0.0257841025556124]\n",
      "CPU times: user 4min 26s, sys: 78.1 ms, total: 4min 26s\n",
      "Wall time: 4min 27s\n"
     ]
    }
   ],
   "source": [
    "%%time\n",
    "random.seed(1)\n",
    "\n",
    "PARAMS['n_cols'] = 100\n",
    "EV_PARAMS['gems'] = True\n",
    "EV_PARAMS['j_box_size'] = 10\n",
    "\n",
    "key = '100,True,10'\n",
    "results = run_experiment(PARAMS, EV_PARAMS)\n",
    "train_measurements[key] = results[0]\n",
    "test_measurements[key] = results[1]"
   ]
  },
  {
   "cell_type": "code",
   "execution_count": 14,
   "metadata": {},
   "outputs": [
    {
     "data": {
      "text/html": [
       "<div>\n",
       "<style>\n",
       "    .dataframe thead tr:only-child th {\n",
       "        text-align: right;\n",
       "    }\n",
       "\n",
       "    .dataframe thead th {\n",
       "        text-align: left;\n",
       "    }\n",
       "\n",
       "    .dataframe tbody tr th {\n",
       "        vertical-align: top;\n",
       "    }\n",
       "</style>\n",
       "<table border=\"1\" class=\"dataframe\">\n",
       "  <thead>\n",
       "    <tr style=\"text-align: right;\">\n",
       "      <th></th>\n",
       "      <th>best fitness</th>\n",
       "      <th>mean of last gen</th>\n",
       "      <th>std of last gen</th>\n",
       "      <th>mean of best individual</th>\n",
       "      <th>std of best indvidiual</th>\n",
       "    </tr>\n",
       "  </thead>\n",
       "  <tbody>\n",
       "    <tr>\n",
       "      <th>10,false</th>\n",
       "      <td>-0.919598</td>\n",
       "      <td>-0.721206</td>\n",
       "      <td>0.191867</td>\n",
       "      <td>-0.898995</td>\n",
       "      <td>0.027173</td>\n",
       "    </tr>\n",
       "    <tr>\n",
       "      <th>50,false</th>\n",
       "      <td>-0.942211</td>\n",
       "      <td>-0.717990</td>\n",
       "      <td>0.227884</td>\n",
       "      <td>-0.922613</td>\n",
       "      <td>0.023322</td>\n",
       "    </tr>\n",
       "    <tr>\n",
       "      <th>100,false</th>\n",
       "      <td>-0.952261</td>\n",
       "      <td>-0.758191</td>\n",
       "      <td>0.244512</td>\n",
       "      <td>-0.939196</td>\n",
       "      <td>0.007351</td>\n",
       "    </tr>\n",
       "    <tr>\n",
       "      <th>10,True</th>\n",
       "      <td>-0.919598</td>\n",
       "      <td>-0.657186</td>\n",
       "      <td>0.167042</td>\n",
       "      <td>-0.889950</td>\n",
       "      <td>0.046067</td>\n",
       "    </tr>\n",
       "    <tr>\n",
       "      <th>50,True</th>\n",
       "      <td>-0.967337</td>\n",
       "      <td>-0.774271</td>\n",
       "      <td>0.198602</td>\n",
       "      <td>-0.920603</td>\n",
       "      <td>0.032744</td>\n",
       "    </tr>\n",
       "    <tr>\n",
       "      <th>100,True</th>\n",
       "      <td>-0.954774</td>\n",
       "      <td>-0.764121</td>\n",
       "      <td>0.192177</td>\n",
       "      <td>-0.931156</td>\n",
       "      <td>0.025946</td>\n",
       "    </tr>\n",
       "    <tr>\n",
       "      <th>10,True,10</th>\n",
       "      <td>-0.919598</td>\n",
       "      <td>-0.636784</td>\n",
       "      <td>0.189883</td>\n",
       "      <td>-0.911055</td>\n",
       "      <td>0.009481</td>\n",
       "    </tr>\n",
       "    <tr>\n",
       "      <th>50,True,10</th>\n",
       "      <td>-0.967337</td>\n",
       "      <td>-0.803719</td>\n",
       "      <td>0.195149</td>\n",
       "      <td>-0.939196</td>\n",
       "      <td>0.015683</td>\n",
       "    </tr>\n",
       "    <tr>\n",
       "      <th>100,True,10</th>\n",
       "      <td>-0.957286</td>\n",
       "      <td>-0.738995</td>\n",
       "      <td>0.215636</td>\n",
       "      <td>-0.940201</td>\n",
       "      <td>0.011721</td>\n",
       "    </tr>\n",
       "  </tbody>\n",
       "</table>\n",
       "</div>"
      ],
      "text/plain": [
       "             best fitness  mean of last gen  std of last gen  \\\n",
       "10,false        -0.919598         -0.721206         0.191867   \n",
       "50,false        -0.942211         -0.717990         0.227884   \n",
       "100,false       -0.952261         -0.758191         0.244512   \n",
       "10,True         -0.919598         -0.657186         0.167042   \n",
       "50,True         -0.967337         -0.774271         0.198602   \n",
       "100,True        -0.954774         -0.764121         0.192177   \n",
       "10,True,10      -0.919598         -0.636784         0.189883   \n",
       "50,True,10      -0.967337         -0.803719         0.195149   \n",
       "100,True,10     -0.957286         -0.738995         0.215636   \n",
       "\n",
       "             mean of best individual  std of best indvidiual  \n",
       "10,false                   -0.898995                0.027173  \n",
       "50,false                   -0.922613                0.023322  \n",
       "100,false                  -0.939196                0.007351  \n",
       "10,True                    -0.889950                0.046067  \n",
       "50,True                    -0.920603                0.032744  \n",
       "100,True                   -0.931156                0.025946  \n",
       "10,True,10                 -0.911055                0.009481  \n",
       "50,True,10                 -0.939196                0.015683  \n",
       "100,True,10                -0.940201                0.011721  "
      ]
     },
     "execution_count": 14,
     "metadata": {},
     "output_type": "execute_result"
    }
   ],
   "source": [
    "import pandas as pd\n",
    "df = pd.DataFrame.from_dict(train_measurements, orient='index')\n",
    "df.columns = ['best fitness', 'mean of last gen', 'std of last gen', 'mean of best individual', 'std of best indvidiual']\n",
    "df"
   ]
  },
  {
   "cell_type": "code",
   "execution_count": 15,
   "metadata": {},
   "outputs": [
    {
     "data": {
      "text/html": [
       "<div>\n",
       "<style>\n",
       "    .dataframe thead tr:only-child th {\n",
       "        text-align: right;\n",
       "    }\n",
       "\n",
       "    .dataframe thead th {\n",
       "        text-align: left;\n",
       "    }\n",
       "\n",
       "    .dataframe tbody tr th {\n",
       "        vertical-align: top;\n",
       "    }\n",
       "</style>\n",
       "<table border=\"1\" class=\"dataframe\">\n",
       "  <thead>\n",
       "    <tr style=\"text-align: right;\">\n",
       "      <th></th>\n",
       "      <th>best fitness</th>\n",
       "      <th>mean of last gen</th>\n",
       "      <th>std of last gen</th>\n",
       "      <th>mean of best individual</th>\n",
       "      <th>std of best indvidiual</th>\n",
       "    </tr>\n",
       "  </thead>\n",
       "  <tbody>\n",
       "    <tr>\n",
       "      <th>10,false</th>\n",
       "      <td>-0.900585</td>\n",
       "      <td>-0.711345</td>\n",
       "      <td>0.182403</td>\n",
       "      <td>-0.871345</td>\n",
       "      <td>0.034696</td>\n",
       "    </tr>\n",
       "    <tr>\n",
       "      <th>50,false</th>\n",
       "      <td>-0.929825</td>\n",
       "      <td>-0.699181</td>\n",
       "      <td>0.215567</td>\n",
       "      <td>-0.885380</td>\n",
       "      <td>0.032370</td>\n",
       "    </tr>\n",
       "    <tr>\n",
       "      <th>100,false</th>\n",
       "      <td>-0.923977</td>\n",
       "      <td>-0.737544</td>\n",
       "      <td>0.230278</td>\n",
       "      <td>-0.908772</td>\n",
       "      <td>0.012597</td>\n",
       "    </tr>\n",
       "    <tr>\n",
       "      <th>10,True</th>\n",
       "      <td>-0.923977</td>\n",
       "      <td>-0.655205</td>\n",
       "      <td>0.159120</td>\n",
       "      <td>-0.870175</td>\n",
       "      <td>0.050631</td>\n",
       "    </tr>\n",
       "    <tr>\n",
       "      <th>50,True</th>\n",
       "      <td>-0.976608</td>\n",
       "      <td>-0.764912</td>\n",
       "      <td>0.201950</td>\n",
       "      <td>-0.914620</td>\n",
       "      <td>0.050115</td>\n",
       "    </tr>\n",
       "    <tr>\n",
       "      <th>100,True</th>\n",
       "      <td>-0.912281</td>\n",
       "      <td>-0.746199</td>\n",
       "      <td>0.174594</td>\n",
       "      <td>-0.894737</td>\n",
       "      <td>0.027179</td>\n",
       "    </tr>\n",
       "    <tr>\n",
       "      <th>10,True,10</th>\n",
       "      <td>-0.923977</td>\n",
       "      <td>-0.630409</td>\n",
       "      <td>0.184195</td>\n",
       "      <td>-0.884211</td>\n",
       "      <td>0.020393</td>\n",
       "    </tr>\n",
       "    <tr>\n",
       "      <th>50,True,10</th>\n",
       "      <td>-0.976608</td>\n",
       "      <td>-0.789942</td>\n",
       "      <td>0.188256</td>\n",
       "      <td>-0.907602</td>\n",
       "      <td>0.041252</td>\n",
       "    </tr>\n",
       "    <tr>\n",
       "      <th>100,True,10</th>\n",
       "      <td>-0.959064</td>\n",
       "      <td>-0.729123</td>\n",
       "      <td>0.206278</td>\n",
       "      <td>-0.920468</td>\n",
       "      <td>0.025784</td>\n",
       "    </tr>\n",
       "  </tbody>\n",
       "</table>\n",
       "</div>"
      ],
      "text/plain": [
       "             best fitness  mean of last gen  std of last gen  \\\n",
       "10,false        -0.900585         -0.711345         0.182403   \n",
       "50,false        -0.929825         -0.699181         0.215567   \n",
       "100,false       -0.923977         -0.737544         0.230278   \n",
       "10,True         -0.923977         -0.655205         0.159120   \n",
       "50,True         -0.976608         -0.764912         0.201950   \n",
       "100,True        -0.912281         -0.746199         0.174594   \n",
       "10,True,10      -0.923977         -0.630409         0.184195   \n",
       "50,True,10      -0.976608         -0.789942         0.188256   \n",
       "100,True,10     -0.959064         -0.729123         0.206278   \n",
       "\n",
       "             mean of best individual  std of best indvidiual  \n",
       "10,false                   -0.871345                0.034696  \n",
       "50,false                   -0.885380                0.032370  \n",
       "100,false                  -0.908772                0.012597  \n",
       "10,True                    -0.870175                0.050631  \n",
       "50,True                    -0.914620                0.050115  \n",
       "100,True                   -0.894737                0.027179  \n",
       "10,True,10                 -0.884211                0.020393  \n",
       "50,True,10                 -0.907602                0.041252  \n",
       "100,True,10                -0.920468                0.025784  "
      ]
     },
     "execution_count": 15,
     "metadata": {},
     "output_type": "execute_result"
    }
   ],
   "source": [
    "import pandas as pd\n",
    "df = pd.DataFrame.from_dict(test_measurements, orient='index')\n",
    "df.columns = ['best fitness', 'mean of last gen', 'std of last gen', 'mean of best individual', 'std of best indvidiual']\n",
    "df"
   ]
  },
  {
   "cell_type": "code",
   "execution_count": null,
   "metadata": {},
   "outputs": [],
   "source": []
  }
 ],
 "metadata": {
  "kernelspec": {
   "display_name": "Python 3",
   "language": "python",
   "name": "python3"
  },
  "language_info": {
   "codemirror_mode": {
    "name": "ipython",
    "version": 3
   },
   "file_extension": ".py",
   "mimetype": "text/x-python",
   "name": "python",
   "nbconvert_exporter": "python",
   "pygments_lexer": "ipython3",
   "version": "3.6.2"
  }
 },
 "nbformat": 4,
 "nbformat_minor": 2
}
