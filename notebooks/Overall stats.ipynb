{
 "cells": [
  {
   "cell_type": "markdown",
   "metadata": {},
   "source": [
    "# Gem stats analysis - symbolic regression"
   ]
  },
  {
   "cell_type": "code",
   "execution_count": 3,
   "metadata": {},
   "outputs": [],
   "source": [
    "import os\n",
    "import pickle\n",
    "from itertools import product\n",
    "\n",
    "import numpy as np\n",
    "import pandas as pd\n",
    "\n",
    "from pycgp import probabilistic_mutation, point_mutation, single_mutation\n",
    "from pycgp.gems import MatchByActiveStrategy, MatchSMStrategy, MatchPMStrategy, MatchPhenotypeStrategy\n",
    "\n",
    "from utils import DataIterator"
   ]
  },
  {
   "cell_type": "code",
   "execution_count": null,
   "metadata": {},
   "outputs": [],
   "source": [
    "\n"
   ]
  },
  {
   "cell_type": "code",
   "execution_count": 4,
   "metadata": {},
   "outputs": [],
   "source": [
    "symreg = DataIterator('scripts/symbolic_out/')\n",
    "bincls = DataIterator('scripts/bin_class_out/')\n",
    "santaf = DataIterator('scripts/santa_fe_out/')"
   ]
  },
  {
   "cell_type": "code",
   "execution_count": 5,
   "metadata": {},
   "outputs": [
    {
     "data": {
      "text/html": [
       "<div>\n",
       "<style scoped>\n",
       "    .dataframe tbody tr th:only-of-type {\n",
       "        vertical-align: middle;\n",
       "    }\n",
       "\n",
       "    .dataframe tbody tr th {\n",
       "        vertical-align: top;\n",
       "    }\n",
       "\n",
       "    .dataframe thead th {\n",
       "        text-align: right;\n",
       "    }\n",
       "</style>\n",
       "<table border=\"1\" class=\"dataframe\">\n",
       "  <thead>\n",
       "    <tr style=\"text-align: right;\">\n",
       "      <th></th>\n",
       "      <th>best mean</th>\n",
       "      <th>last generation mean</th>\n",
       "    </tr>\n",
       "    <tr>\n",
       "      <th>gems</th>\n",
       "      <th></th>\n",
       "      <th></th>\n",
       "    </tr>\n",
       "  </thead>\n",
       "  <tbody>\n",
       "    <tr>\n",
       "      <th>0</th>\n",
       "      <td>0.274295</td>\n",
       "      <td>1.409832</td>\n",
       "    </tr>\n",
       "    <tr>\n",
       "      <th>5</th>\n",
       "      <td>0.267794</td>\n",
       "      <td>3.053452</td>\n",
       "    </tr>\n",
       "    <tr>\n",
       "      <th>10</th>\n",
       "      <td>0.261354</td>\n",
       "      <td>3.818298</td>\n",
       "    </tr>\n",
       "  </tbody>\n",
       "</table>\n",
       "</div>"
      ],
      "text/plain": [
       "      best mean  last generation mean\n",
       "gems                                 \n",
       "0      0.274295              1.409832\n",
       "5      0.267794              3.053452\n",
       "10     0.261354              3.818298"
      ]
     },
     "execution_count": 5,
     "metadata": {},
     "output_type": "execute_result"
    }
   ],
   "source": [
    "data = []\n",
    "\n",
    "for m, s, g, c, d in symreg.iterate_folder():\n",
    "    mean_of_best_individual = np.mean([x['best'].fitness for x in d])\n",
    "    median_of_means_of_last_generations = np.median([x['mean_of_generation'][-1] for x in d])\n",
    "    data.append([g, mean_of_best_individual, median_of_means_of_last_generations])\n",
    "    \n",
    "df = pd.DataFrame(data)\n",
    "df.columns = ['gems', 'best mean', 'last generation mean']\n",
    "df.groupby('gems').mean()"
   ]
  },
  {
   "cell_type": "code",
   "execution_count": 5,
   "metadata": {},
   "outputs": [
    {
     "data": {
      "text/html": [
       "<div>\n",
       "<style scoped>\n",
       "    .dataframe tbody tr th:only-of-type {\n",
       "        vertical-align: middle;\n",
       "    }\n",
       "\n",
       "    .dataframe tbody tr th {\n",
       "        vertical-align: top;\n",
       "    }\n",
       "\n",
       "    .dataframe thead th {\n",
       "        text-align: right;\n",
       "    }\n",
       "</style>\n",
       "<table border=\"1\" class=\"dataframe\">\n",
       "  <thead>\n",
       "    <tr style=\"text-align: right;\">\n",
       "      <th></th>\n",
       "      <th>mean best train</th>\n",
       "      <th>mean best test</th>\n",
       "      <th>last generation mean</th>\n",
       "    </tr>\n",
       "    <tr>\n",
       "      <th>gems</th>\n",
       "      <th></th>\n",
       "      <th></th>\n",
       "      <th></th>\n",
       "    </tr>\n",
       "  </thead>\n",
       "  <tbody>\n",
       "    <tr>\n",
       "      <th>0</th>\n",
       "      <td>92.183417</td>\n",
       "      <td>0.893704</td>\n",
       "      <td>71.441039</td>\n",
       "    </tr>\n",
       "    <tr>\n",
       "      <th>5</th>\n",
       "      <td>92.239531</td>\n",
       "      <td>0.892495</td>\n",
       "      <td>70.858961</td>\n",
       "    </tr>\n",
       "    <tr>\n",
       "      <th>10</th>\n",
       "      <td>92.327471</td>\n",
       "      <td>0.895127</td>\n",
       "      <td>71.201340</td>\n",
       "    </tr>\n",
       "  </tbody>\n",
       "</table>\n",
       "</div>"
      ],
      "text/plain": [
       "      mean best train  mean best test  last generation mean\n",
       "gems                                                       \n",
       "0           92.183417        0.893704             71.441039\n",
       "5           92.239531        0.892495             70.858961\n",
       "10          92.327471        0.895127             71.201340"
      ]
     },
     "execution_count": 5,
     "metadata": {},
     "output_type": "execute_result"
    }
   ],
   "source": [
    "from pycgp.benchmarks.classification import cost_func, X_test, y_test\n",
    "\n",
    "data = []\n",
    "\n",
    "for m, s, g, c, d in bincls.iterate_folder():\n",
    "    train_errors = np.mean([-x['best'].fitness*100 for x in d])\n",
    "    test_errors  = np.mean([-cost_func(y_test, x['best'].execute(X_test)) for x in d])\n",
    "    median_of_means_of_last_generations = np.mean([-x['mean_of_generation'][-1]*100 for x in d])\n",
    "    data.append([g, train_errors, test_errors, median_of_means_of_last_generations])\n",
    "    \n",
    "df = pd.DataFrame(data)\n",
    "df.columns = ['gems', 'mean best train', 'mean best test', 'last generation mean']\n",
    "df.groupby('gems').mean()"
   ]
  },
  {
   "cell_type": "code",
   "execution_count": 6,
   "metadata": {},
   "outputs": [
    {
     "data": {
      "text/html": [
       "<div>\n",
       "<style scoped>\n",
       "    .dataframe tbody tr th:only-of-type {\n",
       "        vertical-align: middle;\n",
       "    }\n",
       "\n",
       "    .dataframe tbody tr th {\n",
       "        vertical-align: top;\n",
       "    }\n",
       "\n",
       "    .dataframe thead th {\n",
       "        text-align: right;\n",
       "    }\n",
       "</style>\n",
       "<table border=\"1\" class=\"dataframe\">\n",
       "  <thead>\n",
       "    <tr style=\"text-align: right;\">\n",
       "      <th></th>\n",
       "      <th>best mean</th>\n",
       "      <th>last generation mean</th>\n",
       "    </tr>\n",
       "    <tr>\n",
       "      <th>gems</th>\n",
       "      <th></th>\n",
       "      <th></th>\n",
       "    </tr>\n",
       "  </thead>\n",
       "  <tbody>\n",
       "    <tr>\n",
       "      <th>0</th>\n",
       "      <td>53.606667</td>\n",
       "      <td>33.517333</td>\n",
       "    </tr>\n",
       "    <tr>\n",
       "      <th>5</th>\n",
       "      <td>56.003333</td>\n",
       "      <td>34.855333</td>\n",
       "    </tr>\n",
       "    <tr>\n",
       "      <th>10</th>\n",
       "      <td>55.610000</td>\n",
       "      <td>34.954667</td>\n",
       "    </tr>\n",
       "  </tbody>\n",
       "</table>\n",
       "</div>"
      ],
      "text/plain": [
       "      best mean  last generation mean\n",
       "gems                                 \n",
       "0     53.606667             33.517333\n",
       "5     56.003333             34.855333\n",
       "10    55.610000             34.954667"
      ]
     },
     "execution_count": 6,
     "metadata": {},
     "output_type": "execute_result"
    }
   ],
   "source": [
    "data = []\n",
    "\n",
    "for m, s, g, c, d in santaf.iterate_folder():\n",
    "    mean_of_best_individual = np.mean([-x['best'].fitness for x in d])\n",
    "    median_of_means_of_last_generations = np.mean([-x['mean_of_generation'][-1] for x in d])\n",
    "    data.append([g, mean_of_best_individual, median_of_means_of_last_generations])\n",
    "    \n",
    "df = pd.DataFrame(data)\n",
    "df.columns = ['gems', 'best mean', 'last generation mean']\n",
    "df.groupby('gems').mean()"
   ]
  },
  {
   "cell_type": "code",
   "execution_count": null,
   "metadata": {},
   "outputs": [],
   "source": []
  }
 ],
 "metadata": {
  "kernelspec": {
   "display_name": "Python 3",
   "language": "python",
   "name": "python3"
  },
  "language_info": {
   "codemirror_mode": {
    "name": "ipython",
    "version": 3
   },
   "file_extension": ".py",
   "mimetype": "text/x-python",
   "name": "python",
   "nbconvert_exporter": "python",
   "pygments_lexer": "ipython3",
   "version": "3.6.2"
  }
 },
 "nbformat": 4,
 "nbformat_minor": 2
}
