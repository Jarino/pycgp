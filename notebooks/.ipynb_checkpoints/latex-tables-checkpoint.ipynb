{
 "cells": [
  {
   "cell_type": "code",
   "execution_count": 25,
   "metadata": {},
   "outputs": [],
   "source": [
    "from pycgp import single_mutation, point_mutation, probabilistic_mutation\n",
    "from pycgp.gems import MatchByActiveStrategy, MatchPMStrategy, MatchSMStrategy\n",
    "\n",
    "from utils import load_data, aggregate_statistics, plot_fitnesses, plot_distributions\n",
    "\n",
    "mutations = [\n",
    "        (single_mutation, MatchSMStrategy),\n",
    "        (point_mutation, MatchPMStrategy),\n",
    "        (probabilistic_mutation, MatchSMStrategy),\n",
    "        (single_mutation, MatchByActiveStrategy),\n",
    "        (probabilistic_mutation, MatchByActiveStrategy)]\n",
    "\n",
    "def print_latex_columns(folder, minus=False, key='best'):\n",
    "    has_test = False\n",
    "    if key=='test_error':\n",
    "        has_test=True\n",
    "        \n",
    "    data = aggregate_statistics(folder, mutations, has_test_error=has_test)\n",
    "\n",
    "    rows = []\n",
    "\n",
    "    bitfilter = (data.mutation == 'point_mutation')\n",
    "\n",
    "    for x in data[bitfilter].groupby(['gems', 'columns']).mean().iterrows():\n",
    "        if minus:\n",
    "            row = [x[0][-2], x[0][-1], '{:.3f} & {:.3f}'.format(-x[1][key], -x[1]['mean'])]\n",
    "        else:\n",
    "            row = [x[0][-2], x[0][-1], '{:.3f} & {:.3f}'.format(x[1][key], x[1]['mean'])]\n",
    "        row = [str(i) for i in row]\n",
    "        rows.append((' & '.join(row)))\n",
    "\n",
    "        bitfilter = (data.mutation == 'single_mutation') & (data.strategy == 'MatchSMStrategy')\n",
    "\n",
    "    for i, x in enumerate(data[bitfilter].groupby(['gems', 'columns']).mean().iterrows()):\n",
    "        \n",
    "        if minus:\n",
    "            rows[i] += ' & {:.3f} & {:.3f}'.format(-x[1][key], -x[1]['mean'])\n",
    "        else:\n",
    "            rows[i] += ' & {:.3f} & {:.3f}'.format(x[1][key], x[1]['mean'])\n",
    "\n",
    "    bitfilter = (data.mutation == 'single_mutation') & (data.strategy == 'MatchByActiveStrategy')\n",
    "\n",
    "    for i, x in enumerate(data[bitfilter].groupby(['gems', 'columns']).mean().iterrows()):\n",
    "        if minus:\n",
    "            rows[i] += ' & {:.3f} & {:.3f}'.format(-x[1][key], -x[1]['mean'])\n",
    "        else:\n",
    "            rows[i] += ' & {:.3f} & {:.3f}'.format(x[1][key], x[1]['mean'])\n",
    "\n",
    "    bitfilter = (data.mutation == 'probabilistic_mutation') & (data.strategy == 'MatchByActiveStrategy')\n",
    "\n",
    "    for i, x in enumerate(data[bitfilter].groupby(['gems', 'columns']).mean().iterrows()):\n",
    "        if minus:\n",
    "            rows[i] += ' & {:.3f} & {:.3f} \\\\\\\\'.format(-x[1][key], -x[1]['mean'])\n",
    "        else:\n",
    "            rows[i] += ' & {:.3f} & {:.3f} \\\\\\\\'.format(x[1][key], x[1]['mean'])\n",
    "\n",
    "    for x in rows:\n",
    "        print(x)\n"
   ]
  },
  {
   "cell_type": "code",
   "execution_count": 27,
   "metadata": {},
   "outputs": [
    {
     "name": "stdout",
     "output_type": "stream",
     "text": [
      "Index(['best', 'mean', 'std', 'avg_gem_count', 'gem_better', 'gem_worse'], dtype='object')\n",
      "Index(['best', 'mean', 'std', 'avg_gem_count', 'gem_better', 'gem_worse'], dtype='object')\n",
      "Index(['best', 'mean', 'std', 'avg_gem_count', 'gem_better', 'gem_worse'], dtype='object')\n",
      "Index(['best', 'mean', 'std', 'avg_gem_count', 'gem_better', 'gem_worse'], dtype='object')\n",
      "Index(['best', 'mean', 'std', 'avg_gem_count', 'gem_better', 'gem_worse'], dtype='object')\n",
      "Index(['best', 'mean', 'std', 'avg_gem_count', 'gem_better', 'gem_worse'], dtype='object')\n",
      "Index(['best', 'mean', 'std', 'avg_gem_count', 'gem_better', 'gem_worse'], dtype='object')\n",
      "Index(['best', 'mean', 'std', 'avg_gem_count', 'gem_better', 'gem_worse'], dtype='object')\n",
      "Index(['best', 'mean', 'std', 'avg_gem_count', 'gem_better', 'gem_worse'], dtype='object')\n",
      "0 & 10 & 0.121 & 21.805 & 0.164 & 18.947 & 0.164 & 18.947 & 0.121 & 502.663 \\\\\n",
      "0 & 50 & 0.000 & 0.004 & 0.198 & 136.767 & 0.198 & 136.767 & 0.000 & 6.679 \\\\\n",
      "0 & 100 & 0.118 & 0.120 & 0.000 & 8701.383 & 0.000 & 8701.383 & 0.000 & 1.543 \\\\\n",
      "5 & 10 & 0.095 & 0.367 & 0.000 & 0.289 & 0.000 & 101.476 & 0.000 & 25.404 \\\\\n",
      "5 & 50 & 0.000 & 0.193 & 0.055 & 1213.768 & 0.048 & 0.927 & 0.000 & 1.339 \\\\\n",
      "5 & 100 & 0.055 & 0.057 & 0.000 & 0.826 & 0.000 & 26.530 & 0.081 & 1.853 \\\\\n",
      "10 & 10 & 0.160 & 0.414 & 0.174 & 1.163 & 0.000 & 101.476 & 0.000 & 14.087 \\\\\n",
      "10 & 50 & 0.000 & 0.067 & 0.104 & 0.187 & 0.000 & 1.969 & 0.000 & 43.976 \\\\\n",
      "10 & 100 & 0.000 & 0.240 & 0.096 & 0.413 & 0.045 & 7316.465 & 0.000 & 25.623 \\\\\n"
     ]
    }
   ],
   "source": [
    "print_latex_columns('scripts/symbolic_out_pypy')"
   ]
  },
  {
   "cell_type": "code",
   "execution_count": 17,
   "metadata": {},
   "outputs": [
    {
     "name": "stdout",
     "output_type": "stream",
     "text": [
      "0 & 10 & 0.901 & 0.874 & 0.912 & 0.700 & 0.912 & 0.700 & 0.883 & 0.737 \\\\\n",
      "0 & 50 & 0.918 & 0.937 & 0.918 & 0.701 & 0.918 & 0.701 & 0.924 & 0.725 \\\\\n",
      "0 & 100 & 0.936 & 0.965 & 0.936 & 0.806 & 0.936 & 0.806 & 0.953 & 0.606 \\\\\n",
      "5 & 10 & 0.918 & 0.948 & 0.930 & 0.904 & 0.883 & 0.753 & 0.936 & 0.754 \\\\\n",
      "5 & 50 & 0.936 & 0.847 & 0.947 & 0.669 & 0.918 & 0.862 & 0.930 & 0.771 \\\\\n",
      "5 & 100 & 0.901 & 0.958 & 0.924 & 0.837 & 0.953 & 0.890 & 0.924 & 0.712 \\\\\n",
      "10 & 10 & 0.930 & 0.862 & 0.924 & 0.850 & 0.883 & 0.753 & 0.936 & 0.754 \\\\\n",
      "10 & 50 & 0.883 & 0.889 & 0.947 & 0.885 & 0.953 & 0.729 & 0.942 & 0.735 \\\\\n",
      "10 & 100 & 0.906 & 0.960 & 0.895 & 0.945 & 0.953 & 0.858 & 0.924 & 0.712 \\\\\n"
     ]
    }
   ],
   "source": [
    "print_latex_columns('scripts/bin_class_out/', minus=True, key='test_error')"
   ]
  },
  {
   "cell_type": "code",
   "execution_count": 26,
   "metadata": {},
   "outputs": [
    {
     "name": "stdout",
     "output_type": "stream",
     "text": [
      "Index(['mean', 'std', 'avg_gem_count', 'gem_better', 'gem_worse'], dtype='object')\n"
     ]
    },
    {
     "ename": "KeyError",
     "evalue": "'best'",
     "output_type": "error",
     "traceback": [
      "\u001b[0;31m---------------------------------------------------------------\u001b[0m",
      "\u001b[0;31mTypeError\u001b[0m                     Traceback (most recent call last)",
      "\u001b[0;32m~/anaconda3/lib/python3.6/site-packages/pandas/core/indexes/base.py\u001b[0m in \u001b[0;36mget_value\u001b[0;34m(self, series, key)\u001b[0m\n\u001b[1;32m   2565\u001b[0m             \u001b[0;32mtry\u001b[0m\u001b[0;34m:\u001b[0m\u001b[0;34m\u001b[0m\u001b[0m\n\u001b[0;32m-> 2566\u001b[0;31m                 \u001b[0;32mreturn\u001b[0m \u001b[0mlibts\u001b[0m\u001b[0;34m.\u001b[0m\u001b[0mget_value_box\u001b[0m\u001b[0;34m(\u001b[0m\u001b[0ms\u001b[0m\u001b[0;34m,\u001b[0m \u001b[0mkey\u001b[0m\u001b[0;34m)\u001b[0m\u001b[0;34m\u001b[0m\u001b[0m\n\u001b[0m\u001b[1;32m   2567\u001b[0m             \u001b[0;32mexcept\u001b[0m \u001b[0mIndexError\u001b[0m\u001b[0;34m:\u001b[0m\u001b[0;34m\u001b[0m\u001b[0m\n",
      "\u001b[0;32mpandas/_libs/tslib.pyx\u001b[0m in \u001b[0;36mpandas._libs.tslib.get_value_box\u001b[0;34m()\u001b[0m\n",
      "\u001b[0;32mpandas/_libs/tslib.pyx\u001b[0m in \u001b[0;36mpandas._libs.tslib.get_value_box\u001b[0;34m()\u001b[0m\n",
      "\u001b[0;31mTypeError\u001b[0m: 'str' object cannot be interpreted as an integer",
      "\nDuring handling of the above exception, another exception occurred:\n",
      "\u001b[0;31mKeyError\u001b[0m                      Traceback (most recent call last)",
      "\u001b[0;32m<ipython-input-26-f63580f0d04f>\u001b[0m in \u001b[0;36m<module>\u001b[0;34m()\u001b[0m\n\u001b[0;32m----> 1\u001b[0;31m \u001b[0mprint_latex_columns\u001b[0m\u001b[0;34m(\u001b[0m\u001b[0;34m'scripts/santa_fe_out/'\u001b[0m\u001b[0;34m,\u001b[0m \u001b[0mminus\u001b[0m\u001b[0;34m=\u001b[0m\u001b[0;32mTrue\u001b[0m\u001b[0;34m)\u001b[0m\u001b[0;34m\u001b[0m\u001b[0m\n\u001b[0m",
      "\u001b[0;32m<ipython-input-25-931c9185a475>\u001b[0m in \u001b[0;36mprint_latex_columns\u001b[0;34m(folder, minus, key)\u001b[0m\n\u001b[1;32m     25\u001b[0m         \u001b[0mprint\u001b[0m\u001b[0;34m(\u001b[0m\u001b[0mx\u001b[0m\u001b[0;34m[\u001b[0m\u001b[0;36m1\u001b[0m\u001b[0;34m]\u001b[0m\u001b[0;34m.\u001b[0m\u001b[0mkeys\u001b[0m\u001b[0;34m(\u001b[0m\u001b[0;34m)\u001b[0m\u001b[0;34m)\u001b[0m\u001b[0;34m\u001b[0m\u001b[0m\n\u001b[1;32m     26\u001b[0m         \u001b[0;32mif\u001b[0m \u001b[0mminus\u001b[0m\u001b[0;34m:\u001b[0m\u001b[0;34m\u001b[0m\u001b[0m\n\u001b[0;32m---> 27\u001b[0;31m             \u001b[0mrow\u001b[0m \u001b[0;34m=\u001b[0m \u001b[0;34m[\u001b[0m\u001b[0mx\u001b[0m\u001b[0;34m[\u001b[0m\u001b[0;36m0\u001b[0m\u001b[0;34m]\u001b[0m\u001b[0;34m[\u001b[0m\u001b[0;34m-\u001b[0m\u001b[0;36m2\u001b[0m\u001b[0;34m]\u001b[0m\u001b[0;34m,\u001b[0m \u001b[0mx\u001b[0m\u001b[0;34m[\u001b[0m\u001b[0;36m0\u001b[0m\u001b[0;34m]\u001b[0m\u001b[0;34m[\u001b[0m\u001b[0;34m-\u001b[0m\u001b[0;36m1\u001b[0m\u001b[0;34m]\u001b[0m\u001b[0;34m,\u001b[0m \u001b[0;34m'{:.3f} & {:.3f}'\u001b[0m\u001b[0;34m.\u001b[0m\u001b[0mformat\u001b[0m\u001b[0;34m(\u001b[0m\u001b[0;34m-\u001b[0m\u001b[0mx\u001b[0m\u001b[0;34m[\u001b[0m\u001b[0;36m1\u001b[0m\u001b[0;34m]\u001b[0m\u001b[0;34m[\u001b[0m\u001b[0mkey\u001b[0m\u001b[0;34m]\u001b[0m\u001b[0;34m,\u001b[0m \u001b[0;34m-\u001b[0m\u001b[0mx\u001b[0m\u001b[0;34m[\u001b[0m\u001b[0;36m1\u001b[0m\u001b[0;34m]\u001b[0m\u001b[0;34m[\u001b[0m\u001b[0;34m'mean'\u001b[0m\u001b[0;34m]\u001b[0m\u001b[0;34m)\u001b[0m\u001b[0;34m]\u001b[0m\u001b[0;34m\u001b[0m\u001b[0m\n\u001b[0m\u001b[1;32m     28\u001b[0m         \u001b[0;32melse\u001b[0m\u001b[0;34m:\u001b[0m\u001b[0;34m\u001b[0m\u001b[0m\n\u001b[1;32m     29\u001b[0m             \u001b[0mrow\u001b[0m \u001b[0;34m=\u001b[0m \u001b[0;34m[\u001b[0m\u001b[0mx\u001b[0m\u001b[0;34m[\u001b[0m\u001b[0;36m0\u001b[0m\u001b[0;34m]\u001b[0m\u001b[0;34m[\u001b[0m\u001b[0;34m-\u001b[0m\u001b[0;36m2\u001b[0m\u001b[0;34m]\u001b[0m\u001b[0;34m,\u001b[0m \u001b[0mx\u001b[0m\u001b[0;34m[\u001b[0m\u001b[0;36m0\u001b[0m\u001b[0;34m]\u001b[0m\u001b[0;34m[\u001b[0m\u001b[0;34m-\u001b[0m\u001b[0;36m1\u001b[0m\u001b[0;34m]\u001b[0m\u001b[0;34m,\u001b[0m \u001b[0;34m'{:.3f} & {:.3f}'\u001b[0m\u001b[0;34m.\u001b[0m\u001b[0mformat\u001b[0m\u001b[0;34m(\u001b[0m\u001b[0mx\u001b[0m\u001b[0;34m[\u001b[0m\u001b[0;36m1\u001b[0m\u001b[0;34m]\u001b[0m\u001b[0;34m[\u001b[0m\u001b[0mkey\u001b[0m\u001b[0;34m]\u001b[0m\u001b[0;34m,\u001b[0m \u001b[0mx\u001b[0m\u001b[0;34m[\u001b[0m\u001b[0;36m1\u001b[0m\u001b[0;34m]\u001b[0m\u001b[0;34m[\u001b[0m\u001b[0;34m'mean'\u001b[0m\u001b[0;34m]\u001b[0m\u001b[0;34m)\u001b[0m\u001b[0;34m]\u001b[0m\u001b[0;34m\u001b[0m\u001b[0m\n",
      "\u001b[0;32m~/anaconda3/lib/python3.6/site-packages/pandas/core/series.py\u001b[0m in \u001b[0;36m__getitem__\u001b[0;34m(self, key)\u001b[0m\n\u001b[1;32m    621\u001b[0m         \u001b[0mkey\u001b[0m \u001b[0;34m=\u001b[0m \u001b[0mcom\u001b[0m\u001b[0;34m.\u001b[0m\u001b[0m_apply_if_callable\u001b[0m\u001b[0;34m(\u001b[0m\u001b[0mkey\u001b[0m\u001b[0;34m,\u001b[0m \u001b[0mself\u001b[0m\u001b[0;34m)\u001b[0m\u001b[0;34m\u001b[0m\u001b[0m\n\u001b[1;32m    622\u001b[0m         \u001b[0;32mtry\u001b[0m\u001b[0;34m:\u001b[0m\u001b[0;34m\u001b[0m\u001b[0m\n\u001b[0;32m--> 623\u001b[0;31m             \u001b[0mresult\u001b[0m \u001b[0;34m=\u001b[0m \u001b[0mself\u001b[0m\u001b[0;34m.\u001b[0m\u001b[0mindex\u001b[0m\u001b[0;34m.\u001b[0m\u001b[0mget_value\u001b[0m\u001b[0;34m(\u001b[0m\u001b[0mself\u001b[0m\u001b[0;34m,\u001b[0m \u001b[0mkey\u001b[0m\u001b[0;34m)\u001b[0m\u001b[0;34m\u001b[0m\u001b[0m\n\u001b[0m\u001b[1;32m    624\u001b[0m \u001b[0;34m\u001b[0m\u001b[0m\n\u001b[1;32m    625\u001b[0m             \u001b[0;32mif\u001b[0m \u001b[0;32mnot\u001b[0m \u001b[0mis_scalar\u001b[0m\u001b[0;34m(\u001b[0m\u001b[0mresult\u001b[0m\u001b[0;34m)\u001b[0m\u001b[0;34m:\u001b[0m\u001b[0;34m\u001b[0m\u001b[0m\n",
      "\u001b[0;32m~/anaconda3/lib/python3.6/site-packages/pandas/core/indexes/base.py\u001b[0m in \u001b[0;36mget_value\u001b[0;34m(self, series, key)\u001b[0m\n\u001b[1;32m   2572\u001b[0m                     \u001b[0;32mraise\u001b[0m \u001b[0mInvalidIndexError\u001b[0m\u001b[0;34m(\u001b[0m\u001b[0mkey\u001b[0m\u001b[0;34m)\u001b[0m\u001b[0;34m\u001b[0m\u001b[0m\n\u001b[1;32m   2573\u001b[0m                 \u001b[0;32melse\u001b[0m\u001b[0;34m:\u001b[0m\u001b[0;34m\u001b[0m\u001b[0m\n\u001b[0;32m-> 2574\u001b[0;31m                     \u001b[0;32mraise\u001b[0m \u001b[0me1\u001b[0m\u001b[0;34m\u001b[0m\u001b[0m\n\u001b[0m\u001b[1;32m   2575\u001b[0m             \u001b[0;32mexcept\u001b[0m \u001b[0mException\u001b[0m\u001b[0;34m:\u001b[0m  \u001b[0;31m# pragma: no cover\u001b[0m\u001b[0;34m\u001b[0m\u001b[0m\n\u001b[1;32m   2576\u001b[0m                 \u001b[0;32mraise\u001b[0m \u001b[0me1\u001b[0m\u001b[0;34m\u001b[0m\u001b[0m\n",
      "\u001b[0;32m~/anaconda3/lib/python3.6/site-packages/pandas/core/indexes/base.py\u001b[0m in \u001b[0;36mget_value\u001b[0;34m(self, series, key)\u001b[0m\n\u001b[1;32m   2558\u001b[0m         \u001b[0;32mtry\u001b[0m\u001b[0;34m:\u001b[0m\u001b[0;34m\u001b[0m\u001b[0m\n\u001b[1;32m   2559\u001b[0m             return self._engine.get_value(s, k,\n\u001b[0;32m-> 2560\u001b[0;31m                                           tz=getattr(series.dtype, 'tz', None))\n\u001b[0m\u001b[1;32m   2561\u001b[0m         \u001b[0;32mexcept\u001b[0m \u001b[0mKeyError\u001b[0m \u001b[0;32mas\u001b[0m \u001b[0me1\u001b[0m\u001b[0;34m:\u001b[0m\u001b[0;34m\u001b[0m\u001b[0m\n\u001b[1;32m   2562\u001b[0m             \u001b[0;32mif\u001b[0m \u001b[0mlen\u001b[0m\u001b[0;34m(\u001b[0m\u001b[0mself\u001b[0m\u001b[0;34m)\u001b[0m \u001b[0;34m>\u001b[0m \u001b[0;36m0\u001b[0m \u001b[0;32mand\u001b[0m \u001b[0mself\u001b[0m\u001b[0;34m.\u001b[0m\u001b[0minferred_type\u001b[0m \u001b[0;32min\u001b[0m \u001b[0;34m[\u001b[0m\u001b[0;34m'integer'\u001b[0m\u001b[0;34m,\u001b[0m \u001b[0;34m'boolean'\u001b[0m\u001b[0;34m]\u001b[0m\u001b[0;34m:\u001b[0m\u001b[0;34m\u001b[0m\u001b[0m\n",
      "\u001b[0;32mpandas/_libs/index.pyx\u001b[0m in \u001b[0;36mpandas._libs.index.IndexEngine.get_value\u001b[0;34m()\u001b[0m\n",
      "\u001b[0;32mpandas/_libs/index.pyx\u001b[0m in \u001b[0;36mpandas._libs.index.IndexEngine.get_value\u001b[0;34m()\u001b[0m\n",
      "\u001b[0;32mpandas/_libs/index.pyx\u001b[0m in \u001b[0;36mpandas._libs.index.IndexEngine.get_loc\u001b[0;34m()\u001b[0m\n",
      "\u001b[0;32mpandas/_libs/hashtable_class_helper.pxi\u001b[0m in \u001b[0;36mpandas._libs.hashtable.PyObjectHashTable.get_item\u001b[0;34m()\u001b[0m\n",
      "\u001b[0;32mpandas/_libs/hashtable_class_helper.pxi\u001b[0m in \u001b[0;36mpandas._libs.hashtable.PyObjectHashTable.get_item\u001b[0;34m()\u001b[0m\n",
      "\u001b[0;31mKeyError\u001b[0m: 'best'"
     ]
    }
   ],
   "source": [
    "print_latex_columns('scripts/santa_fe_out/', minus=True)"
   ]
  },
  {
   "cell_type": "code",
   "execution_count": null,
   "metadata": {},
   "outputs": [],
   "source": []
  }
 ],
 "metadata": {
  "kernelspec": {
   "display_name": "Python 3",
   "language": "python",
   "name": "python3"
  },
  "language_info": {
   "codemirror_mode": {
    "name": "ipython",
    "version": 3
   },
   "file_extension": ".py",
   "mimetype": "text/x-python",
   "name": "python",
   "nbconvert_exporter": "python",
   "pygments_lexer": "ipython3",
   "version": "3.6.2"
  }
 },
 "nbformat": 4,
 "nbformat_minor": 2
}
