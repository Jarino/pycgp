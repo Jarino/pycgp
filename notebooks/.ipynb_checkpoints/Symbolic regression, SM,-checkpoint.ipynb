{
 "cells": [
  {
   "cell_type": "markdown",
   "metadata": {},
   "source": [
    "# Symbolic regression benchmark, Single mutation"
   ]
  },
  {
   "cell_type": "code",
   "execution_count": 1,
   "metadata": {
    "collapsed": true
   },
   "outputs": [],
   "source": [
    "from pycgp.benchmarks.symbolic import PARAMS, EV_PARAMS, X, y, target_function\n",
    "from pycgp.evolution import evolution\n",
    "from pycgp.counter import Counter\n",
    "import random\n",
    "import numpy as np"
   ]
  },
  {
   "cell_type": "code",
   "execution_count": 2,
   "metadata": {
    "collapsed": true
   },
   "outputs": [],
   "source": [
    "def run_experiment(params, ev_params, x, y):\n",
    "    rstat = []\n",
    "    n_better = []\n",
    "    n_worse = []\n",
    "    n_same = []\n",
    "    for i in range(0, 10):\n",
    "        print(i, end=', ')\n",
    "\n",
    "        result = evolution(PARAMS, EV_PARAMS, X, y)\n",
    "\n",
    "        rstat.append([EV_PARAMS['cost_func'](y, individual.execute(X)) for individual in result['final']])\n",
    "        n_better.append(Counter.get().dict['g_better'])\n",
    "        n_worse.append(Counter.get().dict['g_worse'])\n",
    "        n_same.append(Counter.get().dict['g_same_as_parent'])\n",
    "    \n",
    "    #print('Best fitness: {}'.format(np.min(stats)))\n",
    "    #print('mean and std of fitness of last generation: {}, {}'.format(np.mean(stats), np.std(stats)))\n",
    "    #print('Mean and std of best fitness: {}, {}'.format(np.mean(np.min(stats, axis=1)), np.std(np.min(stats, axis=1))))\n",
    "    # best fitness, mean of last generation, std of last generation, mean of best individual, std of best individual\n",
    "    results = [\n",
    "        np.min(rstat), np.mean(rstat), np.std(rstat), np.mean(np.min(rstat, axis=1)), np.std(np.min(rstat, axis=1)),\n",
    "        np.sum(n_better), np.mean(n_better),\n",
    "        np.sum(n_worse), np.mean(n_worse),\n",
    "        np.sum(n_same), np.mean(n_same)\n",
    "    ]\n",
    "    print(results)\n",
    "    return results"
   ]
  },
  {
   "cell_type": "markdown",
   "metadata": {},
   "source": [
    "## Single mutation"
   ]
  },
  {
   "cell_type": "code",
   "execution_count": 3,
   "metadata": {
    "collapsed": true
   },
   "outputs": [],
   "source": [
    "from pycgp.mutation import single_mutation\n",
    "from pycgp.gems import MatchSMStrategy, GemSM\n",
    "EV_PARAMS['gem_type'] = GemSM\n",
    "EV_PARAMS['match_strategy'] = MatchSMStrategy\n",
    "EV_PARAMS['mutation'] = single_mutation\n",
    "all_measurements = {}"
   ]
  },
  {
   "cell_type": "markdown",
   "metadata": {},
   "source": [
    "### SM, 10 nodes"
   ]
  },
  {
   "cell_type": "code",
   "execution_count": 4,
   "metadata": {},
   "outputs": [
    {
     "name": "stdout",
     "output_type": "stream",
     "text": [
      "0, 1, 2, 3, 4, 5, 6, 7, 8, 9, [0.16776289758895796, 1.584563250285287e+23, 1.109194275199701e+24, 0.40331497555146323, 0.11326392653235846, 0, 0.0, 0, 0.0, 0, 0.0]\n",
      "CPU times: user 1min 29s, sys: 62.5 ms, total: 1min 29s\n",
      "Wall time: 1min 29s\n"
     ]
    }
   ],
   "source": [
    "%%time\n",
    "random.seed(1)\n",
    "\n",
    "PARAMS['n_cols']      = 10\n",
    "EV_PARAMS['gems']     = False\n",
    "\n",
    "all_measurements['10,false'] = run_experiment(PARAMS, EV_PARAMS, X, y)"
   ]
  },
  {
   "cell_type": "markdown",
   "metadata": {},
   "source": [
    "### SM, 50 nodes"
   ]
  },
  {
   "cell_type": "code",
   "execution_count": 5,
   "metadata": {},
   "outputs": [
    {
     "name": "stdout",
     "output_type": "stream",
     "text": [
      "0, 1, 2, 3, 4, 5, 6, 7, 8, 9, [0.0, 0.82675346161707552, 1.198642971015931, 0.28172411662416363, 0.14874260493227323, 0, 0.0, 0, 0.0, 0, 0.0]\n",
      "CPU times: user 2min 54s, sys: 172 ms, total: 2min 54s\n",
      "Wall time: 2min 54s\n"
     ]
    }
   ],
   "source": [
    "%%time\n",
    "random.seed(1)\n",
    "\n",
    "PARAMS['n_cols']      = 50\n",
    "EV_PARAMS['gems']     = False\n",
    "\n",
    "all_measurements['50,false'] = run_experiment(PARAMS, EV_PARAMS, X, y)"
   ]
  },
  {
   "cell_type": "markdown",
   "metadata": {},
   "source": [
    "### SM, 100 nodes"
   ]
  },
  {
   "cell_type": "code",
   "execution_count": 6,
   "metadata": {},
   "outputs": [
    {
     "name": "stdout",
     "output_type": "stream",
     "text": [
      "0, 1, 2, 3, 4, 5, 6, 7, 8, 9, [0.12187932192563014, 1.7690668659154296e+23, 1.2383468061408008e+24, 0.28906797740086415, 0.094108171804113211, 0, 0.0, 0, 0.0, 0, 0.0]\n",
      "CPU times: user 4min 27s, sys: 93.8 ms, total: 4min 27s\n",
      "Wall time: 4min 27s\n"
     ]
    }
   ],
   "source": [
    "%%time\n",
    "random.seed(1)\n",
    "\n",
    "PARAMS['n_cols']      = 100\n",
    "EV_PARAMS['gems']     = False\n",
    "\n",
    "all_measurements['100,false'] = run_experiment(PARAMS, EV_PARAMS, X, y)"
   ]
  },
  {
   "cell_type": "markdown",
   "metadata": {},
   "source": [
    "### SM, 10 nodes, gems"
   ]
  },
  {
   "cell_type": "code",
   "execution_count": 7,
   "metadata": {},
   "outputs": [
    {
     "name": "stdout",
     "output_type": "stream",
     "text": [
      "0, 1, 2, 3, 4, 5, 6, 7, 8, 9, [0.19858953760134257, 2.8771710086456177, 12.418778426452894, 0.31067318277594669, 0.11060067012086246, 1833, 183.30000000000001, 3922, 392.19999999999999, 0, 0.0]\n",
      "CPU times: user 1min 37s, sys: 78.1 ms, total: 1min 38s\n",
      "Wall time: 1min 38s\n"
     ]
    }
   ],
   "source": [
    "%%time\n",
    "random.seed(1)\n",
    "\n",
    "PARAMS['n_cols']      = 10\n",
    "EV_PARAMS['gems']     = True\n",
    "\n",
    "all_measurements['10,True,5'] = run_experiment(PARAMS, EV_PARAMS, X, y)"
   ]
  },
  {
   "cell_type": "markdown",
   "metadata": {},
   "source": [
    "### SM, 50 nodes, gems"
   ]
  },
  {
   "cell_type": "code",
   "execution_count": 8,
   "metadata": {
    "collapsed": true
   },
   "outputs": [
    {
     "name": "stdout",
     "output_type": "stream",
     "text": [
      "0, 1, 2, 3, 4, 5, 6, 7, 8, 9, [0.057091971949628825, 4.4183754123023442e+49, 3.0928627886116401e+50, 0.29615124216558447, 0.13289800593778908, 208, 20.800000000000001, 83, 8.3000000000000007, 0, 0.0]\n",
      "CPU times: user 3min 45s, sys: 234 ms, total: 3min 46s\n",
      "Wall time: 3min 51s\n"
     ]
    }
   ],
   "source": [
    "%%time\n",
    "random.seed(1)\n",
    "\n",
    "PARAMS['n_cols']      = 50\n",
    "EV_PARAMS['gems']     = True\n",
    "\n",
    "all_measurements['50,True,5'] = run_experiment(PARAMS, EV_PARAMS, X, y)"
   ]
  },
  {
   "cell_type": "markdown",
   "metadata": {},
   "source": [
    "### SM, 100 nodes, gems"
   ]
  },
  {
   "cell_type": "code",
   "execution_count": 9,
   "metadata": {
    "collapsed": true
   },
   "outputs": [
    {
     "name": "stdout",
     "output_type": "stream",
     "text": [
      "0, 1, 2, 3, 4, 5, 6, 7, 8, 9, [0.17589331381833978, 2.7522982572461116e+52, 1.9266087800722782e+53, 0.32626469422984739, 0.095804663682667934, 168, 16.800000000000001, 70, 7.0, 0, 0.0]\n",
      "CPU times: user 4min 34s, sys: 312 ms, total: 4min 34s\n",
      "Wall time: 4min 35s\n"
     ]
    }
   ],
   "source": [
    "%%time\n",
    "random.seed(1)\n",
    "\n",
    "PARAMS['n_cols']      = 100\n",
    "EV_PARAMS['gems']     = True\n",
    "\n",
    "all_measurements['100,True,5'] = run_experiment(PARAMS, EV_PARAMS, X, y)"
   ]
  },
  {
   "cell_type": "markdown",
   "metadata": {},
   "source": [
    "### SM, 10 nodes, gems, jBox 10"
   ]
  },
  {
   "cell_type": "code",
   "execution_count": 10,
   "metadata": {
    "collapsed": true
   },
   "outputs": [
    {
     "name": "stdout",
     "output_type": "stream",
     "text": [
      "0, 1, 2, 3, 4, 5, 6, 7, 8, 9, [0.16408060776414768, 1.073981758526659e+24, 5.3497826245280862e+24, 0.34507685913922115, 0.132288881401007, 2757, 275.69999999999999, 4830, 483.0, 0, 0.0]\n",
      "CPU times: user 1min 34s, sys: 15.6 ms, total: 1min 34s\n",
      "Wall time: 1min 34s\n"
     ]
    }
   ],
   "source": [
    "%%time\n",
    "random.seed(1)\n",
    "\n",
    "PARAMS['n_cols']      = 10\n",
    "EV_PARAMS['gems']     = True\n",
    "EV_PARAMS['j_box_size'] = 10\n",
    "\n",
    "all_measurements['10,True,10'] = run_experiment(PARAMS, EV_PARAMS, X, y)"
   ]
  },
  {
   "cell_type": "markdown",
   "metadata": {},
   "source": [
    "### SM, 50 nodes, gems, jbox 10"
   ]
  },
  {
   "cell_type": "code",
   "execution_count": 11,
   "metadata": {
    "collapsed": true
   },
   "outputs": [
    {
     "name": "stdout",
     "output_type": "stream",
     "text": [
      "0, 1, 2, 3, 4, 5, 6, 7, 8, 9, [0.050498085268901587, 2.0953330516864972e+50, 1.4667331361805483e+51, 0.30594006328883872, 0.12529974679528605, 765, 76.5, 1695, 169.5, 0, 0.0]\n",
      "CPU times: user 3min 2s, sys: 15.6 ms, total: 3min 2s\n",
      "Wall time: 3min 2s\n"
     ]
    }
   ],
   "source": [
    "%%time\n",
    "random.seed(1)\n",
    "\n",
    "PARAMS['n_cols']      = 50\n",
    "EV_PARAMS['gems']     = True\n",
    "EV_PARAMS['j_box_size'] = 10\n",
    "\n",
    "all_measurements['50,True,10'] = run_experiment(PARAMS, EV_PARAMS, X, y)"
   ]
  },
  {
   "cell_type": "markdown",
   "metadata": {},
   "source": [
    "### SM, 100 nodes, gems, jbox 10"
   ]
  },
  {
   "cell_type": "code",
   "execution_count": 12,
   "metadata": {
    "collapsed": true
   },
   "outputs": [
    {
     "name": "stdout",
     "output_type": "stream",
     "text": [
      "0, 1, 2, 3, 4, 5, 6, 7, 8, 9, [0.10541590712425793, 7.4095225651863594e+23, 3.6772466988271082e+24, 0.30453089961312674, 0.11149042592465996, 482, 48.200000000000003, 1475, 147.5, 0, 0.0]\n",
      "CPU times: user 4min 26s, sys: 141 ms, total: 4min 26s\n",
      "Wall time: 4min 26s\n"
     ]
    }
   ],
   "source": [
    "%%time\n",
    "random.seed(1)\n",
    "\n",
    "PARAMS['n_cols']      = 100\n",
    "EV_PARAMS['gems']     = True\n",
    "EV_PARAMS['j_box_size'] = 10\n",
    "\n",
    "all_measurements['100,True,10'] = run_experiment(PARAMS, EV_PARAMS, X, y)"
   ]
  },
  {
   "cell_type": "code",
   "execution_count": 13,
   "metadata": {
    "collapsed": true
   },
   "outputs": [
    {
     "data": {
      "text/html": [
       "<div>\n",
       "<style>\n",
       "    .dataframe thead tr:only-child th {\n",
       "        text-align: right;\n",
       "    }\n",
       "\n",
       "    .dataframe thead th {\n",
       "        text-align: left;\n",
       "    }\n",
       "\n",
       "    .dataframe tbody tr th {\n",
       "        vertical-align: top;\n",
       "    }\n",
       "</style>\n",
       "<table border=\"1\" class=\"dataframe\">\n",
       "  <thead>\n",
       "    <tr style=\"text-align: right;\">\n",
       "      <th></th>\n",
       "      <th>best fitness</th>\n",
       "      <th>mean of last gen</th>\n",
       "      <th>std of last gen</th>\n",
       "      <th>mean of best individual</th>\n",
       "      <th>std of best indvidiual</th>\n",
       "      <th>g_better</th>\n",
       "      <th>g_better avg</th>\n",
       "      <th>g_worse</th>\n",
       "      <th>g_worse avg</th>\n",
       "      <th>g_same</th>\n",
       "      <th>g_same avg</th>\n",
       "    </tr>\n",
       "  </thead>\n",
       "  <tbody>\n",
       "    <tr>\n",
       "      <th>10,false</th>\n",
       "      <td>0.167763</td>\n",
       "      <td>1.584563e+23</td>\n",
       "      <td>1.109194e+24</td>\n",
       "      <td>0.403315</td>\n",
       "      <td>0.113264</td>\n",
       "      <td>0</td>\n",
       "      <td>0.0</td>\n",
       "      <td>0</td>\n",
       "      <td>0.0</td>\n",
       "      <td>0</td>\n",
       "      <td>0.0</td>\n",
       "    </tr>\n",
       "    <tr>\n",
       "      <th>50,false</th>\n",
       "      <td>0.000000</td>\n",
       "      <td>8.267535e-01</td>\n",
       "      <td>1.198643e+00</td>\n",
       "      <td>0.281724</td>\n",
       "      <td>0.148743</td>\n",
       "      <td>0</td>\n",
       "      <td>0.0</td>\n",
       "      <td>0</td>\n",
       "      <td>0.0</td>\n",
       "      <td>0</td>\n",
       "      <td>0.0</td>\n",
       "    </tr>\n",
       "    <tr>\n",
       "      <th>100,false</th>\n",
       "      <td>0.121879</td>\n",
       "      <td>1.769067e+23</td>\n",
       "      <td>1.238347e+24</td>\n",
       "      <td>0.289068</td>\n",
       "      <td>0.094108</td>\n",
       "      <td>0</td>\n",
       "      <td>0.0</td>\n",
       "      <td>0</td>\n",
       "      <td>0.0</td>\n",
       "      <td>0</td>\n",
       "      <td>0.0</td>\n",
       "    </tr>\n",
       "    <tr>\n",
       "      <th>10,True,5</th>\n",
       "      <td>0.198590</td>\n",
       "      <td>2.877171e+00</td>\n",
       "      <td>1.241878e+01</td>\n",
       "      <td>0.310673</td>\n",
       "      <td>0.110601</td>\n",
       "      <td>1833</td>\n",
       "      <td>183.3</td>\n",
       "      <td>3922</td>\n",
       "      <td>392.2</td>\n",
       "      <td>0</td>\n",
       "      <td>0.0</td>\n",
       "    </tr>\n",
       "    <tr>\n",
       "      <th>50,True,5</th>\n",
       "      <td>0.057092</td>\n",
       "      <td>4.418375e+49</td>\n",
       "      <td>3.092863e+50</td>\n",
       "      <td>0.296151</td>\n",
       "      <td>0.132898</td>\n",
       "      <td>208</td>\n",
       "      <td>20.8</td>\n",
       "      <td>83</td>\n",
       "      <td>8.3</td>\n",
       "      <td>0</td>\n",
       "      <td>0.0</td>\n",
       "    </tr>\n",
       "    <tr>\n",
       "      <th>100,True,5</th>\n",
       "      <td>0.175893</td>\n",
       "      <td>2.752298e+52</td>\n",
       "      <td>1.926609e+53</td>\n",
       "      <td>0.326265</td>\n",
       "      <td>0.095805</td>\n",
       "      <td>168</td>\n",
       "      <td>16.8</td>\n",
       "      <td>70</td>\n",
       "      <td>7.0</td>\n",
       "      <td>0</td>\n",
       "      <td>0.0</td>\n",
       "    </tr>\n",
       "    <tr>\n",
       "      <th>10,True,10</th>\n",
       "      <td>0.164081</td>\n",
       "      <td>1.073982e+24</td>\n",
       "      <td>5.349783e+24</td>\n",
       "      <td>0.345077</td>\n",
       "      <td>0.132289</td>\n",
       "      <td>2757</td>\n",
       "      <td>275.7</td>\n",
       "      <td>4830</td>\n",
       "      <td>483.0</td>\n",
       "      <td>0</td>\n",
       "      <td>0.0</td>\n",
       "    </tr>\n",
       "    <tr>\n",
       "      <th>50,True,10</th>\n",
       "      <td>0.050498</td>\n",
       "      <td>2.095333e+50</td>\n",
       "      <td>1.466733e+51</td>\n",
       "      <td>0.305940</td>\n",
       "      <td>0.125300</td>\n",
       "      <td>765</td>\n",
       "      <td>76.5</td>\n",
       "      <td>1695</td>\n",
       "      <td>169.5</td>\n",
       "      <td>0</td>\n",
       "      <td>0.0</td>\n",
       "    </tr>\n",
       "    <tr>\n",
       "      <th>100,True,10</th>\n",
       "      <td>0.105416</td>\n",
       "      <td>7.409523e+23</td>\n",
       "      <td>3.677247e+24</td>\n",
       "      <td>0.304531</td>\n",
       "      <td>0.111490</td>\n",
       "      <td>482</td>\n",
       "      <td>48.2</td>\n",
       "      <td>1475</td>\n",
       "      <td>147.5</td>\n",
       "      <td>0</td>\n",
       "      <td>0.0</td>\n",
       "    </tr>\n",
       "  </tbody>\n",
       "</table>\n",
       "</div>"
      ],
      "text/plain": [
       "             best fitness  mean of last gen  std of last gen  \\\n",
       "10,false         0.167763      1.584563e+23     1.109194e+24   \n",
       "50,false         0.000000      8.267535e-01     1.198643e+00   \n",
       "100,false        0.121879      1.769067e+23     1.238347e+24   \n",
       "10,True,5        0.198590      2.877171e+00     1.241878e+01   \n",
       "50,True,5        0.057092      4.418375e+49     3.092863e+50   \n",
       "100,True,5       0.175893      2.752298e+52     1.926609e+53   \n",
       "10,True,10       0.164081      1.073982e+24     5.349783e+24   \n",
       "50,True,10       0.050498      2.095333e+50     1.466733e+51   \n",
       "100,True,10      0.105416      7.409523e+23     3.677247e+24   \n",
       "\n",
       "             mean of best individual  std of best indvidiual  g_better  \\\n",
       "10,false                    0.403315                0.113264         0   \n",
       "50,false                    0.281724                0.148743         0   \n",
       "100,false                   0.289068                0.094108         0   \n",
       "10,True,5                   0.310673                0.110601      1833   \n",
       "50,True,5                   0.296151                0.132898       208   \n",
       "100,True,5                  0.326265                0.095805       168   \n",
       "10,True,10                  0.345077                0.132289      2757   \n",
       "50,True,10                  0.305940                0.125300       765   \n",
       "100,True,10                 0.304531                0.111490       482   \n",
       "\n",
       "             g_better avg  g_worse  g_worse avg  g_same  g_same avg  \n",
       "10,false              0.0        0          0.0       0         0.0  \n",
       "50,false              0.0        0          0.0       0         0.0  \n",
       "100,false             0.0        0          0.0       0         0.0  \n",
       "10,True,5           183.3     3922        392.2       0         0.0  \n",
       "50,True,5            20.8       83          8.3       0         0.0  \n",
       "100,True,5           16.8       70          7.0       0         0.0  \n",
       "10,True,10          275.7     4830        483.0       0         0.0  \n",
       "50,True,10           76.5     1695        169.5       0         0.0  \n",
       "100,True,10          48.2     1475        147.5       0         0.0  "
      ]
     },
     "execution_count": 13,
     "metadata": {},
     "output_type": "execute_result"
    }
   ],
   "source": [
    "import pandas as pd\n",
    "df = pd.DataFrame.from_dict(all_measurements, orient='index')\n",
    "df.columns = ['best fitness', 'mean of last gen', 'std of last gen', 'mean of best individual', 'std of best indvidiual',\n",
    "             'g_better', 'g_better avg', 'g_worse', 'g_worse avg', 'g_same', 'g_same avg']\n",
    "df"
   ]
  },
  {
   "cell_type": "code",
   "execution_count": null,
   "metadata": {},
   "outputs": [],
   "source": []
  }
 ],
 "metadata": {
  "kernelspec": {
   "display_name": "Python 3",
   "language": "python",
   "name": "python3"
  },
  "language_info": {
   "codemirror_mode": {
    "name": "ipython",
    "version": 3
   },
   "file_extension": ".py",
   "mimetype": "text/x-python",
   "name": "python",
   "nbconvert_exporter": "python",
   "pygments_lexer": "ipython3",
   "version": "3.6.2"
  }
 },
 "nbformat": 4,
 "nbformat_minor": 2
}
