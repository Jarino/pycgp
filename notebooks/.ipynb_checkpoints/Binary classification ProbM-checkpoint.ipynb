{
 "cells": [
  {
   "cell_type": "code",
   "execution_count": 1,
   "metadata": {
    "collapsed": true
   },
   "outputs": [],
   "source": [
    "from pycgp.benchmarks.classification import X_train, y_train, X_test, y_test, PARAMS, EV_PARAMS\n",
    "from pycgp.evolution import evolution\n",
    "import random\n",
    "import numpy as np"
   ]
  },
  {
   "cell_type": "markdown",
   "metadata": {},
   "source": [
    "Statistics we want to measure for classification task:\n",
    "- best train error achieved\n",
    "- mean and std of best train errors\n",
    "- best test error achieved\n",
    "- mean and std of best test errors\n",
    "- mean and std of last generation's train error\n",
    "- mean and std of last generation's test error"
   ]
  },
  {
   "cell_type": "code",
   "execution_count": 2,
   "metadata": {},
   "outputs": [],
   "source": [
    "def run_experiment(PARAMS,EV_PARAMS):\n",
    "    train_stat = []\n",
    "    test_stat = []\n",
    "    for i in range(0, 5):\n",
    "        print(i, end=', ')\n",
    "        result = evolution(PARAMS, EV_PARAMS, X_train, y_train)\n",
    "        \n",
    "        train_stat.append([x.fitness for x in result['final']])\n",
    "        test_stat.append([EV_PARAMS['cost_func'](y_test, x.execute(X_test)) for x in result['final']   ])\n",
    "    \n",
    "    train_results = [\n",
    "        np.min(train_stat), # best fitness\n",
    "        np.mean(train_stat), # mean of fitnesses of all last generations\n",
    "        np.std(train_stat), # std of fitnesses of all last generations\n",
    "        np.mean(np.min(train_stat, axis=1)), # mean of best individuals from run\n",
    "        np.std(np.min(train_stat, axis=1)) # std of best individuals from run\n",
    "    ]\n",
    "    \n",
    "    test_results = [\n",
    "        np.min(test_stat), # best fitness\n",
    "        np.mean(test_stat), # mean of fitnesses of all last generations\n",
    "        np.std(test_stat), # std of fitnesses of all last generations\n",
    "        np.mean(np.min(test_stat, axis=1)), # mean of best individuals from run\n",
    "        np.std(np.min(test_stat, axis=1)) # std of best individuals from run\n",
    "    ]\n",
    "    print('Train: ', train_results)\n",
    "    print('Test: ', test_results)\n",
    "    return train_results, test_results\n",
    "        \n",
    "        "
   ]
  },
  {
   "cell_type": "code",
   "execution_count": 3,
   "metadata": {},
   "outputs": [],
   "source": [
    "train_measurements = {}\n",
    "test_measurements = {}"
   ]
  },
  {
   "cell_type": "markdown",
   "metadata": {},
   "source": [
    "### BinClassification, PM, 10 nodes"
   ]
  },
  {
   "cell_type": "code",
   "execution_count": 4,
   "metadata": {},
   "outputs": [
    {
     "name": "stdout",
     "output_type": "stream",
     "text": [
      "0, 1, 2, 3, 4, Train:  [-0.94221105527638194, -0.78954773869346739, 0.16938666156201132, -0.89899497487437185, 0.035190233969872566]\n",
      "Test:  [-0.92982456140350878, -0.77590643274853799, 0.15604916626933713, -0.87836257309941534, 0.032956731704340068]\n",
      "CPU times: user 4min 31s, sys: 891 ms, total: 4min 32s\n",
      "Wall time: 5min 24s\n"
     ]
    }
   ],
   "source": [
    "%%time\n",
    "random.seed(1)\n",
    "\n",
    "key = '10,false'\n",
    "results = run_experiment(PARAMS, EV_PARAMS)\n",
    "train_measurements[key] = results[0]\n",
    "test_measurements[key] = results[1]"
   ]
  },
  {
   "cell_type": "markdown",
   "metadata": {},
   "source": [
    "### BinClassification, PM, 50 nodes"
   ]
  },
  {
   "cell_type": "code",
   "execution_count": 5,
   "metadata": {},
   "outputs": [
    {
     "name": "stdout",
     "output_type": "stream",
     "text": [
      "0, 1, 2, 3, 4, Train:  [-0.95979899497487442, -0.85497487437185937, 0.18786110736851766, -0.93266331658291457, 0.020062778671032303]\n",
      "Test:  [-0.92982456140350878, -0.82643274853801174, 0.17904839864828093, -0.89941520467836256, 0.02379764906359743]\n",
      "CPU times: user 11min, sys: 3.16 s, total: 11min 3s\n",
      "Wall time: 15min 45s\n"
     ]
    }
   ],
   "source": [
    "%%time\n",
    "random.seed(1)\n",
    "\n",
    "PARAMS['n_cols'] = 50\n",
    "EV_PARAMS['gems'] = False\n",
    "\n",
    "key = '50,false'\n",
    "results = run_experiment(PARAMS, EV_PARAMS)\n",
    "train_measurements[key] = results[0]\n",
    "test_measurements[key] = results[1]"
   ]
  },
  {
   "cell_type": "markdown",
   "metadata": {},
   "source": [
    "### BinClassification, PM, 100 nodes"
   ]
  },
  {
   "cell_type": "code",
   "execution_count": 6,
   "metadata": {},
   "outputs": [
    {
     "name": "stdout",
     "output_type": "stream",
     "text": [
      "0, 1, 2, 3, 4, Train:  [-0.95477386934673369, -0.84090452261306525, 0.224377030670764, -0.93115577889447232, 0.021177193473070861]\n",
      "Test:  [-0.93567251461988299, -0.81450292397660828, 0.20466512906258533, -0.89590643274853787, 0.031687057740687877]\n",
      "CPU times: user 16min 35s, sys: 1.72 s, total: 16min 36s\n",
      "Wall time: 17min 46s\n"
     ]
    }
   ],
   "source": [
    "%%time\n",
    "random.seed(1)\n",
    "\n",
    "PARAMS['n_cols'] = 100\n",
    "EV_PARAMS['gems'] = False\n",
    "\n",
    "key = '100,false'\n",
    "results = run_experiment(PARAMS, EV_PARAMS)\n",
    "train_measurements[key] = results[0]\n",
    "test_measurements[key] = results[1]"
   ]
  },
  {
   "cell_type": "markdown",
   "metadata": {},
   "source": [
    "### BinClassification, PM, 10 nodes, gems"
   ]
  },
  {
   "cell_type": "code",
   "execution_count": 7,
   "metadata": {},
   "outputs": [
    {
     "name": "stdout",
     "output_type": "stream",
     "text": [
      "0, 1, 2, 3, 4, Train:  [-0.92964824120603018, -0.76462311557788953, 0.20368529599742949, -0.88793969849246235, 0.032395500424695883]\n",
      "Test:  [-0.89473684210526316, -0.74502923976608182, 0.18699556245600066, -0.85263157894736852, 0.026516453915215531]\n",
      "CPU times: user 4min 37s, sys: 500 ms, total: 4min 37s\n",
      "Wall time: 4min 54s\n"
     ]
    }
   ],
   "source": [
    "%%time\n",
    "random.seed(1)\n",
    "\n",
    "PARAMS['n_cols'] = 10\n",
    "EV_PARAMS['gems'] = True\n",
    "\n",
    "key = '10,True'\n",
    "results = run_experiment(PARAMS, EV_PARAMS)\n",
    "train_measurements[key] = results[0]\n",
    "test_measurements[key] = results[1]"
   ]
  },
  {
   "cell_type": "markdown",
   "metadata": {},
   "source": [
    "### BinClassification, PM, 50 nodes, gems"
   ]
  },
  {
   "cell_type": "code",
   "execution_count": 8,
   "metadata": {},
   "outputs": [
    {
     "name": "stdout",
     "output_type": "stream",
     "text": [
      "0, 1, 2, 3, 4, Train:  [-0.95477386934673369, -0.85356783919598, 0.16817965649466998, -0.93919597989949755, 0.012349955504969362]\n",
      "Test:  [-0.92397660818713445, -0.82736842105263164, 0.14926946119719081, -0.89941520467836256, 0.025463790710031863]\n",
      "CPU times: user 9min 21s, sys: 812 ms, total: 9min 21s\n",
      "Wall time: 10min 9s\n"
     ]
    }
   ],
   "source": [
    "%%time\n",
    "random.seed(1)\n",
    "\n",
    "PARAMS['n_cols'] = 50\n",
    "EV_PARAMS['gems'] = True\n",
    "\n",
    "key = '50,True'\n",
    "results = run_experiment(PARAMS, EV_PARAMS)\n",
    "train_measurements[key] = results[0]\n",
    "test_measurements[key] = results[1]"
   ]
  },
  {
   "cell_type": "markdown",
   "metadata": {},
   "source": [
    "### BinClassification, PM, 100 nodes, gems"
   ]
  },
  {
   "cell_type": "code",
   "execution_count": 9,
   "metadata": {},
   "outputs": [
    {
     "name": "stdout",
     "output_type": "stream",
     "text": [
      "0, 1, 2, 3, 4, Train:  [-0.95477386934673369, -0.79748743718592963, 0.23579461620826334, -0.92814070351758793, 0.020876962892302512]\n",
      "Test:  [-0.92397660818713445, -0.77964912280701748, 0.22514373811976476, -0.90175438596491231, 0.019360170008475841]\n",
      "CPU times: user 16min 33s, sys: 1.58 s, total: 16min 34s\n",
      "Wall time: 17min 29s\n"
     ]
    }
   ],
   "source": [
    "%%time\n",
    "random.seed(1)\n",
    "\n",
    "PARAMS['n_cols'] = 100\n",
    "EV_PARAMS['gems'] = True\n",
    "\n",
    "key = '100,True'\n",
    "results = run_experiment(PARAMS, EV_PARAMS)\n",
    "train_measurements[key] = results[0]\n",
    "test_measurements[key] = results[1]"
   ]
  },
  {
   "cell_type": "markdown",
   "metadata": {},
   "source": [
    "### BinClassification, PM, 10 nodes, gems, 5"
   ]
  },
  {
   "cell_type": "code",
   "execution_count": 12,
   "metadata": {},
   "outputs": [
    {
     "name": "stdout",
     "output_type": "stream",
     "text": [
      "0, 1, 2, 3, 4, Train:  [-0.94723618090452266, -0.76653266331658287, 0.17617336523956406, -0.87939698492462315, 0.047751915651073784]\n",
      "Test:  [-0.92982456140350878, -0.74619883040935675, 0.1673209686675981, -0.84561403508771915, 0.049289608200480645]\n",
      "CPU times: user 5min 20s, sys: 453 ms, total: 5min 21s\n",
      "Wall time: 5min 44s\n"
     ]
    }
   ],
   "source": [
    "%%time\n",
    "random.seed(1)\n",
    "\n",
    "PARAMS['n_cols'] = 10\n",
    "EV_PARAMS['gems'] = True\n",
    "EV_PARAMS['j_box_size'] = 10\n",
    "\n",
    "key = '10,True,10'\n",
    "results = run_experiment(PARAMS, EV_PARAMS)\n",
    "train_measurements[key] = results[0]\n",
    "test_measurements[key] = results[1]"
   ]
  },
  {
   "cell_type": "code",
   "execution_count": null,
   "metadata": {},
   "outputs": [
    {
     "name": "stdout",
     "output_type": "stream",
     "text": [
      "0, 1, 2, 3, 4, "
     ]
    }
   ],
   "source": [
    "%%time\n",
    "random.seed(1)\n",
    "\n",
    "PARAMS['n_cols'] = 50\n",
    "EV_PARAMS['gems'] = True\n",
    "EV_PARAMS['j_box_size'] = 10\n",
    "\n",
    "key = '50,True,10'\n",
    "results = run_experiment(PARAMS, EV_PARAMS)\n",
    "train_measurements[key] = results[0]\n",
    "test_measurements[key] = results[1]"
   ]
  },
  {
   "cell_type": "code",
   "execution_count": null,
   "metadata": {},
   "outputs": [],
   "source": [
    "%%time\n",
    "random.seed(1)\n",
    "\n",
    "PARAMS['n_cols'] = 100\n",
    "EV_PARAMS['gems'] = True\n",
    "EV_PARAMS['j_box_size'] = 10\n",
    "\n",
    "key = '100,True,10'\n",
    "results = run_experiment(PARAMS, EV_PARAMS)\n",
    "train_measurements[key] = results[0]\n",
    "test_measurements[key] = results[1]"
   ]
  },
  {
   "cell_type": "code",
   "execution_count": 10,
   "metadata": {},
   "outputs": [
    {
     "data": {
      "text/html": [
       "<div>\n",
       "<style>\n",
       "    .dataframe thead tr:only-child th {\n",
       "        text-align: right;\n",
       "    }\n",
       "\n",
       "    .dataframe thead th {\n",
       "        text-align: left;\n",
       "    }\n",
       "\n",
       "    .dataframe tbody tr th {\n",
       "        vertical-align: top;\n",
       "    }\n",
       "</style>\n",
       "<table border=\"1\" class=\"dataframe\">\n",
       "  <thead>\n",
       "    <tr style=\"text-align: right;\">\n",
       "      <th></th>\n",
       "      <th>best fitness</th>\n",
       "      <th>mean of last gen</th>\n",
       "      <th>std of last gen</th>\n",
       "      <th>mean of best individual</th>\n",
       "      <th>std of best indvidiual</th>\n",
       "    </tr>\n",
       "  </thead>\n",
       "  <tbody>\n",
       "    <tr>\n",
       "      <th>10,false</th>\n",
       "      <td>-0.942211</td>\n",
       "      <td>-0.789548</td>\n",
       "      <td>0.169387</td>\n",
       "      <td>-0.898995</td>\n",
       "      <td>0.035190</td>\n",
       "    </tr>\n",
       "    <tr>\n",
       "      <th>50,false</th>\n",
       "      <td>-0.959799</td>\n",
       "      <td>-0.854975</td>\n",
       "      <td>0.187861</td>\n",
       "      <td>-0.932663</td>\n",
       "      <td>0.020063</td>\n",
       "    </tr>\n",
       "    <tr>\n",
       "      <th>100,false</th>\n",
       "      <td>-0.954774</td>\n",
       "      <td>-0.840905</td>\n",
       "      <td>0.224377</td>\n",
       "      <td>-0.931156</td>\n",
       "      <td>0.021177</td>\n",
       "    </tr>\n",
       "    <tr>\n",
       "      <th>10,True</th>\n",
       "      <td>-0.929648</td>\n",
       "      <td>-0.764623</td>\n",
       "      <td>0.203685</td>\n",
       "      <td>-0.887940</td>\n",
       "      <td>0.032396</td>\n",
       "    </tr>\n",
       "    <tr>\n",
       "      <th>50,True</th>\n",
       "      <td>-0.954774</td>\n",
       "      <td>-0.853568</td>\n",
       "      <td>0.168180</td>\n",
       "      <td>-0.939196</td>\n",
       "      <td>0.012350</td>\n",
       "    </tr>\n",
       "    <tr>\n",
       "      <th>100,True</th>\n",
       "      <td>-0.954774</td>\n",
       "      <td>-0.797487</td>\n",
       "      <td>0.235795</td>\n",
       "      <td>-0.928141</td>\n",
       "      <td>0.020877</td>\n",
       "    </tr>\n",
       "  </tbody>\n",
       "</table>\n",
       "</div>"
      ],
      "text/plain": [
       "           best fitness  mean of last gen  std of last gen  \\\n",
       "10,false      -0.942211         -0.789548         0.169387   \n",
       "50,false      -0.959799         -0.854975         0.187861   \n",
       "100,false     -0.954774         -0.840905         0.224377   \n",
       "10,True       -0.929648         -0.764623         0.203685   \n",
       "50,True       -0.954774         -0.853568         0.168180   \n",
       "100,True      -0.954774         -0.797487         0.235795   \n",
       "\n",
       "           mean of best individual  std of best indvidiual  \n",
       "10,false                 -0.898995                0.035190  \n",
       "50,false                 -0.932663                0.020063  \n",
       "100,false                -0.931156                0.021177  \n",
       "10,True                  -0.887940                0.032396  \n",
       "50,True                  -0.939196                0.012350  \n",
       "100,True                 -0.928141                0.020877  "
      ]
     },
     "execution_count": 10,
     "metadata": {},
     "output_type": "execute_result"
    }
   ],
   "source": [
    "import pandas as pd\n",
    "df = pd.DataFrame.from_dict(train_measurements, orient='index')\n",
    "df.columns = ['best fitness', 'mean of last gen', 'std of last gen', 'mean of best individual', 'std of best indvidiual']\n",
    "df"
   ]
  },
  {
   "cell_type": "code",
   "execution_count": 11,
   "metadata": {},
   "outputs": [
    {
     "data": {
      "text/html": [
       "<div>\n",
       "<style>\n",
       "    .dataframe thead tr:only-child th {\n",
       "        text-align: right;\n",
       "    }\n",
       "\n",
       "    .dataframe thead th {\n",
       "        text-align: left;\n",
       "    }\n",
       "\n",
       "    .dataframe tbody tr th {\n",
       "        vertical-align: top;\n",
       "    }\n",
       "</style>\n",
       "<table border=\"1\" class=\"dataframe\">\n",
       "  <thead>\n",
       "    <tr style=\"text-align: right;\">\n",
       "      <th></th>\n",
       "      <th>best fitness</th>\n",
       "      <th>mean of last gen</th>\n",
       "      <th>std of last gen</th>\n",
       "      <th>mean of best individual</th>\n",
       "      <th>std of best indvidiual</th>\n",
       "    </tr>\n",
       "  </thead>\n",
       "  <tbody>\n",
       "    <tr>\n",
       "      <th>10,false</th>\n",
       "      <td>-0.929825</td>\n",
       "      <td>-0.775906</td>\n",
       "      <td>0.156049</td>\n",
       "      <td>-0.878363</td>\n",
       "      <td>0.032957</td>\n",
       "    </tr>\n",
       "    <tr>\n",
       "      <th>50,false</th>\n",
       "      <td>-0.929825</td>\n",
       "      <td>-0.826433</td>\n",
       "      <td>0.179048</td>\n",
       "      <td>-0.899415</td>\n",
       "      <td>0.023798</td>\n",
       "    </tr>\n",
       "    <tr>\n",
       "      <th>100,false</th>\n",
       "      <td>-0.935673</td>\n",
       "      <td>-0.814503</td>\n",
       "      <td>0.204665</td>\n",
       "      <td>-0.895906</td>\n",
       "      <td>0.031687</td>\n",
       "    </tr>\n",
       "    <tr>\n",
       "      <th>10,True</th>\n",
       "      <td>-0.894737</td>\n",
       "      <td>-0.745029</td>\n",
       "      <td>0.186996</td>\n",
       "      <td>-0.852632</td>\n",
       "      <td>0.026516</td>\n",
       "    </tr>\n",
       "    <tr>\n",
       "      <th>50,True</th>\n",
       "      <td>-0.923977</td>\n",
       "      <td>-0.827368</td>\n",
       "      <td>0.149269</td>\n",
       "      <td>-0.899415</td>\n",
       "      <td>0.025464</td>\n",
       "    </tr>\n",
       "    <tr>\n",
       "      <th>100,True</th>\n",
       "      <td>-0.923977</td>\n",
       "      <td>-0.779649</td>\n",
       "      <td>0.225144</td>\n",
       "      <td>-0.901754</td>\n",
       "      <td>0.019360</td>\n",
       "    </tr>\n",
       "  </tbody>\n",
       "</table>\n",
       "</div>"
      ],
      "text/plain": [
       "           best fitness  mean of last gen  std of last gen  \\\n",
       "10,false      -0.929825         -0.775906         0.156049   \n",
       "50,false      -0.929825         -0.826433         0.179048   \n",
       "100,false     -0.935673         -0.814503         0.204665   \n",
       "10,True       -0.894737         -0.745029         0.186996   \n",
       "50,True       -0.923977         -0.827368         0.149269   \n",
       "100,True      -0.923977         -0.779649         0.225144   \n",
       "\n",
       "           mean of best individual  std of best indvidiual  \n",
       "10,false                 -0.878363                0.032957  \n",
       "50,false                 -0.899415                0.023798  \n",
       "100,false                -0.895906                0.031687  \n",
       "10,True                  -0.852632                0.026516  \n",
       "50,True                  -0.899415                0.025464  \n",
       "100,True                 -0.901754                0.019360  "
      ]
     },
     "execution_count": 11,
     "metadata": {},
     "output_type": "execute_result"
    }
   ],
   "source": [
    "import pandas as pd\n",
    "df = pd.DataFrame.from_dict(test_measurements, orient='index')\n",
    "df.columns = ['best fitness', 'mean of last gen', 'std of last gen', 'mean of best individual', 'std of best indvidiual']\n",
    "df"
   ]
  },
  {
   "cell_type": "code",
   "execution_count": null,
   "metadata": {},
   "outputs": [],
   "source": []
  }
 ],
 "metadata": {
  "kernelspec": {
   "display_name": "Python 3",
   "language": "python",
   "name": "python3"
  },
  "language_info": {
   "codemirror_mode": {
    "name": "ipython",
    "version": 3
   },
   "file_extension": ".py",
   "mimetype": "text/x-python",
   "name": "python",
   "nbconvert_exporter": "python",
   "pygments_lexer": "ipython3",
   "version": "3.6.2"
  }
 },
 "nbformat": 4,
 "nbformat_minor": 2
}
