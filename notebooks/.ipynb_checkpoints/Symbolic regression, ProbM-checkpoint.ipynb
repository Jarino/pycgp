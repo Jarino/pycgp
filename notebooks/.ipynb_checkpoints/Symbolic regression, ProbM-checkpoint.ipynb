{
 "cells": [
  {
   "cell_type": "markdown",
   "metadata": {},
   "source": [
    "# Symbolic regression benchmark, Single mutation"
   ]
  },
  {
   "cell_type": "code",
   "execution_count": 1,
   "metadata": {
    "collapsed": true
   },
   "outputs": [],
   "source": [
    "from pycgp.benchmarks.symbolic import PARAMS, EV_PARAMS, X, y, target_function\n",
    "from pycgp.evolution import evolution\n",
    "import random\n",
    "import numpy as np"
   ]
  },
  {
   "cell_type": "code",
   "execution_count": 2,
   "metadata": {
    "collapsed": true
   },
   "outputs": [],
   "source": [
    "def run_experiment(params, ev_params, x, y):\n",
    "    rstat = []\n",
    "    for i in range(0, 10):\n",
    "        print(i, end=', ')\n",
    "\n",
    "        result = evolution(PARAMS, EV_PARAMS, X, y)\n",
    "\n",
    "        rstat.append([EV_PARAMS['cost_func'](y, individual.execute(X)) for individual in result['final']])\n",
    "    \n",
    "    #print('Best fitness: {}'.format(np.min(stats)))\n",
    "    #print('mean and std of fitness of last generation: {}, {}'.format(np.mean(stats), np.std(stats)))\n",
    "    #print('Mean and std of best fitness: {}, {}'.format(np.mean(np.min(stats, axis=1)), np.std(np.min(stats, axis=1))))\n",
    "    # best fitness, mean of last generation, std of last generation, mean of best individual, std of best individual\n",
    "    results = [\n",
    "        np.min(rstat), np.mean(rstat), np.std(rstat), np.mean(np.min(rstat, axis=1)), np.std(np.min(rstat, axis=1)) \n",
    "    ]\n",
    "    print(results)\n",
    "    return results"
   ]
  },
  {
   "cell_type": "markdown",
   "metadata": {},
   "source": [
    "## Single mutation"
   ]
  },
  {
   "cell_type": "code",
   "execution_count": 3,
   "metadata": {
    "collapsed": true
   },
   "outputs": [],
   "source": [
    "from pycgp.mutation import single_mutation\n",
    "from pycgp.gems import MatchSMStrategy, GemSM\n",
    "EV_PARAMS['gem_type'] = GemSM\n",
    "EV_PARAMS['match_strategy'] = MatchSMStrategy\n",
    "EV_PARAMS['mutation'] = single_mutation\n",
    "all_measurements = {}"
   ]
  },
  {
   "cell_type": "markdown",
   "metadata": {},
   "source": [
    "### SM, 10 nodes"
   ]
  },
  {
   "cell_type": "code",
   "execution_count": 4,
   "metadata": {},
   "outputs": [
    {
     "name": "stdout",
     "output_type": "stream",
     "text": [
      "0, 1, 2, 3, 4, 5, 6, 7, 8, 9, [0.16776289758895796, 1.584563250285287e+23, 1.109194275199701e+24, 0.40331497555146323, 0.11326392653235846]\n",
      "CPU times: user 2min 23s, sys: 375 ms, total: 2min 24s\n",
      "Wall time: 2min 40s\n"
     ]
    }
   ],
   "source": [
    "%%time\n",
    "random.seed(1)\n",
    "\n",
    "PARAMS['n_cols']      = 10\n",
    "EV_PARAMS['gems']     = False\n",
    "\n",
    "all_measurements['10,false'] = run_experiment(PARAMS, EV_PARAMS, X, y)"
   ]
  },
  {
   "cell_type": "markdown",
   "metadata": {},
   "source": [
    "### SM, 50 nodes"
   ]
  },
  {
   "cell_type": "code",
   "execution_count": 5,
   "metadata": {},
   "outputs": [
    {
     "name": "stdout",
     "output_type": "stream",
     "text": [
      "0, 1, 2, 3, 4, 5, 6, 7, 8, 9, [0.0, 0.82675346161707552, 1.198642971015931, 0.28172411662416363, 0.14874260493227323]\n",
      "CPU times: user 6min 14s, sys: 2 s, total: 6min 16s\n",
      "Wall time: 9min 48s\n"
     ]
    }
   ],
   "source": [
    "%%time\n",
    "random.seed(1)\n",
    "\n",
    "PARAMS['n_cols']      = 50\n",
    "EV_PARAMS['gems']     = False\n",
    "\n",
    "all_measurements['50,false'] = run_experiment(PARAMS, EV_PARAMS, X, y)"
   ]
  },
  {
   "cell_type": "markdown",
   "metadata": {},
   "source": [
    "### SM, 100 nodes"
   ]
  },
  {
   "cell_type": "code",
   "execution_count": 6,
   "metadata": {},
   "outputs": [
    {
     "name": "stdout",
     "output_type": "stream",
     "text": [
      "0, 1, 2, 3, 4, 5, 6, 7, 8, 9, [0.12187932192563014, 1.7690668659154296e+23, 1.2383468061408008e+24, 0.28906797740086415, 0.094108171804113211]\n",
      "CPU times: user 6min 59s, sys: 1.3 s, total: 7min 1s\n",
      "Wall time: 7min 33s\n"
     ]
    }
   ],
   "source": [
    "%%time\n",
    "random.seed(1)\n",
    "\n",
    "PARAMS['n_cols']      = 100\n",
    "EV_PARAMS['gems']     = False\n",
    "\n",
    "all_measurements['100,false'] = run_experiment(PARAMS, EV_PARAMS, X, y)"
   ]
  },
  {
   "cell_type": "markdown",
   "metadata": {},
   "source": [
    "### SM, 10 nodes, gems"
   ]
  },
  {
   "cell_type": "code",
   "execution_count": 7,
   "metadata": {},
   "outputs": [
    {
     "name": "stdout",
     "output_type": "stream",
     "text": [
      "0, 1, 2, 3, 4, 5, 6, 7, 8, 9, [0.19858953760134257, 2.8771710086456177, 12.418778426452894, 0.31067318277594669, 0.11060067012086246]\n",
      "CPU times: user 2min 19s, sys: 172 ms, total: 2min 19s\n",
      "Wall time: 2min 23s\n"
     ]
    }
   ],
   "source": [
    "%%time\n",
    "random.seed(1)\n",
    "\n",
    "PARAMS['n_cols']      = 10\n",
    "EV_PARAMS['gems']     = True\n",
    "\n",
    "all_measurements['10,True,5'] = run_experiment(PARAMS, EV_PARAMS, X, y)"
   ]
  },
  {
   "cell_type": "markdown",
   "metadata": {},
   "source": [
    "### SM, 50 nodes, gems"
   ]
  },
  {
   "cell_type": "code",
   "execution_count": 8,
   "metadata": {
    "collapsed": true
   },
   "outputs": [
    {
     "name": "stdout",
     "output_type": "stream",
     "text": [
      "0, 1, 2, 3, 4, 5, 6, 7, 8, 9, [0.057091971949628825, 4.4183754123023442e+49, 3.0928627886116401e+50, 0.29615124216558447, 0.13289800593778908]\n",
      "CPU times: user 5min 12s, sys: 531 ms, total: 5min 12s\n",
      "Wall time: 5min 35s\n"
     ]
    }
   ],
   "source": [
    "%%time\n",
    "random.seed(1)\n",
    "\n",
    "PARAMS['n_cols']      = 50\n",
    "EV_PARAMS['gems']     = True\n",
    "\n",
    "all_measurements['50,True,5'] = run_experiment(PARAMS, EV_PARAMS, X, y)"
   ]
  },
  {
   "cell_type": "markdown",
   "metadata": {},
   "source": [
    "### SM, 100 nodes, gems"
   ]
  },
  {
   "cell_type": "code",
   "execution_count": 9,
   "metadata": {
    "collapsed": true
   },
   "outputs": [
    {
     "name": "stdout",
     "output_type": "stream",
     "text": [
      "0, 1, 2, 3, 4, 5, 6, 7, 8, 9, [0.17589331381833978, 2.7522982572461116e+52, 1.9266087800722782e+53, 0.32626469422984739, 0.095804663682667934]\n",
      "CPU times: user 6min 54s, sys: 641 ms, total: 6min 55s\n",
      "Wall time: 7min 23s\n"
     ]
    }
   ],
   "source": [
    "%%time\n",
    "random.seed(1)\n",
    "\n",
    "PARAMS['n_cols']      = 100\n",
    "EV_PARAMS['gems']     = True\n",
    "\n",
    "all_measurements['100,True,5'] = run_experiment(PARAMS, EV_PARAMS, X, y)"
   ]
  },
  {
   "cell_type": "markdown",
   "metadata": {},
   "source": [
    "### SM, 10 nodes, gems, jBox 10"
   ]
  },
  {
   "cell_type": "code",
   "execution_count": 10,
   "metadata": {
    "collapsed": true
   },
   "outputs": [
    {
     "name": "stdout",
     "output_type": "stream",
     "text": [
      "0, 1, 2, 3, 4, 5, 6, 7, 8, 9, [0.16408060776414768, 1.073981758526659e+24, 5.3497826245280862e+24, 0.34507685913922115, 0.132288881401007]\n",
      "CPU times: user 2min 30s, sys: 234 ms, total: 2min 30s\n",
      "Wall time: 2min 41s\n"
     ]
    }
   ],
   "source": [
    "%%time\n",
    "random.seed(1)\n",
    "\n",
    "PARAMS['n_cols']      = 10\n",
    "EV_PARAMS['gems']     = True\n",
    "EV_PARAMS['j_box_size'] = 10\n",
    "\n",
    "all_measurements['10,True,10'] = run_experiment(PARAMS, EV_PARAMS, X, y)"
   ]
  },
  {
   "cell_type": "markdown",
   "metadata": {},
   "source": [
    "### SM, 50 nodes, gems, jbox 10"
   ]
  },
  {
   "cell_type": "code",
   "execution_count": 11,
   "metadata": {
    "collapsed": true
   },
   "outputs": [
    {
     "name": "stdout",
     "output_type": "stream",
     "text": [
      "0, 1, 2, 3, 4, 5, 6, 7, 8, 9, [0.16408060776414768, 1.073981758526659e+24, 5.3497826245280862e+24, 0.34507685913922115, 0.132288881401007]\n",
      "CPU times: user 2min 35s, sys: 250 ms, total: 2min 35s\n",
      "Wall time: 2min 48s\n"
     ]
    }
   ],
   "source": [
    "%%time\n",
    "random.seed(1)\n",
    "\n",
    "PARAMS['n_cols']      = 10\n",
    "EV_PARAMS['gems']     = True\n",
    "EV_PARAMS['j_box_size'] = 10\n",
    "\n",
    "all_measurements['50,True,10'] = run_experiment(PARAMS, EV_PARAMS, X, y)"
   ]
  },
  {
   "cell_type": "markdown",
   "metadata": {},
   "source": [
    "### SM, 100 nodes, gems, jbox 10"
   ]
  },
  {
   "cell_type": "code",
   "execution_count": null,
   "metadata": {
    "collapsed": true
   },
   "outputs": [
    {
     "name": "stdout",
     "output_type": "stream",
     "text": [
      "0, 1, 2, "
     ]
    }
   ],
   "source": [
    "%%time\n",
    "random.seed(1)\n",
    "\n",
    "PARAMS['n_cols']      = 100\n",
    "EV_PARAMS['gems']     = True\n",
    "EV_PARAMS['j_box_size'] = 10\n",
    "\n",
    "all_measurements['100,True,10'] = run_experiment(PARAMS, EV_PARAMS, X, y)"
   ]
  },
  {
   "cell_type": "code",
   "execution_count": null,
   "metadata": {
    "collapsed": true
   },
   "outputs": [],
   "source": [
    "import pandas as pd\n",
    "df = pd.DataFrame.from_dict(all_measurements, orient='index')\n",
    "df.columns = ['best fitness', 'mean of last gen', 'std of last gen', 'mean of best individual', 'std of best indvidiual']\n",
    "df"
   ]
  }
 ],
 "metadata": {
  "kernelspec": {
   "display_name": "Python 3",
   "language": "python",
   "name": "python3"
  },
  "language_info": {
   "codemirror_mode": {
    "name": "ipython",
    "version": 3
   },
   "file_extension": ".py",
   "mimetype": "text/x-python",
   "name": "python",
   "nbconvert_exporter": "python",
   "pygments_lexer": "ipython3",
   "version": "3.6.2"
  }
 },
 "nbformat": 4,
 "nbformat_minor": 2
}
