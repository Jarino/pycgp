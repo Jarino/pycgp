{
 "cells": [
  {
   "cell_type": "code",
   "execution_count": 1,
   "metadata": {},
   "outputs": [],
   "source": [
    "import os\n",
    "import pickle\n",
    "from itertools import product\n",
    "\n",
    "import numpy as np\n",
    "import pandas as pd\n",
    "import seaborn as sns\n",
    "import matplotlib.pyplot as plt\n",
    "%matplotlib inline\n",
    "\n",
    "from pycgp import probabilistic_mutation, point_mutation, single_mutation\n",
    "from pycgp.gems import MatchByActiveStrategy, MatchSMStrategy, MatchPMStrategy"
   ]
  },
  {
   "cell_type": "code",
   "execution_count": 8,
   "metadata": {},
   "outputs": [],
   "source": [
    "class DataIterator():\n",
    "    def __init__(self, folder):\n",
    "        self.mutations = [\n",
    "          #  (probabilistic_mutation, MatchSMStrategy),\n",
    "            #(point_mutation, MatchPMStrategy),\n",
    "            #(single_mutation, MatchSMStrategy),\n",
    "            (single_mutation, MatchByActiveStrategy),\n",
    "            (probabilistic_mutation, MatchByActiveStrategy)\n",
    "        ]\n",
    "        self.gems = [5, 10]\n",
    "        \n",
    "        self.cols = [10, 50, 100]\n",
    "        \n",
    "        data = []\n",
    "        raw = []\n",
    "        for m,s,g,c,d in self.__iterate_folder(folder):\n",
    "            raw.append(d)\n",
    "            data.append([m, s, g, c, [x['gem_data'] for x in d], np.mean([x['gem_better_after'] for x in d]), np.mean([x['gem_worse_after'] for x in d]), np.mean([x['gem_same_after'] for x in d])])\n",
    "        data = pd.DataFrame(data)\n",
    "        data.columns = ['m', 's', 'g', 'c', 'gem_data', 'better_after', 'worse_after', 'safe_after']\n",
    "        self.data = data\n",
    "        self.raw = raw\n",
    "    \n",
    "    def __iterate_folder(self,folder):\n",
    "        for index, ((mutation, strategy), gem, column) in enumerate(product(self.mutations, self.gems, self.cols)):\n",
    "            file = os.path.join(folder,  f'{mutation.__name__}-{strategy.__name__}-gems{gem}-n_cols{column}.csv')\n",
    "            with open (file, 'rb') as fp:\n",
    "                data = pickle.load(fp)\n",
    "\n",
    "                yield mutation.__name__, strategy.__name__, gem, column, data\n",
    "    \n",
    "    def iterate_gem_data(self, mutation, strategy, axis=False):\n",
    "        gdatas = self.data[(self.data.m == mutation) & (self.data.s == strategy) & (self.data.g != 0)]\n",
    "\n",
    "        if axis:\n",
    "            _, axs = plt.subplots(2, len(gdatas)//2, figsize=(8,6))\n",
    "\n",
    "        for i, (_, gdata) in enumerate(gdatas.iterrows()):\n",
    "            pgdata = []\n",
    "            #pdb.set_trace()\n",
    "            for gem in [item for sublist in gdata.gem_data for item in sublist]:\n",
    "                row = [gdata.g, gdata.c, gem.match_checks, gem.match_count, gem.n_uses, gem.value, gem.match_probability, gdata.better_after, gdata.worse_after, gdata.safe_after]\n",
    "                pgdata.append(row)\n",
    "\n",
    "            pgdata = pd.DataFrame(pgdata)\n",
    "            pgdata.columns = ['gems', 'columns', 'match_checks', 'match_count', 'n_uses', 'value', 'match_probability', 'better_after', 'worse_after', 'same_after']\n",
    "            pgdata['success_rate_counts'] = pgdata.n_uses / pgdata.match_count\n",
    "            pgdata['success_rate_checks'] = pgdata.n_uses / pgdata.match_checks\n",
    "            \n",
    "            if axis:\n",
    "                yield pgdata, axs[i//3][i%3]\n",
    "            else:\n",
    "                yield pgdata, None\n",
    "    \n",
    "    def stats(self):\n",
    "        frames = []\n",
    "        for m, s in self.mutations:\n",
    "            for pgdata, _ in self.iterate_gem_data(m.__name__, s.__name__):\n",
    "                pgdata['m'] = m.__name__\n",
    "                pgdata['s'] = s.__name__\n",
    "                frames.append(pgdata)\n",
    "        data = pd.concat(frames)\n",
    "        return data\n",
    "\n",
    "import pdb\n",
    "            \n",
    "\n",
    "symreg = DataIterator('scripts/symbolic_basic/')\n",
    "#bincls = DataIterator('scripts/bin_class_out/')\n",
    "#santaf = DataIterator('scripts/santa_fe_out/')\n",
    "\n",
    "# def densities(di, m, s):\n",
    "#     frames = []\n",
    "#     for pgdata, ax in di.iterate_gem_data(m, s, True):\n",
    "#         frames.append(pgdata)\n",
    "#         sns.distplot(pgdata.n_uses, ax=ax)\n",
    "#     data = pd.concat(frames)\n",
    "#     print(f'Count of gems: {len(data)}')\n",
    "#     print(data.groupby('gems').median())\n"
   ]
  },
  {
   "cell_type": "code",
   "execution_count": 9,
   "metadata": {},
   "outputs": [],
   "source": [
    "data = symreg.raw"
   ]
  },
  {
   "cell_type": "code",
   "execution_count": 13,
   "metadata": {},
   "outputs": [
    {
     "ename": "AttributeError",
     "evalue": "'list' object has no attribute 'keys'",
     "output_type": "error",
     "traceback": [
      "\u001b[0;31m-----------------------------------\u001b[0m",
      "\u001b[0;31mAttributeError\u001b[0mTraceback (most recent call last)",
      "\u001b[0;32m<ipython-input-13-0459531b8c3d>\u001b[0m in \u001b[0;36m<module>\u001b[0;34m()\u001b[0m\n\u001b[0;32m----> 1\u001b[0;31m \u001b[0mdata\u001b[0m\u001b[0;34m[\u001b[0m\u001b[0;36m0\u001b[0m\u001b[0;34m]\u001b[0m\u001b[0;34m.\u001b[0m\u001b[0mkeys\u001b[0m\u001b[0;34m(\u001b[0m\u001b[0;34m)\u001b[0m\u001b[0;34m\u001b[0m\u001b[0m\n\u001b[0m",
      "\u001b[0;31mAttributeError\u001b[0m: 'list' object has no attribute 'keys'"
     ]
    }
   ],
   "source": [
    "data[0].keys()"
   ]
  },
  {
   "cell_type": "code",
   "execution_count": null,
   "metadata": {},
   "outputs": [],
   "source": []
  }
 ],
 "metadata": {
  "kernelspec": {
   "display_name": "Python 3",
   "language": "python",
   "name": "python3"
  },
  "language_info": {
   "codemirror_mode": {
    "name": "ipython",
    "version": 3
   },
   "file_extension": ".py",
   "mimetype": "text/x-python",
   "name": "python",
   "nbconvert_exporter": "python",
   "pygments_lexer": "ipython3",
   "version": "3.6.2"
  }
 },
 "nbformat": 4,
 "nbformat_minor": 2
}
