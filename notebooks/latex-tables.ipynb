{
 "cells": [
  {
   "cell_type": "code",
   "execution_count": 43,
   "metadata": {},
   "outputs": [],
   "source": [
    "import pandas as pd\n",
    "\n",
    "from pycgp import single_mutation, point_mutation, probabilistic_mutation\n",
    "from pycgp.gems import MatchByActiveStrategy, MatchPMStrategy, MatchSMStrategy\n",
    "\n",
    "from utils import load_data, aggregate_statistics, plot_fitnesses, plot_distributions\n",
    "\n",
    "mutations = [\n",
    "        (single_mutation, MatchSMStrategy),\n",
    "        (point_mutation, MatchPMStrategy),\n",
    "        (probabilistic_mutation, MatchSMStrategy),\n",
    "        (single_mutation, MatchByActiveStrategy),\n",
    "        (probabilistic_mutation, MatchByActiveStrategy)]\n",
    "\n",
    "def print_latex_columns(folder, minus=False, key='best'):\n",
    "    has_test = False\n",
    "    if key=='test_error':\n",
    "        has_test=True\n",
    "        \n",
    "    data = aggregate_statistics(folder, mutations, has_test_error=has_test)\n",
    "    \n",
    "    data.best = pd.to_numeric(data.best)\n",
    "\n",
    "    rows = []\n",
    "\n",
    "    bitfilter = (data.mutation == 'point_mutation')\n",
    "\n",
    "    for x in data[bitfilter].groupby(['gems', 'columns']).mean().iterrows():\n",
    "        if minus:\n",
    "            row = [x[0][-2], x[0][-1], '{:.3f} & {:.3f}'.format(-x[1][key], -x[1]['mean'])]\n",
    "        else:\n",
    "            row = [x[0][-2], x[0][-1], '{:.3f} & {:.3f}'.format(x[1][key], x[1]['mean'])]\n",
    "        row = [str(i) for i in row]\n",
    "        rows.append((' & '.join(row)))\n",
    "\n",
    "        bitfilter = (data.mutation == 'single_mutation') & (data.strategy == 'MatchSMStrategy')\n",
    "\n",
    "    for i, x in enumerate(data[bitfilter].groupby(['gems', 'columns']).mean().iterrows()):\n",
    "        \n",
    "        if minus:\n",
    "            rows[i] += ' & {:.3f} & {:.3f}'.format(-x[1][key], -x[1]['mean'])\n",
    "        else:\n",
    "            rows[i] += ' & {:.3f} & {:.3f}'.format(x[1][key], x[1]['mean'])\n",
    "\n",
    "    bitfilter = (data.mutation == 'single_mutation') & (data.strategy == 'MatchByActiveStrategy')\n",
    "\n",
    "    for i, x in enumerate(data[bitfilter].groupby(['gems', 'columns']).mean().iterrows()):\n",
    "        if minus:\n",
    "            rows[i] += ' & {:.3f} & {:.3f}'.format(-x[1][key], -x[1]['mean'])\n",
    "        else:\n",
    "            rows[i] += ' & {:.3f} & {:.3f}'.format(x[1][key], x[1]['mean'])\n",
    "\n",
    "    bitfilter = (data.mutation == 'probabilistic_mutation') & (data.strategy == 'MatchByActiveStrategy')\n",
    "\n",
    "    for i, x in enumerate(data[bitfilter].groupby(['gems', 'columns']).mean().iterrows()):\n",
    "        if minus:\n",
    "            rows[i] += ' & {:.3f} & {:.3f} \\\\\\\\'.format(-x[1][key], -x[1]['mean'])\n",
    "        else:\n",
    "            rows[i] += ' & {:.3f} & {:.3f} \\\\\\\\'.format(x[1][key], x[1]['mean'])\n",
    "\n",
    "    for x in rows:\n",
    "        print(x)\n"
   ]
  },
  {
   "cell_type": "code",
   "execution_count": 30,
   "metadata": {},
   "outputs": [
    {
     "name": "stdout",
     "output_type": "stream",
     "text": [
      "0 & 10 & 0.121 & 21.805 & 0.164 & 18.947 & 0.164 & 18.947 & 0.121 & 502.663 \\\\\n",
      "0 & 50 & 0.000 & 0.004 & 0.198 & 136.767 & 0.198 & 136.767 & 0.000 & 6.679 \\\\\n",
      "0 & 100 & 0.118 & 0.120 & 0.000 & 8701.383 & 0.000 & 8701.383 & 0.000 & 1.543 \\\\\n",
      "5 & 10 & 0.095 & 0.367 & 0.000 & 0.289 & 0.000 & 101.476 & 0.000 & 25.404 \\\\\n",
      "5 & 50 & 0.000 & 0.193 & 0.055 & 1213.768 & 0.048 & 0.927 & 0.000 & 1.339 \\\\\n",
      "5 & 100 & 0.055 & 0.057 & 0.000 & 0.826 & 0.000 & 26.530 & 0.081 & 1.853 \\\\\n",
      "10 & 10 & 0.160 & 0.414 & 0.174 & 1.163 & 0.000 & 101.476 & 0.000 & 14.087 \\\\\n",
      "10 & 50 & 0.000 & 0.067 & 0.104 & 0.187 & 0.000 & 1.969 & 0.000 & 43.976 \\\\\n",
      "10 & 100 & 0.000 & 0.240 & 0.096 & 0.413 & 0.045 & 7316.465 & 0.000 & 25.623 \\\\\n"
     ]
    }
   ],
   "source": [
    "print_latex_columns('scripts/symbolic_out_pypy')"
   ]
  },
  {
   "cell_type": "code",
   "execution_count": 31,
   "metadata": {},
   "outputs": [
    {
     "name": "stdout",
     "output_type": "stream",
     "text": [
      "0 & 10 & 0.901 & 0.874 & 0.912 & 0.700 & 0.912 & 0.700 & 0.883 & 0.737 \\\\\n",
      "0 & 50 & 0.918 & 0.937 & 0.918 & 0.701 & 0.918 & 0.701 & 0.924 & 0.725 \\\\\n",
      "0 & 100 & 0.936 & 0.965 & 0.936 & 0.806 & 0.936 & 0.806 & 0.953 & 0.606 \\\\\n",
      "5 & 10 & 0.918 & 0.948 & 0.930 & 0.904 & 0.883 & 0.753 & 0.936 & 0.754 \\\\\n",
      "5 & 50 & 0.936 & 0.847 & 0.947 & 0.669 & 0.918 & 0.862 & 0.930 & 0.771 \\\\\n",
      "5 & 100 & 0.901 & 0.958 & 0.924 & 0.837 & 0.953 & 0.890 & 0.924 & 0.712 \\\\\n",
      "10 & 10 & 0.930 & 0.862 & 0.924 & 0.850 & 0.883 & 0.753 & 0.936 & 0.754 \\\\\n",
      "10 & 50 & 0.883 & 0.889 & 0.947 & 0.885 & 0.953 & 0.729 & 0.942 & 0.735 \\\\\n",
      "10 & 100 & 0.906 & 0.960 & 0.895 & 0.945 & 0.953 & 0.858 & 0.924 & 0.712 \\\\\n"
     ]
    }
   ],
   "source": [
    "print_latex_columns('scripts/bin_class_out/', minus=True, key='test_error')"
   ]
  },
  {
   "cell_type": "code",
   "execution_count": 44,
   "metadata": {},
   "outputs": [
    {
     "name": "stdout",
     "output_type": "stream",
     "text": [
      "0 & 10 & 89.000 & 68.000 & 75.000 & 58.800 & 75.000 & 58.800 & 39.000 & 16.000 \\\\\n",
      "0 & 50 & 89.000 & 85.000 & 89.000 & 84.200 & 89.000 & 84.200 & 88.000 & 43.800 \\\\\n",
      "0 & 100 & 89.000 & 73.000 & 89.000 & 85.000 & 89.000 & 85.000 & 89.000 & 55.200 \\\\\n",
      "5 & 10 & 73.000 & 59.000 & 89.000 & 81.000 & 82.000 & 58.000 & 29.000 & 13.000 \\\\\n",
      "5 & 50 & 89.000 & 87.200 & 89.000 & 79.200 & 89.000 & 79.800 & 83.000 & 39.000 \\\\\n",
      "5 & 100 & 89.000 & 88.200 & 89.000 & 77.800 & 89.000 & 86.200 & 89.000 & 40.600 \\\\\n",
      "10 & 10 & 89.000 & 60.400 & 84.000 & 53.400 & 60.000 & 43.000 & 28.000 & 14.000 \\\\\n",
      "10 & 50 & 89.000 & 86.400 & 89.000 & 84.400 & 89.000 & 88.400 & 89.000 & 42.000 \\\\\n",
      "10 & 100 & 89.000 & 88.200 & 89.000 & 84.200 & 89.000 & 84.200 & 89.000 & 51.600 \\\\\n"
     ]
    }
   ],
   "source": [
    "print_latex_columns('scripts/santa_fe_out/', minus=True)"
   ]
  },
  {
   "cell_type": "code",
   "execution_count": null,
   "metadata": {},
   "outputs": [],
   "source": []
  }
 ],
 "metadata": {
  "kernelspec": {
   "display_name": "Python 3",
   "language": "python",
   "name": "python3"
  },
  "language_info": {
   "codemirror_mode": {
    "name": "ipython",
    "version": 3
   },
   "file_extension": ".py",
   "mimetype": "text/x-python",
   "name": "python",
   "nbconvert_exporter": "python",
   "pygments_lexer": "ipython3",
   "version": "3.6.2"
  }
 },
 "nbformat": 4,
 "nbformat_minor": 2
}
