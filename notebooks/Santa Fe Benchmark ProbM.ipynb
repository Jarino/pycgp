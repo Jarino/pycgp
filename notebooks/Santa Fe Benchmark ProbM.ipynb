{
 "cells": [
  {
   "cell_type": "markdown",
   "metadata": {},
   "source": [
    "# Santa Fe Benchmark, ProbM"
   ]
  },
  {
   "cell_type": "code",
   "execution_count": 1,
   "metadata": {
    "collapsed": true
   },
   "outputs": [],
   "source": [
    "from pycgp.benchmarks.santafe import PARAMS, EV_PARAMS, X, santafe_cost_function\n",
    "from pycgp.evolution import evolution\n",
    "import numpy as np\n",
    "import random"
   ]
  },
  {
   "cell_type": "code",
   "execution_count": 2,
   "metadata": {
    "collapsed": true
   },
   "outputs": [],
   "source": [
    "def run_experiment(params, ev_params, x):\n",
    "    rstat = []\n",
    "    for i in range(0, 20):\n",
    "        print(i, end=', ')\n",
    "\n",
    "        result = evolution(PARAMS, EV_PARAMS, X, None)\n",
    "\n",
    "        rstat.append([santafe_cost_function(None, individual.execute(X)) for individual in result['final']])\n",
    "    \n",
    "    #print('Best fitness: {}'.format(np.min(stats)))\n",
    "    #print('mean and std of fitness of last generation: {}, {}'.format(np.mean(stats), np.std(stats)))\n",
    "    #print('Mean and std of best fitness: {}, {}'.format(np.mean(np.min(stats, axis=1)), np.std(np.min(stats, axis=1))))\n",
    "    # best fitness, mean of last generation, std of last generation, mean of best individual, std of best individual\n",
    "    results = [\n",
    "        np.min(rstat), np.mean(rstat), np.std(rstat), np.mean(np.min(rstat, axis=1)), np.std(np.min(rstat, axis=1)) \n",
    "    ]\n",
    "    print(results)\n",
    "    return results\n",
    "    "
   ]
  },
  {
   "cell_type": "markdown",
   "metadata": {},
   "source": [
    "## Probabilistic mutation"
   ]
  },
  {
   "cell_type": "code",
   "execution_count": 3,
   "metadata": {},
   "outputs": [],
   "source": [
    "from pycgp.mutation import probabilistic_mutation\n",
    "from pycgp.gems import GemSM, MatchSMStrategy\n",
    "all_measurements = {}\n",
    "EV_PARAMS['mutation'] = probabilistic_mutation\n",
    "EV_PARAMS['gem_type'] = GemSM\n",
    "EV_PARAMS['match_strategy'] = MatchSMStrategy"
   ]
  },
  {
   "cell_type": "markdown",
   "metadata": {},
   "source": [
    "### ProbM, 10 nodes"
   ]
  },
  {
   "cell_type": "code",
   "execution_count": 4,
   "metadata": {},
   "outputs": [
    {
     "name": "stdout",
     "output_type": "stream",
     "text": [
      "0, 1, 2, 3, 4, 5, 6, 7, 8, 9, 10, 11, 12, 13, 14, 15, 16, 17, 18, 19, [-39, -5.2800000000000002, 7.2209140695621077, -16.5, 7.807048097712733]\n",
      "CPU times: user 1min 50s, sys: 143 ms, total: 1min 51s\n",
      "Wall time: 1min 51s\n"
     ]
    }
   ],
   "source": [
    "%%time\n",
    "random.seed(1)\n",
    "\n",
    "PARAMS['n_cols']      = 10\n",
    "EV_PARAMS['gems']     = False\n",
    "\n",
    "all_measurements['10,false'] = run_experiment(PARAMS, EV_PARAMS, X)"
   ]
  },
  {
   "cell_type": "markdown",
   "metadata": {},
   "source": [
    "### ProbM, 50 nodes"
   ]
  },
  {
   "cell_type": "code",
   "execution_count": 5,
   "metadata": {},
   "outputs": [
    {
     "name": "stdout",
     "output_type": "stream",
     "text": [
      "0, 1, 2, 3, 4, 5, 6, 7, 8, 9, 10, 11, 12, 13, 14, 15, 16, 17, 18, 19, [-88, -18.640000000000001, 23.640862928412741, -62.100000000000001, 12.581335382223939]\n",
      "CPU times: user 3min 56s, sys: 64 ms, total: 3min 56s\n",
      "Wall time: 3min 57s\n"
     ]
    }
   ],
   "source": [
    "%%time\n",
    "stats = []; random.seed(1);\n",
    "\n",
    "PARAMS['n_cols']      = 50\n",
    "EV_PARAMS['gems']     = False\n",
    "\n",
    "all_measurements['50,false'] = run_experiment(PARAMS, EV_PARAMS, X)"
   ]
  },
  {
   "cell_type": "markdown",
   "metadata": {},
   "source": [
    "### ProbM, 100 nodes"
   ]
  },
  {
   "cell_type": "code",
   "execution_count": 6,
   "metadata": {},
   "outputs": [
    {
     "name": "stdout",
     "output_type": "stream",
     "text": [
      "0, 1, 2, 3, 4, 5, 6, 7, 8, 9, 10, 11, 12, 13, 14, 15, 16, 17, 18, 19, [-89, -29.84, 33.064397771621366, -80.349999999999994, 10.42245172692107]\n",
      "CPU times: user 9min 20s, sys: 260 ms, total: 9min 21s\n",
      "Wall time: 9min 21s\n"
     ]
    }
   ],
   "source": [
    "%%time\n",
    "stats = []; random.seed(1);\n",
    "\n",
    "PARAMS['n_cols']      = 100\n",
    "EV_PARAMS['gems']     = False\n",
    "\n",
    "all_measurements['100,false'] = run_experiment(PARAMS, EV_PARAMS, X)"
   ]
  },
  {
   "cell_type": "markdown",
   "metadata": {},
   "source": [
    "### ProbM, 10 nodes, Gems"
   ]
  },
  {
   "cell_type": "code",
   "execution_count": 7,
   "metadata": {},
   "outputs": [
    {
     "name": "stdout",
     "output_type": "stream",
     "text": [
      "0, 1, 2, 3, 4, 5, 6, 7, 8, 9, 10, 11, 12, 13, 14, 15, 16, 17, 18, 19, [-27, -4.7699999999999996, 6.4650676717262598, -15.949999999999999, 5.6962707098592151]\n",
      "CPU times: user 1min 35s, sys: 24 ms, total: 1min 35s\n",
      "Wall time: 1min 35s\n"
     ]
    }
   ],
   "source": [
    "%%time\n",
    "stats = []; random.seed(1);\n",
    "\n",
    "PARAMS['n_cols']      = 10\n",
    "EV_PARAMS['gems']     = True\n",
    "EV_PARAMS['j_box_size'] = 5\n",
    "\n",
    "all_measurements['10,false,5'] = run_experiment(PARAMS, EV_PARAMS, X)"
   ]
  },
  {
   "cell_type": "markdown",
   "metadata": {},
   "source": [
    "### ProbM, 50 nodes, Gems"
   ]
  },
  {
   "cell_type": "code",
   "execution_count": 8,
   "metadata": {},
   "outputs": [
    {
     "name": "stdout",
     "output_type": "stream",
     "text": [
      "0, 1, 2, 3, 4, 5, 6, 7, 8, 9, 10, 11, 12, 13, 14, 15, 16, 17, 18, 19, [-88, -18.640000000000001, 23.640862928412741, -62.100000000000001, 12.581335382223939]\n",
      "CPU times: user 4min 8s, sys: 152 ms, total: 4min 9s\n",
      "Wall time: 4min 9s\n"
     ]
    }
   ],
   "source": [
    "%%time\n",
    "stats = []; random.seed(1);\n",
    "\n",
    "PARAMS['n_cols']      = 50\n",
    "EV_PARAMS['gems']     = True\n",
    "EV_PARAMS['j_box_size'] = 5\n",
    "\n",
    "all_measurements['50,false,5'] = run_experiment(PARAMS, EV_PARAMS, X)"
   ]
  },
  {
   "cell_type": "markdown",
   "metadata": {},
   "source": [
    "### ProbM, 100 nodes, Gems"
   ]
  },
  {
   "cell_type": "code",
   "execution_count": 9,
   "metadata": {},
   "outputs": [
    {
     "name": "stdout",
     "output_type": "stream",
     "text": [
      "0, 1, 2, 3, 4, 5, 6, 7, 8, 9, 10, 11, 12, 13, 14, 15, 16, 17, 18, 19, [-89, -29.84, 33.064397771621366, -80.349999999999994, 10.42245172692107]\n",
      "CPU times: user 9min 57s, sys: 360 ms, total: 9min 58s\n",
      "Wall time: 9min 58s\n"
     ]
    }
   ],
   "source": [
    "%%time\n",
    "stats = []; random.seed(1);\n",
    "\n",
    "PARAMS['n_cols']      = 100\n",
    "EV_PARAMS['gems']     = True\n",
    "EV_PARAMS['j_box_size'] = 5\n",
    "\n",
    "all_measurements['100,false,5'] = run_experiment(PARAMS, EV_PARAMS, X)"
   ]
  },
  {
   "cell_type": "markdown",
   "metadata": {},
   "source": [
    "## jBox size 10"
   ]
  },
  {
   "cell_type": "code",
   "execution_count": 10,
   "metadata": {},
   "outputs": [
    {
     "name": "stdout",
     "output_type": "stream",
     "text": [
      "0, 1, 2, 3, 4, 5, 6, 7, 8, 9, 10, 11, 12, 13, 14, 15, 16, 17, 18, 19, [-28, -4.5899999999999999, 6.6529617464705151, -16.350000000000001, 5.7902936022277833]\n",
      "CPU times: user 1min 51s, sys: 64 ms, total: 1min 51s\n",
      "Wall time: 1min 51s\n"
     ]
    }
   ],
   "source": [
    "%%time\n",
    "stats = []; random.seed(1);\n",
    "\n",
    "PARAMS['n_cols']        = 10\n",
    "EV_PARAMS['gems']       = True\n",
    "EV_PARAMS['j_box_size'] = 10\n",
    "\n",
    "all_measurements['10,false,10'] = run_experiment(PARAMS, EV_PARAMS, X)"
   ]
  },
  {
   "cell_type": "code",
   "execution_count": 11,
   "metadata": {},
   "outputs": [
    {
     "name": "stdout",
     "output_type": "stream",
     "text": [
      "0, 1, 2, 3, 4, 5, 6, 7, 8, 9, 10, 11, 12, 13, 14, 15, 16, 17, 18, 19, [-88, -18.640000000000001, 23.640862928412741, -62.100000000000001, 12.581335382223939]\n",
      "CPU times: user 4min 8s, sys: 52 ms, total: 4min 8s\n",
      "Wall time: 4min 8s\n"
     ]
    }
   ],
   "source": [
    "%%time\n",
    "stats = []; random.seed(1);\n",
    "\n",
    "PARAMS['n_cols']        = 50\n",
    "EV_PARAMS['gems']       = True\n",
    "EV_PARAMS['j_box_size'] = 10\n",
    "\n",
    "all_measurements['50,false,10'] = run_experiment(PARAMS, EV_PARAMS, X)"
   ]
  },
  {
   "cell_type": "code",
   "execution_count": 12,
   "metadata": {},
   "outputs": [
    {
     "name": "stdout",
     "output_type": "stream",
     "text": [
      "0, 1, 2, 3, 4, 5, 6, 7, 8, 9, 10, 11, 12, 13, 14, 15, 16, 17, 18, 19, [-89, -29.84, 33.064397771621366, -80.349999999999994, 10.42245172692107]\n",
      "CPU times: user 10min, sys: 492 ms, total: 10min 1s\n",
      "Wall time: 10min 1s\n"
     ]
    }
   ],
   "source": [
    "%%time\n",
    "stats = []; random.seed(1);\n",
    "\n",
    "PARAMS['n_cols']        = 100\n",
    "EV_PARAMS['gems']       = True\n",
    "EV_PARAMS['j_box_size'] = 10\n",
    "\n",
    "all_measurements['100,false,10'] = run_experiment(PARAMS, EV_PARAMS, X)"
   ]
  },
  {
   "cell_type": "markdown",
   "metadata": {},
   "source": [
    "# Summary"
   ]
  },
  {
   "cell_type": "code",
   "execution_count": 13,
   "metadata": {},
   "outputs": [
    {
     "data": {
      "text/html": [
       "<div>\n",
       "<style>\n",
       "    .dataframe thead tr:only-child th {\n",
       "        text-align: right;\n",
       "    }\n",
       "\n",
       "    .dataframe thead th {\n",
       "        text-align: left;\n",
       "    }\n",
       "\n",
       "    .dataframe tbody tr th {\n",
       "        vertical-align: top;\n",
       "    }\n",
       "</style>\n",
       "<table border=\"1\" class=\"dataframe\">\n",
       "  <thead>\n",
       "    <tr style=\"text-align: right;\">\n",
       "      <th></th>\n",
       "      <th>best fitness</th>\n",
       "      <th>mean of last gen</th>\n",
       "      <th>std of last gen</th>\n",
       "      <th>mean of best individual</th>\n",
       "      <th>std of best indvidiual</th>\n",
       "    </tr>\n",
       "  </thead>\n",
       "  <tbody>\n",
       "    <tr>\n",
       "      <th>10,false</th>\n",
       "      <td>-39</td>\n",
       "      <td>-5.28</td>\n",
       "      <td>7.220914</td>\n",
       "      <td>-16.50</td>\n",
       "      <td>7.807048</td>\n",
       "    </tr>\n",
       "    <tr>\n",
       "      <th>50,false</th>\n",
       "      <td>-88</td>\n",
       "      <td>-18.64</td>\n",
       "      <td>23.640863</td>\n",
       "      <td>-62.10</td>\n",
       "      <td>12.581335</td>\n",
       "    </tr>\n",
       "    <tr>\n",
       "      <th>100,false</th>\n",
       "      <td>-89</td>\n",
       "      <td>-29.84</td>\n",
       "      <td>33.064398</td>\n",
       "      <td>-80.35</td>\n",
       "      <td>10.422452</td>\n",
       "    </tr>\n",
       "    <tr>\n",
       "      <th>10,false,5</th>\n",
       "      <td>-27</td>\n",
       "      <td>-4.77</td>\n",
       "      <td>6.465068</td>\n",
       "      <td>-15.95</td>\n",
       "      <td>5.696271</td>\n",
       "    </tr>\n",
       "    <tr>\n",
       "      <th>50,false,5</th>\n",
       "      <td>-88</td>\n",
       "      <td>-18.64</td>\n",
       "      <td>23.640863</td>\n",
       "      <td>-62.10</td>\n",
       "      <td>12.581335</td>\n",
       "    </tr>\n",
       "    <tr>\n",
       "      <th>100,false,5</th>\n",
       "      <td>-89</td>\n",
       "      <td>-29.84</td>\n",
       "      <td>33.064398</td>\n",
       "      <td>-80.35</td>\n",
       "      <td>10.422452</td>\n",
       "    </tr>\n",
       "    <tr>\n",
       "      <th>10,false,10</th>\n",
       "      <td>-28</td>\n",
       "      <td>-4.59</td>\n",
       "      <td>6.652962</td>\n",
       "      <td>-16.35</td>\n",
       "      <td>5.790294</td>\n",
       "    </tr>\n",
       "    <tr>\n",
       "      <th>50,false,10</th>\n",
       "      <td>-88</td>\n",
       "      <td>-18.64</td>\n",
       "      <td>23.640863</td>\n",
       "      <td>-62.10</td>\n",
       "      <td>12.581335</td>\n",
       "    </tr>\n",
       "    <tr>\n",
       "      <th>100,false,10</th>\n",
       "      <td>-89</td>\n",
       "      <td>-29.84</td>\n",
       "      <td>33.064398</td>\n",
       "      <td>-80.35</td>\n",
       "      <td>10.422452</td>\n",
       "    </tr>\n",
       "  </tbody>\n",
       "</table>\n",
       "</div>"
      ],
      "text/plain": [
       "              best fitness  mean of last gen  std of last gen  \\\n",
       "10,false               -39             -5.28         7.220914   \n",
       "50,false               -88            -18.64        23.640863   \n",
       "100,false              -89            -29.84        33.064398   \n",
       "10,false,5             -27             -4.77         6.465068   \n",
       "50,false,5             -88            -18.64        23.640863   \n",
       "100,false,5            -89            -29.84        33.064398   \n",
       "10,false,10            -28             -4.59         6.652962   \n",
       "50,false,10            -88            -18.64        23.640863   \n",
       "100,false,10           -89            -29.84        33.064398   \n",
       "\n",
       "              mean of best individual  std of best indvidiual  \n",
       "10,false                       -16.50                7.807048  \n",
       "50,false                       -62.10               12.581335  \n",
       "100,false                      -80.35               10.422452  \n",
       "10,false,5                     -15.95                5.696271  \n",
       "50,false,5                     -62.10               12.581335  \n",
       "100,false,5                    -80.35               10.422452  \n",
       "10,false,10                    -16.35                5.790294  \n",
       "50,false,10                    -62.10               12.581335  \n",
       "100,false,10                   -80.35               10.422452  "
      ]
     },
     "execution_count": 13,
     "metadata": {},
     "output_type": "execute_result"
    }
   ],
   "source": [
    "import pandas as pd\n",
    "df = pd.DataFrame.from_dict(all_measurements, orient='index')\n",
    "df.columns = ['best fitness', 'mean of last gen', 'std of last gen', 'mean of best individual', 'std of best indvidiual']\n",
    "df"
   ]
  },
  {
   "cell_type": "markdown",
   "metadata": {},
   "source": [
    "## Summary\n",
    "\n",
    "** Without gems **\n",
    "\n",
    "| nodes | time     | max fitness | last gen mean | last gen std | best ind mean | best ind std |\n",
    "|-------|----------|------------:|------------  :|-------------:|--------------:|-------------:|\n",
    "| 10    |  1min 36s| 89          | 23.4          | 18.56        | 36.4          | 18.58        |\n",
    "| 50    |  5min 47s| 89          | 47.32         | 28.03        | 53.95         | 26.74        |\n",
    "| 100   |  17min 3s| 89          | 56.41         | 25.79        | 63.15         | 23.87        |\n",
    "\n",
    "** With gems, jbox 5 **\n",
    "\n",
    "| nodes | time     | max fitness | last gen mean | last gen std | best ind mean | best ind std |\n",
    "|-------|----------|------------:|------------  :|-------------:|--------------:|-------------:|\n",
    "| 10    |  1min 59s| 89          | 21.73         | 24.19        | 33.5          | 28.36        |\n",
    "| 50    |  5min 56s| 89          | 54.25         | 31.27        | 61.85         | 28.01        |\n",
    "| 100   | 17min 57s| 89          | 52.43         | 27.61        | 56.35         | 25.74        |\n",
    "\n",
    "** With gems, jbox 10 **\n",
    "\n",
    "| nodes | time     | max fitness | last gen mean | last gen std | best ind mean | best ind std |\n",
    "|-------|----------|------------:|------------  :|-------------:|--------------:|-------------:|\n",
    "| 10    |  1min 46s| 89          | 19.93         | 20.56        | 32.15         | 24.41        |\n",
    "| 50    |  5min  6s| 89          | 43.21         | 30.97        | 48.45         | 29.54        |\n",
    "| 100   | 20min  8s| 89          | 55.48         | 24.47        | 63.15         | 21.54        |"
   ]
  },
  {
   "cell_type": "code",
   "execution_count": null,
   "metadata": {
    "collapsed": true
   },
   "outputs": [],
   "source": []
  }
 ],
 "metadata": {
  "kernelspec": {
   "display_name": "Python 3",
   "language": "python",
   "name": "python3"
  },
  "language_info": {
   "codemirror_mode": {
    "name": "ipython",
    "version": 3
   },
   "file_extension": ".py",
   "mimetype": "text/x-python",
   "name": "python",
   "nbconvert_exporter": "python",
   "pygments_lexer": "ipython3",
   "version": "3.6.3"
  }
 },
 "nbformat": 4,
 "nbformat_minor": 2
}
