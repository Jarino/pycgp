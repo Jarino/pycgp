{
 "cells": [
  {
   "cell_type": "markdown",
   "metadata": {},
   "source": [
    "# Santa Fe Benchmark, SM"
   ]
  },
  {
   "cell_type": "code",
   "execution_count": 1,
   "metadata": {
    "collapsed": true
   },
   "outputs": [],
   "source": [
    "from pycgp.benchmarks.santafe import PARAMS, EV_PARAMS, X, santafe_cost_function\n",
    "from pycgp.evolution import evolution\n",
    "import numpy as np\n",
    "import random"
   ]
  },
  {
   "cell_type": "code",
   "execution_count": 2,
   "metadata": {
    "collapsed": true
   },
   "outputs": [],
   "source": [
    "def run_experiment(params, ev_params, x):\n",
    "    rstat = []\n",
    "    for i in range(0, 20):\n",
    "        print(i, end=', ')\n",
    "\n",
    "        result = evolution(PARAMS, EV_PARAMS, X, None)\n",
    "\n",
    "        rstat.append([santafe_cost_function(None, individual.execute(X)) for individual in result['final']])\n",
    "    \n",
    "    #print('Best fitness: {}'.format(np.min(stats)))\n",
    "    #print('mean and std of fitness of last generation: {}, {}'.format(np.mean(stats), np.std(stats)))\n",
    "    #print('Mean and std of best fitness: {}, {}'.format(np.mean(np.min(stats, axis=1)), np.std(np.min(stats, axis=1))))\n",
    "    # best fitness, mean of last generation, std of last generation, mean of best individual, std of best individual\n",
    "    results = [\n",
    "        np.min(rstat), np.mean(rstat), np.std(rstat), np.mean(np.min(rstat, axis=1)), np.std(np.min(rstat, axis=1)) \n",
    "    ]\n",
    "    print(results)\n",
    "    return results\n",
    "    "
   ]
  },
  {
   "cell_type": "markdown",
   "metadata": {},
   "source": [
    "## Single mutation"
   ]
  },
  {
   "cell_type": "code",
   "execution_count": 3,
   "metadata": {
    "collapsed": true
   },
   "outputs": [],
   "source": [
    "from pycgp.mutation import single_mutation\n",
    "from pycgp.gems import GemSM, MatchSMStrategy\n",
    "EV_PARAMS['mutation']   = single_mutation\n",
    "EV_PARAMS['match_strategy'] = MatchSMStrategy\n",
    "EV_PARAMS['gem_type'] = GemSM\n",
    "all_measurements = {}"
   ]
  },
  {
   "cell_type": "markdown",
   "metadata": {},
   "source": [
    "### SM, 10 nodes"
   ]
  },
  {
   "cell_type": "code",
   "execution_count": 4,
   "metadata": {},
   "outputs": [
    {
     "name": "stdout",
     "output_type": "stream",
     "text": [
      "0, 1, 2, 3, 4, 5, 6, 7, 8, 9, 10, 11, 12, 13, 14, 15, 16, 17, 18, 19, [-75, -17.210000000000001, 13.344882914435781, -27.800000000000001, 14.451989482420752]\n",
      "CPU times: user 2min, sys: 37.2 ms, total: 2min\n",
      "Wall time: 2min 1s\n"
     ]
    }
   ],
   "source": [
    "%%time\n",
    "random.seed(1)\n",
    "\n",
    "PARAMS['n_cols']        = 10\n",
    "EV_PARAMS['gems']       = False\n",
    "EV_PARAMS['j_box_size'] = 5\n",
    "\n",
    "all_measurements['10,false'] = run_experiment(PARAMS, EV_PARAMS, X)"
   ]
  },
  {
   "cell_type": "markdown",
   "metadata": {},
   "source": [
    "### SM, 50 nodes"
   ]
  },
  {
   "cell_type": "code",
   "execution_count": 5,
   "metadata": {},
   "outputs": [
    {
     "name": "stdout",
     "output_type": "stream",
     "text": [
      "0, 1, 2, 3, 4, 5, 6, 7, 8, 9, 10, 11, 12, 13, 14, 15, 16, 17, 18, 19, [-89, -57.020000000000003, 30.755805955949196, -66.549999999999997, 26.952690032722153]\n",
      "CPU times: user 8min 19s, sys: 55.9 ms, total: 8min 19s\n",
      "Wall time: 8min 19s\n"
     ]
    }
   ],
   "source": [
    "%%time\n",
    "stats = []; random.seed(1);\n",
    "\n",
    "PARAMS['n_cols']        = 50\n",
    "EV_PARAMS['gems']       = False\n",
    "EV_PARAMS['j_box_size'] = 5\n",
    "\n",
    "all_measurements['50,false'] = run_experiment(PARAMS, EV_PARAMS, X)"
   ]
  },
  {
   "cell_type": "markdown",
   "metadata": {},
   "source": [
    "### SM, 100 nodes"
   ]
  },
  {
   "cell_type": "code",
   "execution_count": 6,
   "metadata": {},
   "outputs": [
    {
     "name": "stdout",
     "output_type": "stream",
     "text": [
      "0, 1, 2, 3, 4, 5, 6, 7, 8, 9, 10, 11, 12, 13, 14, 15, 16, 17, 18, 19, [-89, -57.43, 27.761575963910978, -66.900000000000006, 23.649312886424418]\n",
      "CPU times: user 13min 10s, sys: 380 ms, total: 13min 10s\n",
      "Wall time: 13min 14s\n"
     ]
    }
   ],
   "source": [
    "%%time\n",
    "stats = []; random.seed(1);\n",
    "\n",
    "PARAMS['n_cols']        = 100\n",
    "EV_PARAMS['gems']       = False\n",
    "EV_PARAMS['j_box_size'] = 5\n",
    "\n",
    "run_experiment(PARAMS, EV_PARAMS, X)"
   ]
  },
  {
   "cell_type": "markdown",
   "metadata": {},
   "source": [
    "### SM, 10 nodes, Gems"
   ]
  },
  {
   "cell_type": "code",
   "execution_count": 7,
   "metadata": {},
   "outputs": [
    {
     "name": "stdout",
     "output_type": "stream",
     "text": [
      "0, 1, 2, 3, 4, 5, 6, 7, 8, 9, 10, 11, 12, 13, 14, 15, 16, 17, 18, 19, [-89, -18.870000000000001, 19.116827665698093, -32.850000000000001, 20.905202701719972]\n",
      "CPU times: user 3min 13s, sys: 104 ms, total: 3min 13s\n",
      "Wall time: 3min 13s\n"
     ]
    }
   ],
   "source": [
    "%%time\n",
    "stats = []; random.seed(1);\n",
    "\n",
    "PARAMS['n_cols']        = 10\n",
    "EV_PARAMS['gems']       = True\n",
    "EV_PARAMS['j_box_size'] = 5\n",
    "\n",
    "all_measurements['100,false'] = run_experiment(PARAMS, EV_PARAMS, X)"
   ]
  },
  {
   "cell_type": "markdown",
   "metadata": {},
   "source": [
    "### SM, 50 nodes, Gems"
   ]
  },
  {
   "cell_type": "code",
   "execution_count": 8,
   "metadata": {},
   "outputs": [
    {
     "name": "stdout",
     "output_type": "stream",
     "text": [
      "0, 1, 2, 3, 4, 5, 6, 7, 8, 9, 10, 11, 12, 13, 14, 15, 16, 17, 18, 19, [-89, -64.040000000000006, 27.071726948977599, -75.450000000000003, 22.646136535842047]\n",
      "CPU times: user 7min 31s, sys: 192 ms, total: 7min 31s\n",
      "Wall time: 7min 33s\n"
     ]
    }
   ],
   "source": [
    "%%time\n",
    "stats = []; random.seed(1);\n",
    "\n",
    "PARAMS['n_cols']        = 50\n",
    "EV_PARAMS['gems']       = True\n",
    "EV_PARAMS['j_box_size'] = 5\n",
    "\n",
    "all_measurements['50,false,5'] = run_experiment(PARAMS, EV_PARAMS, X)"
   ]
  },
  {
   "cell_type": "markdown",
   "metadata": {},
   "source": [
    "### SM, 100 nodes, Gems"
   ]
  },
  {
   "cell_type": "code",
   "execution_count": 9,
   "metadata": {},
   "outputs": [
    {
     "name": "stdout",
     "output_type": "stream",
     "text": [
      "0, 1, 2, 3, 4, 5, 6, 7, 8, 9, 10, 11, 12, 13, 14, 15, 16, 17, 18, 19, [-89, -53.689999999999998, 28.37664356473471, -61.950000000000003, 26.484854162332102]\n",
      "CPU times: user 8min 57s, sys: 336 ms, total: 8min 57s\n",
      "Wall time: 9min\n"
     ]
    }
   ],
   "source": [
    "%%time\n",
    "stats = []; random.seed(1);\n",
    "\n",
    "PARAMS['n_cols']        = 100\n",
    "EV_PARAMS['gems']       = True\n",
    "EV_PARAMS['j_box_size'] = 5\n",
    "\n",
    "all_measurements['100,false,5'] = run_experiment(PARAMS, EV_PARAMS, X)"
   ]
  },
  {
   "cell_type": "markdown",
   "metadata": {},
   "source": [
    "### SM, 10 nodes, Gems, jBox 10"
   ]
  },
  {
   "cell_type": "code",
   "execution_count": 10,
   "metadata": {},
   "outputs": [
    {
     "name": "stdout",
     "output_type": "stream",
     "text": [
      "0, 1, 2, 3, 4, 5, 6, 7, 8, 9, 10, 11, 12, 13, 14, 15, 16, 17, 18, 19, [-57, -11.779999999999999, 9.9323511818702812, -24.100000000000001, 10.372559954032562]\n",
      "CPU times: user 3min 5s, sys: 64 ms, total: 3min 5s\n",
      "Wall time: 3min 5s\n"
     ]
    }
   ],
   "source": [
    "%%time\n",
    "random.seed(1);\n",
    "\n",
    "PARAMS['n_cols']        = 10\n",
    "EV_PARAMS['gems']       = True\n",
    "EV_PARAMS['j_box_size'] = 10\n",
    "\n",
    "all_measurements['10,false,10'] = run_experiment(PARAMS, EV_PARAMS, X)"
   ]
  },
  {
   "cell_type": "markdown",
   "metadata": {},
   "source": [
    "### SM, 50 nodes, Gems, jBox 10"
   ]
  },
  {
   "cell_type": "code",
   "execution_count": 11,
   "metadata": {},
   "outputs": [
    {
     "name": "stdout",
     "output_type": "stream",
     "text": [
      "0, 1, 2, 3, 4, 5, 6, 7, 8, 9, 10, 11, 12, 13, 14, 15, 16, 17, 18, 19, [-89, -54.469999999999999, 33.079738511662995, -65.5, 30.06908711617298]\n",
      "CPU times: user 6min 36s, sys: 144 ms, total: 6min 36s\n",
      "Wall time: 6min 39s\n"
     ]
    }
   ],
   "source": [
    "%%time\n",
    "random.seed(1);\n",
    "\n",
    "PARAMS['n_cols']        = 50\n",
    "EV_PARAMS['gems']       = True\n",
    "EV_PARAMS['j_box_size'] = 10\n",
    "\n",
    "all_measurements['50,false,10'] = run_experiment(PARAMS, EV_PARAMS, X)"
   ]
  },
  {
   "cell_type": "markdown",
   "metadata": {},
   "source": [
    "### SM, 100 nodes, Gems, jBox 10"
   ]
  },
  {
   "cell_type": "code",
   "execution_count": 12,
   "metadata": {},
   "outputs": [
    {
     "name": "stdout",
     "output_type": "stream",
     "text": [
      "0, 1, 2, 3, 4, 5, 6, 7, 8, 9, 10, 11, 12, 13, 14, 15, 16, 17, 18, 19, [-89, -66.25, 26.256189746419796, -76.200000000000003, 20.419598428960352]\n",
      "CPU times: user 10min 55s, sys: 156 ms, total: 10min 55s\n",
      "Wall time: 10min 57s\n"
     ]
    }
   ],
   "source": [
    "%%time\n",
    "random.seed(1);\n",
    "\n",
    "PARAMS['n_cols']        = 100\n",
    "EV_PARAMS['gems']       = True\n",
    "EV_PARAMS['j_box_size'] = 10\n",
    "\n",
    "all_measurements['100,false,10'] = run_experiment(PARAMS, EV_PARAMS, X)"
   ]
  },
  {
   "cell_type": "markdown",
   "metadata": {},
   "source": [
    "# Summary"
   ]
  },
  {
   "cell_type": "code",
   "execution_count": 13,
   "metadata": {},
   "outputs": [
    {
     "data": {
      "text/html": [
       "<div>\n",
       "<style>\n",
       "    .dataframe thead tr:only-child th {\n",
       "        text-align: right;\n",
       "    }\n",
       "\n",
       "    .dataframe thead th {\n",
       "        text-align: left;\n",
       "    }\n",
       "\n",
       "    .dataframe tbody tr th {\n",
       "        vertical-align: top;\n",
       "    }\n",
       "</style>\n",
       "<table border=\"1\" class=\"dataframe\">\n",
       "  <thead>\n",
       "    <tr style=\"text-align: right;\">\n",
       "      <th></th>\n",
       "      <th>best fitness</th>\n",
       "      <th>mean of last gen</th>\n",
       "      <th>std of last gen</th>\n",
       "      <th>mean of best individual</th>\n",
       "      <th>std of best indvidiual</th>\n",
       "    </tr>\n",
       "  </thead>\n",
       "  <tbody>\n",
       "    <tr>\n",
       "      <th>10,false</th>\n",
       "      <td>-75</td>\n",
       "      <td>-17.21</td>\n",
       "      <td>13.344883</td>\n",
       "      <td>-27.80</td>\n",
       "      <td>14.451989</td>\n",
       "    </tr>\n",
       "    <tr>\n",
       "      <th>50,false</th>\n",
       "      <td>-89</td>\n",
       "      <td>-57.02</td>\n",
       "      <td>30.755806</td>\n",
       "      <td>-66.55</td>\n",
       "      <td>26.952690</td>\n",
       "    </tr>\n",
       "    <tr>\n",
       "      <th>100,false</th>\n",
       "      <td>-89</td>\n",
       "      <td>-18.87</td>\n",
       "      <td>19.116828</td>\n",
       "      <td>-32.85</td>\n",
       "      <td>20.905203</td>\n",
       "    </tr>\n",
       "    <tr>\n",
       "      <th>50,false,5</th>\n",
       "      <td>-89</td>\n",
       "      <td>-64.04</td>\n",
       "      <td>27.071727</td>\n",
       "      <td>-75.45</td>\n",
       "      <td>22.646137</td>\n",
       "    </tr>\n",
       "    <tr>\n",
       "      <th>100,false,5</th>\n",
       "      <td>-89</td>\n",
       "      <td>-53.69</td>\n",
       "      <td>28.376644</td>\n",
       "      <td>-61.95</td>\n",
       "      <td>26.484854</td>\n",
       "    </tr>\n",
       "    <tr>\n",
       "      <th>10,false,10</th>\n",
       "      <td>-57</td>\n",
       "      <td>-11.78</td>\n",
       "      <td>9.932351</td>\n",
       "      <td>-24.10</td>\n",
       "      <td>10.372560</td>\n",
       "    </tr>\n",
       "    <tr>\n",
       "      <th>50,false,10</th>\n",
       "      <td>-89</td>\n",
       "      <td>-54.47</td>\n",
       "      <td>33.079739</td>\n",
       "      <td>-65.50</td>\n",
       "      <td>30.069087</td>\n",
       "    </tr>\n",
       "    <tr>\n",
       "      <th>100,false,10</th>\n",
       "      <td>-89</td>\n",
       "      <td>-66.25</td>\n",
       "      <td>26.256190</td>\n",
       "      <td>-76.20</td>\n",
       "      <td>20.419598</td>\n",
       "    </tr>\n",
       "  </tbody>\n",
       "</table>\n",
       "</div>"
      ],
      "text/plain": [
       "              best fitness  mean of last gen  std of last gen  \\\n",
       "10,false               -75            -17.21        13.344883   \n",
       "50,false               -89            -57.02        30.755806   \n",
       "100,false              -89            -18.87        19.116828   \n",
       "50,false,5             -89            -64.04        27.071727   \n",
       "100,false,5            -89            -53.69        28.376644   \n",
       "10,false,10            -57            -11.78         9.932351   \n",
       "50,false,10            -89            -54.47        33.079739   \n",
       "100,false,10           -89            -66.25        26.256190   \n",
       "\n",
       "              mean of best individual  std of best indvidiual  \n",
       "10,false                       -27.80               14.451989  \n",
       "50,false                       -66.55               26.952690  \n",
       "100,false                      -32.85               20.905203  \n",
       "50,false,5                     -75.45               22.646137  \n",
       "100,false,5                    -61.95               26.484854  \n",
       "10,false,10                    -24.10               10.372560  \n",
       "50,false,10                    -65.50               30.069087  \n",
       "100,false,10                   -76.20               20.419598  "
      ]
     },
     "execution_count": 13,
     "metadata": {},
     "output_type": "execute_result"
    }
   ],
   "source": [
    "import pandas as pd\n",
    "df = pd.DataFrame.from_dict(all_measurements, orient='index')\n",
    "df.columns = ['best fitness', 'mean of last gen', 'std of last gen', 'mean of best individual', 'std of best indvidiual']\n",
    "df"
   ]
  },
  {
   "cell_type": "markdown",
   "metadata": {},
   "source": [
    "## Summary\n",
    "\n",
    "**Without gems**\n",
    "\n",
    "| nodes | time     | max fitness | last gen mean | last gen std | best ind mean | best ind std |\n",
    "|-------|----------|------------:|------------  :|-------------:|--------------:|-------------:|\n",
    "| 10    |  2min 44s| 75          | 23.4          | 13.34        | 27.8          | 14.45        |\n",
    "| 50    |  6min 17s| 89          | 57.02         | 30.75        | 66.55         | 26.95        |\n",
    "| 100   |  9min 22s| 89          | **57.43**     | 27.76        | **66.9**      | 23.65        |\n",
    "\n",
    "**With gems, jBox size 5**\n",
    "\n",
    "| nodes | time     | max fitness | last gen mean | last gen std | best ind mean | best ind std |\n",
    "|-------|----------|------------:|------------  :|-------------:|--------------:|-------------:|\n",
    "| 10    | 1min 52s | 89          | 18.87         | 19.92        | 32.85         | 20.91        |\n",
    "| 50    | 4min 24s | 89          | 64.04         | 27.07        | 75.45         | 22.64        |\n",
    "| 100   | 6min 0s  | 89          | 53.69         | 28.38        | 61.95         | 26.48        |\n",
    "\n",
    "**With gems, jBox size 10**\n",
    "\n",
    "| nodes | time     | max fitness | last gen mean | last gen std | best ind mean | best ind std |\n",
    "|-------|----------|------------:|------------  :|-------------:|--------------:|-------------:|\n",
    "| 10    | 1min 44s | 57          | 11.78         | 9.93         | 24.1          | 10.37        |\n",
    "| 50    | 3min 26s | 89          | 54.47         | 33.08        | 65.5          | 30.07        |\n",
    "| 100   | 9min 53s | 89          | 66.25         | 26.27        | 76.2          | 20.42        |"
   ]
  }
 ],
 "metadata": {
  "kernelspec": {
   "display_name": "Python 3",
   "language": "python",
   "name": "python3"
  },
  "language_info": {
   "codemirror_mode": {
    "name": "ipython",
    "version": 3
   },
   "file_extension": ".py",
   "mimetype": "text/x-python",
   "name": "python",
   "nbconvert_exporter": "python",
   "pygments_lexer": "ipython3",
   "version": "3.6.3"
  }
 },
 "nbformat": 4,
 "nbformat_minor": 2
}
