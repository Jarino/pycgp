{
 "cells": [
  {
   "cell_type": "code",
   "execution_count": 1,
   "metadata": {},
   "outputs": [],
   "source": [
    "from pycgp import evolution, Params, EvParams\n",
    "from pycgp.gems import MatchPhenotypeStrategy\n",
    "from pycgp.benchmarks.symbolic import X, y, EV_PARAMS\n",
    "import random"
   ]
  },
  {
   "cell_type": "code",
   "execution_count": 2,
   "metadata": {},
   "outputs": [],
   "source": [
    "prms = Params(1, 1)\n",
    "ev_params = EvParams(EV_PARAMS['cost_func'], target_fitness=EV_PARAMS['target_fitness'], gems_box_size=10, gem_match_strategy=MatchPhenotypeStrategy)\n",
    "ev_params_without = EvParams(EV_PARAMS['cost_func'], target_fitness=EV_PARAMS['target_fitness'])"
   ]
  },
  {
   "cell_type": "code",
   "execution_count": 5,
   "metadata": {},
   "outputs": [
    {
     "name": "stdout",
     "output_type": "stream",
     "text": [
      "0.6003251260788803\n",
      "0.6003251260788803\n",
      "0.6003251260788803\n",
      "0.6003273022239223\n",
      "0.6013338680575804\n",
      "90 1929\n",
      "CPU times: user 17.8 s, sys: 203 ms, total: 18 s\n",
      "Wall time: 18 s\n"
     ]
    }
   ],
   "source": [
    "%%time\n",
    "\n",
    "random.seed(0)\n",
    "\n",
    "\n",
    "res = evolution.evolution(prms, ev_params, X, y)\n",
    "\n",
    "for i in res['final']:\n",
    "    print(i.fitness)\n",
    "print(res['stats']['gem_better_after'], res['stats']['gem_worse_after'])"
   ]
  },
  {
   "cell_type": "code",
   "execution_count": 6,
   "metadata": {},
   "outputs": [
    {
     "name": "stdout",
     "output_type": "stream",
     "text": [
      "0.6001579894309331\n",
      "0.6001579894309331\n",
      "0.6001579894309331\n",
      "0.6011989973505649\n",
      "0.6013360083352799\n",
      "CPU times: user 19.9 s, sys: 312 ms, total: 20.2 s\n",
      "Wall time: 20.3 s\n"
     ]
    }
   ],
   "source": [
    "%%time\n",
    "\n",
    "random.seed(0)\n",
    "\n",
    "res = evolution.evolution(prms, ev_params_without, X, y)\n",
    "\n",
    "for i in res['final']:\n",
    "    print(i.fitness)"
   ]
  },
  {
   "cell_type": "code",
   "execution_count": null,
   "metadata": {},
   "outputs": [],
   "source": []
  },
  {
   "cell_type": "code",
   "execution_count": null,
   "metadata": {},
   "outputs": [],
   "source": []
  }
 ],
 "metadata": {
  "kernelspec": {
   "display_name": "Python 3",
   "language": "python",
   "name": "python3"
  },
  "language_info": {
   "codemirror_mode": {
    "name": "ipython",
    "version": 3
   },
   "file_extension": ".py",
   "mimetype": "text/x-python",
   "name": "python",
   "nbconvert_exporter": "python",
   "pygments_lexer": "ipython3",
   "version": "3.6.2"
  }
 },
 "nbformat": 4,
 "nbformat_minor": 2
}
