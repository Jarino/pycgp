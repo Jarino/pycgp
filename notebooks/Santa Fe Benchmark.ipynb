{
 "cells": [
  {
   "cell_type": "markdown",
   "metadata": {},
   "source": [
    "# Santa Fe Benchmark, PM"
   ]
  },
  {
   "cell_type": "code",
   "execution_count": 1,
   "metadata": {
    "collapsed": true
   },
   "outputs": [],
   "source": [
    "from pycgp.benchmarks.santafe import PARAMS, EV_PARAMS, X, santafe_cost_function\n",
    "from pycgp.evolution import evolution\n",
    "import numpy as np\n",
    "import random"
   ]
  },
  {
   "cell_type": "code",
   "execution_count": 2,
   "metadata": {
    "collapsed": true
   },
   "outputs": [],
   "source": [
    "def run_experiment(params, ev_params, x):\n",
    "    rstat = []\n",
    "    for i in range(0, 20):\n",
    "        print(i, end=', ')\n",
    "\n",
    "        result = evolution(PARAMS, EV_PARAMS, X, None)\n",
    "\n",
    "        rstat.append([santafe_cost_function(None, individual.execute(X)) for individual in result['final']])\n",
    "    \n",
    "    #print('Best fitness: {}'.format(np.min(stats)))\n",
    "    #print('mean and std of fitness of last generation: {}, {}'.format(np.mean(stats), np.std(stats)))\n",
    "    #print('Mean and std of best fitness: {}, {}'.format(np.mean(np.min(stats, axis=1)), np.std(np.min(stats, axis=1))))\n",
    "    # best fitness, mean of last generation, std of last generation, mean of best individual, std of best individual\n",
    "    results = [\n",
    "        np.min(rstat), np.mean(rstat), np.std(rstat), np.mean(np.min(rstat, axis=1)), np.std(np.min(rstat, axis=1)) \n",
    "    ]\n",
    "    print(results)\n",
    "    return results\n",
    "    "
   ]
  },
  {
   "cell_type": "markdown",
   "metadata": {},
   "source": [
    "## Point mutation"
   ]
  },
  {
   "cell_type": "code",
   "execution_count": 3,
   "metadata": {
    "collapsed": true
   },
   "outputs": [],
   "source": [
    "from pycgp.mutation import point_mutation\n",
    "all_measurements = {}"
   ]
  },
  {
   "cell_type": "markdown",
   "metadata": {},
   "source": [
    "### PM, 10 nodes"
   ]
  },
  {
   "cell_type": "code",
   "execution_count": 4,
   "metadata": {},
   "outputs": [
    {
     "name": "stdout",
     "output_type": "stream",
     "text": [
      "0, 1, 2, 3, 4, 5, 6, 7, 8, 9, 10, 11, 12, 13, 14, 15, 16, 17, 18, 19, [-89, -23.399999999999999, 18.558017135459277, -36.399999999999999, 18.575252353602092]\n",
      "CPU times: user 1min 47s, sys: 3.8 ms, total: 1min 47s\n",
      "Wall time: 1min 47s\n"
     ]
    }
   ],
   "source": [
    "%%time\n",
    "random.seed(1)\n",
    "\n",
    "PARAMS['n_cols']      = 10\n",
    "EV_PARAMS['mutation'] = point_mutation\n",
    "EV_PARAMS['gems']     = False\n",
    "\n",
    "all_measurements['10,false'] = run_experiment(PARAMS, EV_PARAMS, X)"
   ]
  },
  {
   "cell_type": "markdown",
   "metadata": {},
   "source": [
    "### PM, 50 nodes"
   ]
  },
  {
   "cell_type": "code",
   "execution_count": 5,
   "metadata": {},
   "outputs": [
    {
     "name": "stdout",
     "output_type": "stream",
     "text": [
      "0, 1, 2, 3, 4, 5, 6, 7, 8, 9, 10, 11, 12, 13, 14, 15, 16, 17, 18, 19, [-89, -47.32, 28.033865234747779, -53.950000000000003, 26.736632173854659]\n",
      "CPU times: user 5min 34s, sys: 20 ms, total: 5min 34s\n",
      "Wall time: 5min 34s\n"
     ]
    }
   ],
   "source": [
    "%%time\n",
    "stats = []; random.seed(1);\n",
    "\n",
    "PARAMS['n_cols']      = 50\n",
    "EV_PARAMS['mutation'] = point_mutation\n",
    "EV_PARAMS['gems']     = False\n",
    "\n",
    "all_measurements['50,false'] = run_experiment(PARAMS, EV_PARAMS, X)"
   ]
  },
  {
   "cell_type": "markdown",
   "metadata": {},
   "source": [
    "### PM, 100 nodes"
   ]
  },
  {
   "cell_type": "code",
   "execution_count": 6,
   "metadata": {},
   "outputs": [
    {
     "name": "stdout",
     "output_type": "stream",
     "text": [
      "0, 1, 2, 3, 4, 5, 6, 7, 8, 9, 10, 11, 12, 13, 14, 15, 16, 17, 18, 19, [-89, -56.409999999999997, 25.786079577942822, -63.149999999999999, 23.86687034363743]\n",
      "CPU times: user 18min 26s, sys: 144 ms, total: 18min 26s\n",
      "Wall time: 18min 28s\n"
     ]
    }
   ],
   "source": [
    "%%time\n",
    "stats = []; random.seed(1);\n",
    "\n",
    "PARAMS['n_cols']      = 100\n",
    "EV_PARAMS['mutation'] = point_mutation\n",
    "EV_PARAMS['gems']     = False\n",
    "\n",
    "all_measurements['100,false'] = run_experiment(PARAMS, EV_PARAMS, X)"
   ]
  },
  {
   "cell_type": "markdown",
   "metadata": {},
   "source": [
    "### PM, 10 nodes, Gems"
   ]
  },
  {
   "cell_type": "code",
   "execution_count": 7,
   "metadata": {},
   "outputs": [
    {
     "name": "stdout",
     "output_type": "stream",
     "text": [
      "0, 1, 2, 3, 4, 5, 6, 7, 8, 9, 10, 11, 12, 13, 14, 15, 16, 17, 18, 19, [-89, -21.73, 24.185059437594937, -33.5, 28.355775425828156]\n",
      "CPU times: user 2min 29s, sys: 24 ms, total: 2min 29s\n",
      "Wall time: 2min 30s\n"
     ]
    }
   ],
   "source": [
    "%%time\n",
    "stats = []; random.seed(1);\n",
    "\n",
    "PARAMS['n_cols']      = 10\n",
    "EV_PARAMS['mutation'] = point_mutation\n",
    "EV_PARAMS['gems']     = True\n",
    "\n",
    "all_measurements['10,false,5'] = run_experiment(PARAMS, EV_PARAMS, X)"
   ]
  },
  {
   "cell_type": "markdown",
   "metadata": {},
   "source": [
    "### PM, 50 nodes, Gems"
   ]
  },
  {
   "cell_type": "code",
   "execution_count": 8,
   "metadata": {},
   "outputs": [
    {
     "name": "stdout",
     "output_type": "stream",
     "text": [
      "0, 1, 2, 3, 4, 5, 6, 7, 8, 9, 10, 11, 12, 13, 14, 15, 16, 17, 18, 19, [-89, -54.25, 31.271512595331874, -61.850000000000001, 28.009418058931534]\n",
      "CPU times: user 8min 38s, sys: 108 ms, total: 8min 38s\n",
      "Wall time: 8min 41s\n"
     ]
    }
   ],
   "source": [
    "%%time\n",
    "stats = []; random.seed(1);\n",
    "\n",
    "PARAMS['n_cols']      = 50\n",
    "EV_PARAMS['mutation'] = point_mutation\n",
    "EV_PARAMS['gems']     = True\n",
    "\n",
    "all_measurements['50,false,5'] = run_experiment(PARAMS, EV_PARAMS, X)"
   ]
  },
  {
   "cell_type": "markdown",
   "metadata": {},
   "source": [
    "### PM, 100 nodes, Gems"
   ]
  },
  {
   "cell_type": "code",
   "execution_count": 9,
   "metadata": {},
   "outputs": [
    {
     "name": "stdout",
     "output_type": "stream",
     "text": [
      "0, 1, 2, 3, 4, 5, 6, 7, 8, 9, 10, 11, 12, 13, 14, 15, 16, 17, 18, 19, [-89, -52.43, 27.603353057192162, -56.350000000000001, 25.737666949434249]\n",
      "CPU times: user 28min 16s, sys: 468 ms, total: 28min 17s\n",
      "Wall time: 28min 21s\n"
     ]
    }
   ],
   "source": [
    "%%time\n",
    "stats = []; random.seed(1);\n",
    "\n",
    "PARAMS['n_cols']      = 100\n",
    "EV_PARAMS['mutation'] = point_mutation\n",
    "EV_PARAMS['gems']     = True\n",
    "\n",
    "all_measurements['100,false,5'] = run_experiment(PARAMS, EV_PARAMS, X)"
   ]
  },
  {
   "cell_type": "markdown",
   "metadata": {},
   "source": [
    "## jBox size 10"
   ]
  },
  {
   "cell_type": "code",
   "execution_count": 10,
   "metadata": {},
   "outputs": [
    {
     "name": "stdout",
     "output_type": "stream",
     "text": [
      "0, 1, 2, 3, 4, 5, 6, 7, 8, 9, 10, 11, 12, 13, 14, 15, 16, 17, 18, 19, [-89, -19.93, 20.559306894932035, -32.149999999999999, 24.413674446916016]\n",
      "CPU times: user 3min 23s, sys: 140 ms, total: 3min 23s\n",
      "Wall time: 3min 26s\n"
     ]
    }
   ],
   "source": [
    "%%time\n",
    "stats = []; random.seed(1);\n",
    "\n",
    "PARAMS['n_cols']        = 10\n",
    "EV_PARAMS['mutation']   = point_mutation\n",
    "EV_PARAMS['gems']       = True\n",
    "EV_PARAMS['j_box_size'] = 10\n",
    "\n",
    "all_measurements['10,false,10'] = run_experiment(PARAMS, EV_PARAMS, X)"
   ]
  },
  {
   "cell_type": "code",
   "execution_count": 11,
   "metadata": {},
   "outputs": [
    {
     "name": "stdout",
     "output_type": "stream",
     "text": [
      "0, 1, 2, 3, 4, 5, 6, 7, 8, 9, 10, 11, 12, 13, 14, 15, 16, 17, 18, 19, [-89, -43.210000000000001, 30.966528704393067, -48.450000000000003, 29.537222279693125]\n",
      "CPU times: user 5min 54s, sys: 72 ms, total: 5min 55s\n",
      "Wall time: 5min 55s\n"
     ]
    }
   ],
   "source": [
    "%%time\n",
    "stats = []; random.seed(1);\n",
    "\n",
    "PARAMS['n_cols']        = 50\n",
    "EV_PARAMS['mutation']   = point_mutation\n",
    "EV_PARAMS['gems']       = True\n",
    "EV_PARAMS['j_box_size'] = 10\n",
    "\n",
    "all_measurements['50,false,10'] = run_experiment(PARAMS, EV_PARAMS, X)"
   ]
  },
  {
   "cell_type": "code",
   "execution_count": 12,
   "metadata": {},
   "outputs": [
    {
     "name": "stdout",
     "output_type": "stream",
     "text": [
      "0, 1, 2, 3, 4, 5, 6, 7, 8, 9, 10, 11, 12, 13, 14, 15, 16, 17, 18, 19, [-89, -55.479999999999997, 24.465682087364744, -63.149999999999999, 21.5412975468053]\n",
      "CPU times: user 13min 50s, sys: 32 ms, total: 13min 51s\n",
      "Wall time: 13min 51s\n"
     ]
    }
   ],
   "source": [
    "%%time\n",
    "stats = []; random.seed(1);\n",
    "\n",
    "PARAMS['n_cols']        = 100\n",
    "EV_PARAMS['mutation']   = point_mutation\n",
    "EV_PARAMS['gems']       = True\n",
    "EV_PARAMS['j_box_size'] = 10\n",
    "\n",
    "all_measurements['100,false,10'] = run_experiment(PARAMS, EV_PARAMS, X)"
   ]
  },
  {
   "cell_type": "markdown",
   "metadata": {},
   "source": [
    "# Summary"
   ]
  },
  {
   "cell_type": "code",
   "execution_count": 13,
   "metadata": {},
   "outputs": [
    {
     "data": {
      "text/html": [
       "<div>\n",
       "<style>\n",
       "    .dataframe thead tr:only-child th {\n",
       "        text-align: right;\n",
       "    }\n",
       "\n",
       "    .dataframe thead th {\n",
       "        text-align: left;\n",
       "    }\n",
       "\n",
       "    .dataframe tbody tr th {\n",
       "        vertical-align: top;\n",
       "    }\n",
       "</style>\n",
       "<table border=\"1\" class=\"dataframe\">\n",
       "  <thead>\n",
       "    <tr style=\"text-align: right;\">\n",
       "      <th></th>\n",
       "      <th>best fitness</th>\n",
       "      <th>mean of last gen</th>\n",
       "      <th>std of last gen</th>\n",
       "      <th>mean of best individual</th>\n",
       "      <th>std of best indvidiual</th>\n",
       "    </tr>\n",
       "  </thead>\n",
       "  <tbody>\n",
       "    <tr>\n",
       "      <th>10,false</th>\n",
       "      <td>-89</td>\n",
       "      <td>-23.40</td>\n",
       "      <td>18.558017</td>\n",
       "      <td>-36.40</td>\n",
       "      <td>18.575252</td>\n",
       "    </tr>\n",
       "    <tr>\n",
       "      <th>50,false</th>\n",
       "      <td>-89</td>\n",
       "      <td>-47.32</td>\n",
       "      <td>28.033865</td>\n",
       "      <td>-53.95</td>\n",
       "      <td>26.736632</td>\n",
       "    </tr>\n",
       "    <tr>\n",
       "      <th>100,false</th>\n",
       "      <td>-89</td>\n",
       "      <td>-56.41</td>\n",
       "      <td>25.786080</td>\n",
       "      <td>-63.15</td>\n",
       "      <td>23.866870</td>\n",
       "    </tr>\n",
       "    <tr>\n",
       "      <th>10,false,5</th>\n",
       "      <td>-89</td>\n",
       "      <td>-21.73</td>\n",
       "      <td>24.185059</td>\n",
       "      <td>-33.50</td>\n",
       "      <td>28.355775</td>\n",
       "    </tr>\n",
       "    <tr>\n",
       "      <th>50,false,5</th>\n",
       "      <td>-89</td>\n",
       "      <td>-54.25</td>\n",
       "      <td>31.271513</td>\n",
       "      <td>-61.85</td>\n",
       "      <td>28.009418</td>\n",
       "    </tr>\n",
       "    <tr>\n",
       "      <th>100,false,5</th>\n",
       "      <td>-89</td>\n",
       "      <td>-52.43</td>\n",
       "      <td>27.603353</td>\n",
       "      <td>-56.35</td>\n",
       "      <td>25.737667</td>\n",
       "    </tr>\n",
       "    <tr>\n",
       "      <th>10,false,10</th>\n",
       "      <td>-89</td>\n",
       "      <td>-19.93</td>\n",
       "      <td>20.559307</td>\n",
       "      <td>-32.15</td>\n",
       "      <td>24.413674</td>\n",
       "    </tr>\n",
       "    <tr>\n",
       "      <th>50,false,10</th>\n",
       "      <td>-89</td>\n",
       "      <td>-43.21</td>\n",
       "      <td>30.966529</td>\n",
       "      <td>-48.45</td>\n",
       "      <td>29.537222</td>\n",
       "    </tr>\n",
       "    <tr>\n",
       "      <th>100,false,10</th>\n",
       "      <td>-89</td>\n",
       "      <td>-55.48</td>\n",
       "      <td>24.465682</td>\n",
       "      <td>-63.15</td>\n",
       "      <td>21.541298</td>\n",
       "    </tr>\n",
       "  </tbody>\n",
       "</table>\n",
       "</div>"
      ],
      "text/plain": [
       "              best fitness  mean of last gen  std of last gen  \\\n",
       "10,false               -89            -23.40        18.558017   \n",
       "50,false               -89            -47.32        28.033865   \n",
       "100,false              -89            -56.41        25.786080   \n",
       "10,false,5             -89            -21.73        24.185059   \n",
       "50,false,5             -89            -54.25        31.271513   \n",
       "100,false,5            -89            -52.43        27.603353   \n",
       "10,false,10            -89            -19.93        20.559307   \n",
       "50,false,10            -89            -43.21        30.966529   \n",
       "100,false,10           -89            -55.48        24.465682   \n",
       "\n",
       "              mean of best individual  std of best indvidiual  \n",
       "10,false                       -36.40               18.575252  \n",
       "50,false                       -53.95               26.736632  \n",
       "100,false                      -63.15               23.866870  \n",
       "10,false,5                     -33.50               28.355775  \n",
       "50,false,5                     -61.85               28.009418  \n",
       "100,false,5                    -56.35               25.737667  \n",
       "10,false,10                    -32.15               24.413674  \n",
       "50,false,10                    -48.45               29.537222  \n",
       "100,false,10                   -63.15               21.541298  "
      ]
     },
     "execution_count": 13,
     "metadata": {},
     "output_type": "execute_result"
    }
   ],
   "source": [
    "import pandas as pd\n",
    "df = pd.DataFrame.from_dict(all_measurements, orient='index')\n",
    "df.columns = ['best fitness', 'mean of last gen', 'std of last gen', 'mean of best individual', 'std of best indvidiual']\n",
    "df"
   ]
  },
  {
   "cell_type": "markdown",
   "metadata": {},
   "source": [
    "## Summary\n",
    "\n",
    "** Without gems **\n",
    "\n",
    "| nodes | time     | max fitness | last gen mean | last gen std | best ind mean | best ind std |\n",
    "|-------|----------|------------:|------------  :|-------------:|--------------:|-------------:|\n",
    "| 10    |  1min 36s| 89          | 23.4          | 18.56        | 36.4          | 18.58        |\n",
    "| 50    |  5min 47s| 89          | 47.32         | 28.03        | 53.95         | 26.74        |\n",
    "| 100   |  17min 3s| 89          | 56.41         | 25.79        | 63.15         | 23.87        |\n",
    "\n",
    "** With gems, jbox 5 **\n",
    "\n",
    "| nodes | time     | max fitness | last gen mean | last gen std | best ind mean | best ind std |\n",
    "|-------|----------|------------:|------------  :|-------------:|--------------:|-------------:|\n",
    "| 10    |  1min 59s| 89          | 21.73         | 24.19        | 33.5          | 28.36        |\n",
    "| 50    |  5min 56s| 89          | 54.25         | 31.27        | 61.85         | 28.01        |\n",
    "| 100   | 17min 57s| 89          | 52.43         | 27.61        | 56.35         | 25.74        |\n",
    "\n",
    "** With gems, jbox 10 **\n",
    "\n",
    "| nodes | time     | max fitness | last gen mean | last gen std | best ind mean | best ind std |\n",
    "|-------|----------|------------:|------------  :|-------------:|--------------:|-------------:|\n",
    "| 10    |  1min 46s| 89          | 19.93         | 20.56        | 32.15         | 24.41        |\n",
    "| 50    |  5min  6s| 89          | 43.21         | 30.97        | 48.45         | 29.54        |\n",
    "| 100   | 20min  8s| 89          | 55.48         | 24.47        | 63.15         | 21.54        |"
   ]
  },
  {
   "cell_type": "code",
   "execution_count": null,
   "metadata": {
    "collapsed": true
   },
   "outputs": [],
   "source": []
  }
 ],
 "metadata": {
  "kernelspec": {
   "display_name": "Python 3",
   "language": "python",
   "name": "python3"
  },
  "language_info": {
   "codemirror_mode": {
    "name": "ipython",
    "version": 3
   },
   "file_extension": ".py",
   "mimetype": "text/x-python",
   "name": "python",
   "nbconvert_exporter": "python",
   "pygments_lexer": "ipython3",
   "version": "3.6.2"
  }
 },
 "nbformat": 4,
 "nbformat_minor": 2
}
