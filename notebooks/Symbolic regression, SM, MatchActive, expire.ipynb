{
 "cells": [
  {
   "cell_type": "markdown",
   "metadata": {},
   "source": [
    "# Symbolic regression benchmark, Single mutation"
   ]
  },
  {
   "cell_type": "code",
   "execution_count": 1,
   "metadata": {
    "collapsed": true
   },
   "outputs": [],
   "source": [
    "from pycgp.benchmarks.symbolic import PARAMS, EV_PARAMS, X, y, target_function\n",
    "from pycgp.evolution import evolution\n",
    "from pycgp.counter import Counter\n",
    "import random\n",
    "import numpy as np"
   ]
  },
  {
   "cell_type": "code",
   "execution_count": 2,
   "metadata": {
    "collapsed": true
   },
   "outputs": [],
   "source": [
    "def run_experiment(params, ev_params, x, y):\n",
    "    rstat = []\n",
    "    n_better = []\n",
    "    n_worse = []\n",
    "    n_same = []\n",
    "    for i in range(0, 10):\n",
    "        print(i, end=', ')\n",
    "\n",
    "        result = evolution(PARAMS, EV_PARAMS, X, y)\n",
    "\n",
    "        rstat.append([EV_PARAMS['cost_func'](y, individual.execute(X)) for individual in result['final']])\n",
    "        n_better.append(Counter.get().dict['g_better'])\n",
    "        n_worse.append(Counter.get().dict['g_worse'])\n",
    "        n_same.append(Counter.get().dict['g_same_as_parent'])\n",
    "    \n",
    "    #print('Best fitness: {}'.format(np.min(stats)))\n",
    "    #print('mean and std of fitness of last generation: {}, {}'.format(np.mean(stats), np.std(stats)))\n",
    "    #print('Mean and std of best fitness: {}, {}'.format(np.mean(np.min(stats, axis=1)), np.std(np.min(stats, axis=1))))\n",
    "    # best fitness, mean of last generation, std of last generation, mean of best individual, std of best individual\n",
    "    results = [\n",
    "        np.min(rstat), np.mean(rstat), np.std(rstat), np.mean(np.min(rstat, axis=1)), np.std(np.min(rstat, axis=1)),\n",
    "        np.sum(n_better), np.mean(n_better),\n",
    "        np.sum(n_worse), np.mean(n_worse),\n",
    "        np.sum(n_same), np.mean(n_same)\n",
    "    ]\n",
    "    print(results)\n",
    "    return results"
   ]
  },
  {
   "cell_type": "markdown",
   "metadata": {},
   "source": [
    "## Single mutation"
   ]
  },
  {
   "cell_type": "code",
   "execution_count": 3,
   "metadata": {
    "collapsed": true
   },
   "outputs": [],
   "source": [
    "from pycgp.mutation import single_mutation\n",
    "from pycgp.gems import MatchByActiveStrategy, GemSM\n",
    "EV_PARAMS['gem_type'] = GemSM\n",
    "EV_PARAMS['match_strategy'] = MatchByActiveStrategy\n",
    "EV_PARAMS['mutation'] = single_mutation\n",
    "all_measurements = {}"
   ]
  },
  {
   "cell_type": "markdown",
   "metadata": {},
   "source": [
    "### SM, 10 nodes"
   ]
  },
  {
   "cell_type": "code",
   "execution_count": 4,
   "metadata": {},
   "outputs": [
    {
     "name": "stdout",
     "output_type": "stream",
     "text": [
      "0, 1, 2, 3, 4, 5, 6, 7, 8, 9, [0.16776289758895796, 1.584563250285287e+23, 1.109194275199701e+24, 0.40331497555146323, 0.11326392653235846, 0, 0.0, 0, 0.0, 0, 0.0]\n",
      "CPU times: user 1min 36s, sys: 62.5 ms, total: 1min 36s\n",
      "Wall time: 1min 36s\n"
     ]
    }
   ],
   "source": [
    "%%time\n",
    "random.seed(1)\n",
    "\n",
    "PARAMS['n_cols']      = 10\n",
    "EV_PARAMS['gems']     = False\n",
    "\n",
    "all_measurements['10,0'] = run_experiment(PARAMS, EV_PARAMS, X, y)"
   ]
  },
  {
   "cell_type": "markdown",
   "metadata": {},
   "source": [
    "### SM, 50 nodes"
   ]
  },
  {
   "cell_type": "code",
   "execution_count": 5,
   "metadata": {},
   "outputs": [
    {
     "name": "stdout",
     "output_type": "stream",
     "text": [
      "0, 1, 2, 3, 4, 5, 6, 7, 8, 9, [0.0, 0.82675346161707552, 1.198642971015931, 0.28172411662416363, 0.14874260493227323, 0, 0.0, 0, 0.0, 0, 0.0]\n",
      "CPU times: user 2min 59s, sys: 78.1 ms, total: 2min 59s\n",
      "Wall time: 2min 59s\n"
     ]
    }
   ],
   "source": [
    "%%time\n",
    "random.seed(1)\n",
    "\n",
    "PARAMS['n_cols']      = 50\n",
    "EV_PARAMS['gems']     = False\n",
    "\n",
    "all_measurements['50,0'] = run_experiment(PARAMS, EV_PARAMS, X, y)"
   ]
  },
  {
   "cell_type": "markdown",
   "metadata": {},
   "source": [
    "### SM, 100 nodes"
   ]
  },
  {
   "cell_type": "code",
   "execution_count": 6,
   "metadata": {},
   "outputs": [
    {
     "name": "stdout",
     "output_type": "stream",
     "text": [
      "0, 1, 2, 3, 4, 5, 6, 7, 8, 9, [0.12187932192563014, 1.7690668659154296e+23, 1.2383468061408008e+24, 0.28906797740086415, 0.094108171804113211, 0, 0.0, 0, 0.0, 0, 0.0]\n",
      "CPU times: user 4min 31s, sys: 78.1 ms, total: 4min 31s\n",
      "Wall time: 4min 32s\n"
     ]
    }
   ],
   "source": [
    "%%time\n",
    "random.seed(1)\n",
    "\n",
    "PARAMS['n_cols']      = 100\n",
    "EV_PARAMS['gems']     = False\n",
    "\n",
    "all_measurements['100,0'] = run_experiment(PARAMS, EV_PARAMS, X, y)"
   ]
  },
  {
   "cell_type": "markdown",
   "metadata": {},
   "source": [
    "### SM, 10 nodes, gems"
   ]
  },
  {
   "cell_type": "code",
   "execution_count": 7,
   "metadata": {},
   "outputs": [
    {
     "name": "stdout",
     "output_type": "stream",
     "text": [
      "0, 1, 2, 3, 4, 5, 6, 7, 8, 9, [0.19988257373530144, 6.3382530011411481e+23, 4.4367771007988034e+24, 0.36985902898252088, 0.10782344009256949, 1023, 102.3, 11890, 1189.0, 0, 0.0]\n",
      "CPU times: user 1min 29s, sys: 46.9 ms, total: 1min 29s\n",
      "Wall time: 1min 29s\n"
     ]
    }
   ],
   "source": [
    "%%time\n",
    "random.seed(1)\n",
    "\n",
    "PARAMS['n_cols']      = 10\n",
    "EV_PARAMS['gems']     = True\n",
    "\n",
    "all_measurements['10,5'] = run_experiment(PARAMS, EV_PARAMS, X, y)"
   ]
  },
  {
   "cell_type": "markdown",
   "metadata": {},
   "source": [
    "### SM, 50 nodes, gems"
   ]
  },
  {
   "cell_type": "code",
   "execution_count": 8,
   "metadata": {
    "collapsed": true
   },
   "outputs": [
    {
     "name": "stdout",
     "output_type": "stream",
     "text": [
      "0, 1, 2, 3, 4, 5, 6, 7, 8, 9, [0.073258574530842571, 2.5353012004564592e+24, 1.7747108403195216e+25, 0.33049748631863285, 0.12958914824181172, 764, 76.400000000000006, 15786, 1578.5999999999999, 0, 0.0]\n",
      "CPU times: user 2min 42s, sys: 31.2 ms, total: 2min 42s\n",
      "Wall time: 2min 43s\n"
     ]
    }
   ],
   "source": [
    "%%time\n",
    "random.seed(1)\n",
    "\n",
    "PARAMS['n_cols']      = 50\n",
    "EV_PARAMS['gems']     = True\n",
    "\n",
    "all_measurements['50,5'] = run_experiment(PARAMS, EV_PARAMS, X, y)"
   ]
  },
  {
   "cell_type": "markdown",
   "metadata": {},
   "source": [
    "### SM, 100 nodes, gems"
   ]
  },
  {
   "cell_type": "code",
   "execution_count": 9,
   "metadata": {
    "collapsed": true
   },
   "outputs": [
    {
     "name": "stdout",
     "output_type": "stream",
     "text": [
      "0, 1, 2, 3, 4, 5, 6, 7, 8, 9, [0.12226624476574706, 1.5167661019464638e+24, 1.0617362713625246e+25, 0.3459751531528461, 0.10795427397995508, 513, 51.299999999999997, 11630, 1163.0, 0, 0.0]\n",
      "CPU times: user 3min 58s, sys: 797 ms, total: 3min 59s\n",
      "Wall time: 4min 3s\n"
     ]
    }
   ],
   "source": [
    "%%time\n",
    "random.seed(1)\n",
    "\n",
    "PARAMS['n_cols']      = 100\n",
    "EV_PARAMS['gems']     = True\n",
    "\n",
    "all_measurements['100,5'] = run_experiment(PARAMS, EV_PARAMS, X, y)"
   ]
  },
  {
   "cell_type": "markdown",
   "metadata": {},
   "source": [
    "### SM, 10 nodes, gems, jBox 10"
   ]
  },
  {
   "cell_type": "code",
   "execution_count": 10,
   "metadata": {
    "collapsed": true
   },
   "outputs": [
    {
     "name": "stdout",
     "output_type": "stream",
     "text": [
      "0, 1, 2, 3, 4, 5, 6, 7, 8, 9, [0.16776289758895796, 41238213.379289106, 288667431.58656788, 0.37513038935120518, 0.10282663565843006, 1835, 183.5, 11630, 1163.0, 0, 0.0]\n",
      "CPU times: user 1min 3s, sys: 15.6 ms, total: 1min 3s\n",
      "Wall time: 1min 3s\n"
     ]
    }
   ],
   "source": [
    "%%time\n",
    "random.seed(1)\n",
    "\n",
    "PARAMS['n_cols']      = 10\n",
    "EV_PARAMS['gems']     = True\n",
    "EV_PARAMS['j_box_size'] = 10\n",
    "\n",
    "all_measurements['10,10'] = run_experiment(PARAMS, EV_PARAMS, X, y)"
   ]
  },
  {
   "cell_type": "markdown",
   "metadata": {},
   "source": [
    "### SM, 50 nodes, gems, jbox 10"
   ]
  },
  {
   "cell_type": "code",
   "execution_count": 11,
   "metadata": {
    "collapsed": true
   },
   "outputs": [
    {
     "name": "stdout",
     "output_type": "stream",
     "text": [
      "0, 1, 2, 3, 4, 5, 6, 7, 8, 9, [0.073258574530842571, 5.7143653920061384e+23, 4.0000557744042974e+24, 0.34695498385899309, 0.12373179856705138, 737, 73.700000000000003, 17288, 1728.8, 0, 0.0]\n",
      "CPU times: user 2min 9s, sys: 156 ms, total: 2min 9s\n",
      "Wall time: 2min 9s\n"
     ]
    }
   ],
   "source": [
    "%%time\n",
    "random.seed(1)\n",
    "\n",
    "PARAMS['n_cols']      = 50\n",
    "EV_PARAMS['gems']     = True\n",
    "EV_PARAMS['j_box_size'] = 10\n",
    "\n",
    "all_measurements['50,10'] = run_experiment(PARAMS, EV_PARAMS, X, y)"
   ]
  },
  {
   "cell_type": "markdown",
   "metadata": {},
   "source": [
    "### SM, 100 nodes, gems, jbox 10"
   ]
  },
  {
   "cell_type": "code",
   "execution_count": 12,
   "metadata": {
    "collapsed": true
   },
   "outputs": [
    {
     "name": "stdout",
     "output_type": "stream",
     "text": [
      "0, 1, 2, "
     ]
    },
    {
     "name": "stderr",
     "output_type": "stream",
     "text": [
      "/home/jarino/anaconda3/lib/python3.6/site-packages/sklearn/metrics/regression.py:239: RuntimeWarning: overflow encountered in square\n",
      "  output_errors = np.average((y_true - y_pred) ** 2, axis=0,\n"
     ]
    },
    {
     "name": "stdout",
     "output_type": "stream",
     "text": [
      "3, 4, 5, 6, 7, 8, 9, [0.26187475023799439, 5.3010941359160054e+27, 3.7107273129710895e+28, 0.35537053927680029, 0.053220856417509885, 688, 68.799999999999997, 11609, 1160.9000000000001, 0, 0.0]\n",
      "CPU times: user 3min 22s, sys: 328 ms, total: 3min 22s\n",
      "Wall time: 3min 23s\n"
     ]
    }
   ],
   "source": [
    "%%time\n",
    "random.seed(1)\n",
    "\n",
    "PARAMS['n_cols']      = 100\n",
    "EV_PARAMS['gems']     = True\n",
    "EV_PARAMS['j_box_size'] = 10\n",
    "\n",
    "all_measurements['100,10'] = run_experiment(PARAMS, EV_PARAMS, X, y)"
   ]
  },
  {
   "cell_type": "code",
   "execution_count": 14,
   "metadata": {
    "collapsed": true
   },
   "outputs": [
    {
     "data": {
      "text/html": [
       "<div>\n",
       "<style>\n",
       "    .dataframe thead tr:only-child th {\n",
       "        text-align: right;\n",
       "    }\n",
       "\n",
       "    .dataframe thead th {\n",
       "        text-align: left;\n",
       "    }\n",
       "\n",
       "    .dataframe tbody tr th {\n",
       "        vertical-align: top;\n",
       "    }\n",
       "</style>\n",
       "<table border=\"1\" class=\"dataframe\">\n",
       "  <thead>\n",
       "    <tr style=\"text-align: right;\">\n",
       "      <th></th>\n",
       "      <th>best fitness</th>\n",
       "      <th>mean of last gen</th>\n",
       "      <th>std of last gen</th>\n",
       "      <th>mean of best individual</th>\n",
       "      <th>std of best indvidiual</th>\n",
       "      <th>g_better</th>\n",
       "      <th>g_better avg</th>\n",
       "      <th>g_worse</th>\n",
       "      <th>g_worse avg</th>\n",
       "      <th>g_same</th>\n",
       "      <th>g_same avg</th>\n",
       "    </tr>\n",
       "  </thead>\n",
       "  <tbody>\n",
       "    <tr>\n",
       "      <th>10,0</th>\n",
       "      <td>0.167763</td>\n",
       "      <td>1.584563e+23</td>\n",
       "      <td>1.109194e+24</td>\n",
       "      <td>0.403315</td>\n",
       "      <td>0.113264</td>\n",
       "      <td>0</td>\n",
       "      <td>0.0</td>\n",
       "      <td>0</td>\n",
       "      <td>0.0</td>\n",
       "      <td>0</td>\n",
       "      <td>0.0</td>\n",
       "    </tr>\n",
       "    <tr>\n",
       "      <th>50,0</th>\n",
       "      <td>0.000000</td>\n",
       "      <td>8.267535e-01</td>\n",
       "      <td>1.198643e+00</td>\n",
       "      <td>0.281724</td>\n",
       "      <td>0.148743</td>\n",
       "      <td>0</td>\n",
       "      <td>0.0</td>\n",
       "      <td>0</td>\n",
       "      <td>0.0</td>\n",
       "      <td>0</td>\n",
       "      <td>0.0</td>\n",
       "    </tr>\n",
       "    <tr>\n",
       "      <th>100,0</th>\n",
       "      <td>0.121879</td>\n",
       "      <td>1.769067e+23</td>\n",
       "      <td>1.238347e+24</td>\n",
       "      <td>0.289068</td>\n",
       "      <td>0.094108</td>\n",
       "      <td>0</td>\n",
       "      <td>0.0</td>\n",
       "      <td>0</td>\n",
       "      <td>0.0</td>\n",
       "      <td>0</td>\n",
       "      <td>0.0</td>\n",
       "    </tr>\n",
       "    <tr>\n",
       "      <th>10,5</th>\n",
       "      <td>0.199883</td>\n",
       "      <td>6.338253e+23</td>\n",
       "      <td>4.436777e+24</td>\n",
       "      <td>0.369859</td>\n",
       "      <td>0.107823</td>\n",
       "      <td>1023</td>\n",
       "      <td>102.3</td>\n",
       "      <td>11890</td>\n",
       "      <td>1189.0</td>\n",
       "      <td>0</td>\n",
       "      <td>0.0</td>\n",
       "    </tr>\n",
       "    <tr>\n",
       "      <th>50,5</th>\n",
       "      <td>0.073259</td>\n",
       "      <td>2.535301e+24</td>\n",
       "      <td>1.774711e+25</td>\n",
       "      <td>0.330497</td>\n",
       "      <td>0.129589</td>\n",
       "      <td>764</td>\n",
       "      <td>76.4</td>\n",
       "      <td>15786</td>\n",
       "      <td>1578.6</td>\n",
       "      <td>0</td>\n",
       "      <td>0.0</td>\n",
       "    </tr>\n",
       "    <tr>\n",
       "      <th>100,5</th>\n",
       "      <td>0.122266</td>\n",
       "      <td>1.516766e+24</td>\n",
       "      <td>1.061736e+25</td>\n",
       "      <td>0.345975</td>\n",
       "      <td>0.107954</td>\n",
       "      <td>513</td>\n",
       "      <td>51.3</td>\n",
       "      <td>11630</td>\n",
       "      <td>1163.0</td>\n",
       "      <td>0</td>\n",
       "      <td>0.0</td>\n",
       "    </tr>\n",
       "    <tr>\n",
       "      <th>10,10</th>\n",
       "      <td>0.167763</td>\n",
       "      <td>4.123821e+07</td>\n",
       "      <td>2.886674e+08</td>\n",
       "      <td>0.375130</td>\n",
       "      <td>0.102827</td>\n",
       "      <td>1835</td>\n",
       "      <td>183.5</td>\n",
       "      <td>11630</td>\n",
       "      <td>1163.0</td>\n",
       "      <td>0</td>\n",
       "      <td>0.0</td>\n",
       "    </tr>\n",
       "    <tr>\n",
       "      <th>50,10</th>\n",
       "      <td>0.073259</td>\n",
       "      <td>5.714365e+23</td>\n",
       "      <td>4.000056e+24</td>\n",
       "      <td>0.346955</td>\n",
       "      <td>0.123732</td>\n",
       "      <td>737</td>\n",
       "      <td>73.7</td>\n",
       "      <td>17288</td>\n",
       "      <td>1728.8</td>\n",
       "      <td>0</td>\n",
       "      <td>0.0</td>\n",
       "    </tr>\n",
       "    <tr>\n",
       "      <th>100,10</th>\n",
       "      <td>0.261875</td>\n",
       "      <td>5.301094e+27</td>\n",
       "      <td>3.710727e+28</td>\n",
       "      <td>0.355371</td>\n",
       "      <td>0.053221</td>\n",
       "      <td>688</td>\n",
       "      <td>68.8</td>\n",
       "      <td>11609</td>\n",
       "      <td>1160.9</td>\n",
       "      <td>0</td>\n",
       "      <td>0.0</td>\n",
       "    </tr>\n",
       "  </tbody>\n",
       "</table>\n",
       "</div>"
      ],
      "text/plain": [
       "        best fitness  mean of last gen  std of last gen  \\\n",
       "10,0        0.167763      1.584563e+23     1.109194e+24   \n",
       "50,0        0.000000      8.267535e-01     1.198643e+00   \n",
       "100,0       0.121879      1.769067e+23     1.238347e+24   \n",
       "10,5        0.199883      6.338253e+23     4.436777e+24   \n",
       "50,5        0.073259      2.535301e+24     1.774711e+25   \n",
       "100,5       0.122266      1.516766e+24     1.061736e+25   \n",
       "10,10       0.167763      4.123821e+07     2.886674e+08   \n",
       "50,10       0.073259      5.714365e+23     4.000056e+24   \n",
       "100,10      0.261875      5.301094e+27     3.710727e+28   \n",
       "\n",
       "        mean of best individual  std of best indvidiual  g_better  \\\n",
       "10,0                   0.403315                0.113264         0   \n",
       "50,0                   0.281724                0.148743         0   \n",
       "100,0                  0.289068                0.094108         0   \n",
       "10,5                   0.369859                0.107823      1023   \n",
       "50,5                   0.330497                0.129589       764   \n",
       "100,5                  0.345975                0.107954       513   \n",
       "10,10                  0.375130                0.102827      1835   \n",
       "50,10                  0.346955                0.123732       737   \n",
       "100,10                 0.355371                0.053221       688   \n",
       "\n",
       "        g_better avg  g_worse  g_worse avg  g_same  g_same avg  \n",
       "10,0             0.0        0          0.0       0         0.0  \n",
       "50,0             0.0        0          0.0       0         0.0  \n",
       "100,0            0.0        0          0.0       0         0.0  \n",
       "10,5           102.3    11890       1189.0       0         0.0  \n",
       "50,5            76.4    15786       1578.6       0         0.0  \n",
       "100,5           51.3    11630       1163.0       0         0.0  \n",
       "10,10          183.5    11630       1163.0       0         0.0  \n",
       "50,10           73.7    17288       1728.8       0         0.0  \n",
       "100,10          68.8    11609       1160.9       0         0.0  "
      ]
     },
     "execution_count": 14,
     "metadata": {},
     "output_type": "execute_result"
    }
   ],
   "source": [
    "import pandas as pd\n",
    "df = pd.DataFrame.from_dict(all_measurements, orient='index')\n",
    "df.columns = ['best fitness', 'mean of last gen', 'std of last gen', 'mean of best individual', 'std of best indvidiual',\n",
    "             'g_better', 'g_better avg', 'g_worse', 'g_worse avg', 'g_same', 'g_same avg']\n",
    "df"
   ]
  },
  {
   "cell_type": "code",
   "execution_count": null,
   "metadata": {},
   "outputs": [],
   "source": []
  }
 ],
 "metadata": {
  "kernelspec": {
   "display_name": "Python 3",
   "language": "python",
   "name": "python3"
  },
  "language_info": {
   "codemirror_mode": {
    "name": "ipython",
    "version": 3
   },
   "file_extension": ".py",
   "mimetype": "text/x-python",
   "name": "python",
   "nbconvert_exporter": "python",
   "pygments_lexer": "ipython3",
   "version": "3.6.2"
  }
 },
 "nbformat": 4,
 "nbformat_minor": 2
}
