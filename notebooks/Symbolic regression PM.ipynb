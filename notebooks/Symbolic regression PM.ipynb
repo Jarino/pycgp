{
 "cells": [
  {
   "cell_type": "markdown",
   "metadata": {},
   "source": [
    "# Symbolic regression benchmark"
   ]
  },
  {
   "cell_type": "code",
   "execution_count": 1,
   "metadata": {
    "collapsed": true
   },
   "outputs": [],
   "source": [
    "from pycgp.benchmarks.symbolic import PARAMS, EV_PARAMS, X, y, target_function\n",
    "from pycgp.evolution import evolution\n",
    "from pycgp.counter import Counter\n",
    "import random\n",
    "import numpy as np"
   ]
  },
  {
   "cell_type": "code",
   "execution_count": 2,
   "metadata": {
    "collapsed": true
   },
   "outputs": [],
   "source": [
    "def run_experiment(params, ev_params, x, y):\n",
    "    rstat = []\n",
    "    n_better = []\n",
    "    n_worse = []\n",
    "    n_same = []\n",
    "    for i in range(0, 10):\n",
    "        print(i, end=', ')\n",
    "\n",
    "        result = evolution(PARAMS, EV_PARAMS, X, y)\n",
    "\n",
    "        rstat.append([EV_PARAMS['cost_func'](y, individual.execute(X)) for individual in result['final']])\n",
    "        n_better.append(Counter.get().dict['g_better'])\n",
    "        n_worse.append(Counter.get().dict['g_worse'])\n",
    "        n_same.append(Counter.get().dict['g_same_as_parent'])\n",
    "    \n",
    "    #print('Best fitness: {}'.format(np.min(stats)))\n",
    "    #print('mean and std of fitness of last generation: {}, {}'.format(np.mean(stats), np.std(stats)))\n",
    "    #print('Mean and std of best fitness: {}, {}'.format(np.mean(np.min(stats, axis=1)), np.std(np.min(stats, axis=1))))\n",
    "    # best fitness, mean of last generation, std of last generation, mean of best individual, std of best individual\n",
    "    results = [\n",
    "        np.min(rstat), np.mean(rstat), np.std(rstat), np.mean(np.min(rstat, axis=1)), np.std(np.min(rstat, axis=1)),\n",
    "        np.sum(n_better), np.mean(n_better),\n",
    "        np.sum(n_worse), np.mean(n_worse),\n",
    "        np.sum(n_same), np.mean(n_same)\n",
    "    ]\n",
    "    print(results)\n",
    "    return results"
   ]
  },
  {
   "cell_type": "markdown",
   "metadata": {},
   "source": [
    "## Point mutation"
   ]
  },
  {
   "cell_type": "code",
   "execution_count": 3,
   "metadata": {
    "collapsed": true
   },
   "outputs": [],
   "source": [
    "from pycgp.mutation import point_mutation\n",
    "all_measurements = {}\n",
    "EV_PARAMS['expire_gems'] = 30"
   ]
  },
  {
   "cell_type": "markdown",
   "metadata": {},
   "source": [
    "### PM, 10 nodes"
   ]
  },
  {
   "cell_type": "code",
   "execution_count": 4,
   "metadata": {},
   "outputs": [
    {
     "name": "stdout",
     "output_type": "stream",
     "text": [
      "0, 1, 2, 3, 4, 5, 6, 7, 8, 9, [0.20848560675127112, 218.1933562240682, 1451.879881959647, 0.38280884921087083, 0.089344825799990965, 0, 0.0, 0, 0.0, 0, 0.0]\n",
      "CPU times: user 1min 10s, sys: 78.1 ms, total: 1min 10s\n",
      "Wall time: 1min 10s\n"
     ]
    }
   ],
   "source": [
    "%%time\n",
    "random.seed(1)\n",
    "\n",
    "PARAMS['n_cols']      = 10\n",
    "EV_PARAMS['mutation'] = point_mutation\n",
    "EV_PARAMS['gems']     = False\n",
    "\n",
    "all_measurements['10,false'] = run_experiment(PARAMS, EV_PARAMS, X, y)"
   ]
  },
  {
   "cell_type": "markdown",
   "metadata": {},
   "source": [
    "### PM, 50 nodes"
   ]
  },
  {
   "cell_type": "code",
   "execution_count": 5,
   "metadata": {},
   "outputs": [
    {
     "name": "stdout",
     "output_type": "stream",
     "text": [
      "0, 1, 2, 3, 4, 5, 6, 7, 8, 9, [0.0, 0.35926208522030106, 0.19971042144091447, 0.28841664544703211, 0.12516176200444809, 0, 0.0, 0, 0.0, 0, 0.0]\n",
      "CPU times: user 2min 48s, sys: 93.8 ms, total: 2min 49s\n",
      "Wall time: 2min 49s\n"
     ]
    }
   ],
   "source": [
    "%%time\n",
    "random.seed(1)\n",
    "\n",
    "PARAMS['n_cols']      = 50\n",
    "EV_PARAMS['mutation'] = point_mutation\n",
    "EV_PARAMS['gems']     = False\n",
    "\n",
    "all_measurements['50,false'] = run_experiment(PARAMS, EV_PARAMS, X, y)"
   ]
  },
  {
   "cell_type": "markdown",
   "metadata": {},
   "source": [
    "### PM, 100 nodes"
   ]
  },
  {
   "cell_type": "code",
   "execution_count": 6,
   "metadata": {},
   "outputs": [
    {
     "name": "stdout",
     "output_type": "stream",
     "text": [
      "0, 1, 2, 3, 4, 5, 6, 7, 8, 9, [0.16776289758895796, 171.48393171528696, 1171.9858567558576, 0.32597922698990395, 0.077335513448730311, 0, 0.0, 0, 0.0, 0, 0.0]\n",
      "CPU times: user 5min 57s, sys: 15.6 ms, total: 5min 57s\n",
      "Wall time: 5min 58s\n"
     ]
    }
   ],
   "source": [
    "%%time\n",
    "random.seed(1)\n",
    "\n",
    "PARAMS['n_cols']      = 100\n",
    "EV_PARAMS['mutation'] = point_mutation\n",
    "EV_PARAMS['gems']     = False\n",
    "\n",
    "all_measurements['100,false'] = run_experiment(PARAMS, EV_PARAMS, X, y)"
   ]
  },
  {
   "cell_type": "markdown",
   "metadata": {},
   "source": [
    "### PM, 10 nodes, gems"
   ]
  },
  {
   "cell_type": "code",
   "execution_count": 7,
   "metadata": {},
   "outputs": [
    {
     "name": "stdout",
     "output_type": "stream",
     "text": [
      "0, 1, 2, 3, 4, 5, 6, 7, 8, 9, [0.34006399358365186, 12253129.662436092, 85770702.505664796, 0.43348057659583822, 0.056040204700835157, 1470, 147.0, 279, 27.899999999999999, 387, 38.700000000000003]\n",
      "CPU times: user 1min 12s, sys: 93.8 ms, total: 1min 12s\n",
      "Wall time: 1min 13s\n"
     ]
    }
   ],
   "source": [
    "%%time\n",
    "random.seed(1)\n",
    "\n",
    "PARAMS['n_cols']      = 10\n",
    "EV_PARAMS['mutation'] = point_mutation\n",
    "EV_PARAMS['gems']     = True\n",
    "\n",
    "all_measurements['10,True,5'] = run_experiment(PARAMS, EV_PARAMS, X, y)"
   ]
  },
  {
   "cell_type": "markdown",
   "metadata": {},
   "source": [
    "### PM, 50 nodes, gems"
   ]
  },
  {
   "cell_type": "code",
   "execution_count": 8,
   "metadata": {
    "collapsed": true
   },
   "outputs": [
    {
     "name": "stdout",
     "output_type": "stream",
     "text": [
      "0, 1, 2, 3, 4, 5, 6, 7, 8, 9, [0.053798207185486842, 103.09866624658076, 717.00419778564515, 0.23704182304400004, 0.10814381636649698, 764, 76.400000000000006, 294, 29.399999999999999, 16513, 1651.3]\n",
      "CPU times: user 2min 59s, sys: 188 ms, total: 3min\n",
      "Wall time: 3min 1s\n"
     ]
    }
   ],
   "source": [
    "%%time\n",
    "random.seed(1)\n",
    "\n",
    "PARAMS['n_cols']      = 50\n",
    "EV_PARAMS['mutation'] = point_mutation\n",
    "EV_PARAMS['gems']     = True\n",
    "\n",
    "all_measurements['50,True,5'] = run_experiment(PARAMS, EV_PARAMS, X, y)"
   ]
  },
  {
   "cell_type": "markdown",
   "metadata": {},
   "source": [
    "### PM, 100 nodes, gems"
   ]
  },
  {
   "cell_type": "code",
   "execution_count": 9,
   "metadata": {
    "collapsed": true
   },
   "outputs": [
    {
     "name": "stdout",
     "output_type": "stream",
     "text": [
      "0, 1, 2, 3, 4, 5, 6, 7, 8, 9, [0.19858953760134257, 4.4879484684009949e+23, 3.1415639278806973e+24, 0.30860436115039203, 0.072115818177315508, 556, 55.600000000000001, 389, 38.899999999999999, 20193, 2019.3]\n",
      "CPU times: user 5min 53s, sys: 15.6 ms, total: 5min 53s\n",
      "Wall time: 5min 54s\n"
     ]
    }
   ],
   "source": [
    "%%time\n",
    "random.seed(1)\n",
    "\n",
    "PARAMS['n_cols']      = 100\n",
    "EV_PARAMS['mutation'] = point_mutation\n",
    "EV_PARAMS['gems']     = True\n",
    "\n",
    "all_measurements['100,True,5'] = run_experiment(PARAMS, EV_PARAMS, X, y)"
   ]
  },
  {
   "cell_type": "markdown",
   "metadata": {},
   "source": [
    "### PM, 10 nodes, gems, jBox 10"
   ]
  },
  {
   "cell_type": "code",
   "execution_count": 10,
   "metadata": {
    "collapsed": true
   },
   "outputs": [
    {
     "name": "stdout",
     "output_type": "stream",
     "text": [
      "0, 1, 2, 3, 4, 5, 6, 7, 8, 9, [0.32712689389304961, 2.53219263328134, 13.620389827330442, 0.42453149044906413, 0.064379211034215011, 1432, 143.19999999999999, 425, 42.5, 5170, 517.0]\n",
      "CPU times: user 1min 12s, sys: 109 ms, total: 1min 12s\n",
      "Wall time: 1min 12s\n"
     ]
    }
   ],
   "source": [
    "%%time\n",
    "random.seed(1)\n",
    "\n",
    "PARAMS['n_cols']      = 10\n",
    "EV_PARAMS['mutation'] = point_mutation\n",
    "EV_PARAMS['gems']     = True\n",
    "EV_PARAMS['j_box_size'] = 10\n",
    "\n",
    "all_measurements['10,True,10'] = run_experiment(PARAMS, EV_PARAMS, X, y)"
   ]
  },
  {
   "cell_type": "markdown",
   "metadata": {},
   "source": [
    "### PM, 50 nodes, gems, jbox 10"
   ]
  },
  {
   "cell_type": "code",
   "execution_count": 11,
   "metadata": {
    "collapsed": true
   },
   "outputs": [
    {
     "name": "stdout",
     "output_type": "stream",
     "text": [
      "0, 1, 2, 3, 4, 5, 6, 7, 8, 9, [0.16487898252049579, 0.82791356260625459, 1.9950883718560541, 0.31653693769229946, 0.097482949538619593, 1122, 112.2, 447, 44.700000000000003, 15727, 1572.7]\n",
      "CPU times: user 3min 8s, sys: 203 ms, total: 3min 8s\n",
      "Wall time: 3min 9s\n"
     ]
    }
   ],
   "source": [
    "%%time\n",
    "random.seed(1)\n",
    "\n",
    "PARAMS['n_cols']      = 50\n",
    "EV_PARAMS['mutation'] = point_mutation\n",
    "EV_PARAMS['gems']     = True\n",
    "EV_PARAMS['j_box_size'] = 10\n",
    "\n",
    "all_measurements['50,True,10'] = run_experiment(PARAMS, EV_PARAMS, X, y)"
   ]
  },
  {
   "cell_type": "markdown",
   "metadata": {},
   "source": [
    "### PM, 100 nodes, gems, jbox 10"
   ]
  },
  {
   "cell_type": "code",
   "execution_count": 12,
   "metadata": {
    "collapsed": true
   },
   "outputs": [
    {
     "name": "stdout",
     "output_type": "stream",
     "text": [
      "0, 1, 2, 3, 4, 5, 6, 7, 8, 9, [0.19103649780659512, 2.9697216634858377, 11.961513816638092, 0.33876656180746562, 0.06131039096918095, 927, 92.700000000000003, 340, 34.0, 32064, 3206.4000000000001]\n",
      "CPU times: user 5min 49s, sys: 156 ms, total: 5min 49s\n",
      "Wall time: 5min 51s\n"
     ]
    }
   ],
   "source": [
    "%%time\n",
    "random.seed(1)\n",
    "\n",
    "PARAMS['n_cols']      = 100\n",
    "EV_PARAMS['mutation'] = point_mutation\n",
    "EV_PARAMS['gems']     = True\n",
    "EV_PARAMS['j_box_size'] = 10\n",
    "\n",
    "all_measurements['100,True,10'] = run_experiment(PARAMS, EV_PARAMS, X, y)"
   ]
  },
  {
   "cell_type": "code",
   "execution_count": 13,
   "metadata": {
    "collapsed": true
   },
   "outputs": [
    {
     "data": {
      "text/html": [
       "<div>\n",
       "<style>\n",
       "    .dataframe thead tr:only-child th {\n",
       "        text-align: right;\n",
       "    }\n",
       "\n",
       "    .dataframe thead th {\n",
       "        text-align: left;\n",
       "    }\n",
       "\n",
       "    .dataframe tbody tr th {\n",
       "        vertical-align: top;\n",
       "    }\n",
       "</style>\n",
       "<table border=\"1\" class=\"dataframe\">\n",
       "  <thead>\n",
       "    <tr style=\"text-align: right;\">\n",
       "      <th></th>\n",
       "      <th>best fitness</th>\n",
       "      <th>mean of last gen</th>\n",
       "      <th>std of last gen</th>\n",
       "      <th>mean of best individual</th>\n",
       "      <th>std of best indvidiual</th>\n",
       "      <th>g_better</th>\n",
       "      <th>g_better avg</th>\n",
       "      <th>g_worse</th>\n",
       "      <th>g_worse avg</th>\n",
       "      <th>g_same</th>\n",
       "      <th>g_same avg</th>\n",
       "    </tr>\n",
       "  </thead>\n",
       "  <tbody>\n",
       "    <tr>\n",
       "      <th>10,false</th>\n",
       "      <td>0.208486</td>\n",
       "      <td>2.181934e+02</td>\n",
       "      <td>1.451880e+03</td>\n",
       "      <td>0.382809</td>\n",
       "      <td>0.089345</td>\n",
       "      <td>0</td>\n",
       "      <td>0.0</td>\n",
       "      <td>0</td>\n",
       "      <td>0.0</td>\n",
       "      <td>0</td>\n",
       "      <td>0.0</td>\n",
       "    </tr>\n",
       "    <tr>\n",
       "      <th>50,false</th>\n",
       "      <td>0.000000</td>\n",
       "      <td>3.592621e-01</td>\n",
       "      <td>1.997104e-01</td>\n",
       "      <td>0.288417</td>\n",
       "      <td>0.125162</td>\n",
       "      <td>0</td>\n",
       "      <td>0.0</td>\n",
       "      <td>0</td>\n",
       "      <td>0.0</td>\n",
       "      <td>0</td>\n",
       "      <td>0.0</td>\n",
       "    </tr>\n",
       "    <tr>\n",
       "      <th>100,false</th>\n",
       "      <td>0.167763</td>\n",
       "      <td>1.714839e+02</td>\n",
       "      <td>1.171986e+03</td>\n",
       "      <td>0.325979</td>\n",
       "      <td>0.077336</td>\n",
       "      <td>0</td>\n",
       "      <td>0.0</td>\n",
       "      <td>0</td>\n",
       "      <td>0.0</td>\n",
       "      <td>0</td>\n",
       "      <td>0.0</td>\n",
       "    </tr>\n",
       "    <tr>\n",
       "      <th>10,True,5</th>\n",
       "      <td>0.340064</td>\n",
       "      <td>1.225313e+07</td>\n",
       "      <td>8.577070e+07</td>\n",
       "      <td>0.433481</td>\n",
       "      <td>0.056040</td>\n",
       "      <td>1470</td>\n",
       "      <td>147.0</td>\n",
       "      <td>279</td>\n",
       "      <td>27.9</td>\n",
       "      <td>387</td>\n",
       "      <td>38.7</td>\n",
       "    </tr>\n",
       "    <tr>\n",
       "      <th>50,True,5</th>\n",
       "      <td>0.053798</td>\n",
       "      <td>1.030987e+02</td>\n",
       "      <td>7.170042e+02</td>\n",
       "      <td>0.237042</td>\n",
       "      <td>0.108144</td>\n",
       "      <td>764</td>\n",
       "      <td>76.4</td>\n",
       "      <td>294</td>\n",
       "      <td>29.4</td>\n",
       "      <td>16513</td>\n",
       "      <td>1651.3</td>\n",
       "    </tr>\n",
       "    <tr>\n",
       "      <th>100,True,5</th>\n",
       "      <td>0.198590</td>\n",
       "      <td>4.487948e+23</td>\n",
       "      <td>3.141564e+24</td>\n",
       "      <td>0.308604</td>\n",
       "      <td>0.072116</td>\n",
       "      <td>556</td>\n",
       "      <td>55.6</td>\n",
       "      <td>389</td>\n",
       "      <td>38.9</td>\n",
       "      <td>20193</td>\n",
       "      <td>2019.3</td>\n",
       "    </tr>\n",
       "    <tr>\n",
       "      <th>10,True,10</th>\n",
       "      <td>0.327127</td>\n",
       "      <td>2.532193e+00</td>\n",
       "      <td>1.362039e+01</td>\n",
       "      <td>0.424531</td>\n",
       "      <td>0.064379</td>\n",
       "      <td>1432</td>\n",
       "      <td>143.2</td>\n",
       "      <td>425</td>\n",
       "      <td>42.5</td>\n",
       "      <td>5170</td>\n",
       "      <td>517.0</td>\n",
       "    </tr>\n",
       "    <tr>\n",
       "      <th>50,True,10</th>\n",
       "      <td>0.164879</td>\n",
       "      <td>8.279136e-01</td>\n",
       "      <td>1.995088e+00</td>\n",
       "      <td>0.316537</td>\n",
       "      <td>0.097483</td>\n",
       "      <td>1122</td>\n",
       "      <td>112.2</td>\n",
       "      <td>447</td>\n",
       "      <td>44.7</td>\n",
       "      <td>15727</td>\n",
       "      <td>1572.7</td>\n",
       "    </tr>\n",
       "    <tr>\n",
       "      <th>100,True,10</th>\n",
       "      <td>0.191036</td>\n",
       "      <td>2.969722e+00</td>\n",
       "      <td>1.196151e+01</td>\n",
       "      <td>0.338767</td>\n",
       "      <td>0.061310</td>\n",
       "      <td>927</td>\n",
       "      <td>92.7</td>\n",
       "      <td>340</td>\n",
       "      <td>34.0</td>\n",
       "      <td>32064</td>\n",
       "      <td>3206.4</td>\n",
       "    </tr>\n",
       "  </tbody>\n",
       "</table>\n",
       "</div>"
      ],
      "text/plain": [
       "             best fitness  mean of last gen  std of last gen  \\\n",
       "10,false         0.208486      2.181934e+02     1.451880e+03   \n",
       "50,false         0.000000      3.592621e-01     1.997104e-01   \n",
       "100,false        0.167763      1.714839e+02     1.171986e+03   \n",
       "10,True,5        0.340064      1.225313e+07     8.577070e+07   \n",
       "50,True,5        0.053798      1.030987e+02     7.170042e+02   \n",
       "100,True,5       0.198590      4.487948e+23     3.141564e+24   \n",
       "10,True,10       0.327127      2.532193e+00     1.362039e+01   \n",
       "50,True,10       0.164879      8.279136e-01     1.995088e+00   \n",
       "100,True,10      0.191036      2.969722e+00     1.196151e+01   \n",
       "\n",
       "             mean of best individual  std of best indvidiual  g_better  \\\n",
       "10,false                    0.382809                0.089345         0   \n",
       "50,false                    0.288417                0.125162         0   \n",
       "100,false                   0.325979                0.077336         0   \n",
       "10,True,5                   0.433481                0.056040      1470   \n",
       "50,True,5                   0.237042                0.108144       764   \n",
       "100,True,5                  0.308604                0.072116       556   \n",
       "10,True,10                  0.424531                0.064379      1432   \n",
       "50,True,10                  0.316537                0.097483      1122   \n",
       "100,True,10                 0.338767                0.061310       927   \n",
       "\n",
       "             g_better avg  g_worse  g_worse avg  g_same  g_same avg  \n",
       "10,false              0.0        0          0.0       0         0.0  \n",
       "50,false              0.0        0          0.0       0         0.0  \n",
       "100,false             0.0        0          0.0       0         0.0  \n",
       "10,True,5           147.0      279         27.9     387        38.7  \n",
       "50,True,5            76.4      294         29.4   16513      1651.3  \n",
       "100,True,5           55.6      389         38.9   20193      2019.3  \n",
       "10,True,10          143.2      425         42.5    5170       517.0  \n",
       "50,True,10          112.2      447         44.7   15727      1572.7  \n",
       "100,True,10          92.7      340         34.0   32064      3206.4  "
      ]
     },
     "execution_count": 13,
     "metadata": {},
     "output_type": "execute_result"
    }
   ],
   "source": [
    "import pandas as pd\n",
    "df = pd.DataFrame.from_dict(all_measurements, orient='index')\n",
    "df.columns = ['best fitness', 'mean of last gen', 'std of last gen', 'mean of best individual', 'std of best indvidiual',\n",
    "             'g_better', 'g_better avg', 'g_worse', 'g_worse avg', 'g_same', 'g_same avg']\n",
    "df"
   ]
  },
  {
   "cell_type": "code",
   "execution_count": null,
   "metadata": {},
   "outputs": [],
   "source": []
  }
 ],
 "metadata": {
  "kernelspec": {
   "display_name": "Python 3",
   "language": "python",
   "name": "python3"
  },
  "language_info": {
   "codemirror_mode": {
    "name": "ipython",
    "version": 3
   },
   "file_extension": ".py",
   "mimetype": "text/x-python",
   "name": "python",
   "nbconvert_exporter": "python",
   "pygments_lexer": "ipython3",
   "version": "3.6.2"
  }
 },
 "nbformat": 4,
 "nbformat_minor": 2
}
