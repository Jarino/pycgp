{
 "cells": [
  {
   "cell_type": "markdown",
   "metadata": {},
   "source": [
    "# Symbolic regression benchmark, Single mutation"
   ]
  },
  {
   "cell_type": "code",
   "execution_count": 1,
   "metadata": {
    "collapsed": true
   },
   "outputs": [],
   "source": [
    "from pycgp.benchmarks.symbolic import PARAMS, EV_PARAMS, X, y, target_function\n",
    "from pycgp.evolution import evolution\n",
    "from pycgp.counter import Counter\n",
    "import random\n",
    "import numpy as np"
   ]
  },
  {
   "cell_type": "code",
   "execution_count": 2,
   "metadata": {
    "collapsed": true
   },
   "outputs": [],
   "source": [
    "def run_experiment(params, ev_params, x, y):\n",
    "    rstat = []\n",
    "    n_better = []\n",
    "    n_worse = []\n",
    "    n_same = []\n",
    "    for i in range(0, 10):\n",
    "        print(i, end=', ')\n",
    "\n",
    "        result = evolution(PARAMS, EV_PARAMS, X, y)\n",
    "\n",
    "        rstat.append([EV_PARAMS['cost_func'](y, individual.execute(X)) for individual in result['final']])\n",
    "        n_better.append(Counter.get().dict['g_better'])\n",
    "        n_worse.append(Counter.get().dict['g_worse'])\n",
    "        n_same.append(Counter.get().dict['g_same_as_parent'])\n",
    "    \n",
    "    #print('Best fitness: {}'.format(np.min(stats)))\n",
    "    #print('mean and std of fitness of last generation: {}, {}'.format(np.mean(stats), np.std(stats)))\n",
    "    #print('Mean and std of best fitness: {}, {}'.format(np.mean(np.min(stats, axis=1)), np.std(np.min(stats, axis=1))))\n",
    "    # best fitness, mean of last generation, std of last generation, mean of best individual, std of best individual\n",
    "    results = [\n",
    "        np.min(rstat), np.mean(rstat), np.std(rstat), np.mean(np.min(rstat, axis=1)), np.std(np.min(rstat, axis=1)),\n",
    "        np.sum(n_better), np.mean(n_better),\n",
    "        np.sum(n_worse), np.mean(n_worse),\n",
    "        np.sum(n_same), np.mean(n_same)\n",
    "    ]\n",
    "    print(results)\n",
    "    return results"
   ]
  },
  {
   "cell_type": "markdown",
   "metadata": {},
   "source": [
    "## Single mutation"
   ]
  },
  {
   "cell_type": "code",
   "execution_count": 3,
   "metadata": {
    "collapsed": true
   },
   "outputs": [],
   "source": [
    "from pycgp.mutation import single_mutation\n",
    "from pycgp.gems import MatchSMStrategy, GemSM\n",
    "EV_PARAMS['gem_type'] = GemSM\n",
    "EV_PARAMS['match_strategy'] = MatchSMStrategy\n",
    "EV_PARAMS['mutation'] = single_mutation\n",
    "EV_PARAMS['expire_gems'] = True\n",
    "all_measurements = {}"
   ]
  },
  {
   "cell_type": "markdown",
   "metadata": {},
   "source": [
    "### SM, 10 nodes, gems"
   ]
  },
  {
   "cell_type": "code",
   "execution_count": 4,
   "metadata": {},
   "outputs": [
    {
     "name": "stdout",
     "output_type": "stream",
     "text": [
      "0, 1, 2, 3, 4, 5, 6, 7, 8, 9, [0.36177107926037017, 2.5360631137894645, 5.8753088390352515, 0.39590281944131883, 0.028546131568569454, 599, 59.899999999999999, 331, 33.100000000000001, 0, 0.0]\n",
      "CPU times: user 59.9 s, sys: 62.5 ms, total: 59.9 s\n",
      "Wall time: 1min\n"
     ]
    }
   ],
   "source": [
    "%%time\n",
    "random.seed(1)\n",
    "\n",
    "PARAMS['n_cols']      = 10\n",
    "EV_PARAMS['gems']     = True\n",
    "\n",
    "all_measurements['10,True,5'] = run_experiment(PARAMS, EV_PARAMS, X, y)"
   ]
  },
  {
   "cell_type": "markdown",
   "metadata": {},
   "source": [
    "### SM, 50 nodes, gems"
   ]
  },
  {
   "cell_type": "code",
   "execution_count": 5,
   "metadata": {
    "collapsed": true
   },
   "outputs": [
    {
     "name": "stdout",
     "output_type": "stream",
     "text": [
      "0, 1, 2, 3, 4, 5, 6, 7, 8, 9, [0.057091971949628825, 4.4183754123023442e+49, 3.0928627886116401e+50, 0.30724468137657751, 0.1387520695091812, 200, 20.0, 96, 9.5999999999999996, 0, 0.0]\n",
      "CPU times: user 2min 19s, sys: 172 ms, total: 2min 19s\n",
      "Wall time: 2min 21s\n"
     ]
    }
   ],
   "source": [
    "%%time\n",
    "random.seed(1)\n",
    "\n",
    "PARAMS['n_cols']      = 50\n",
    "EV_PARAMS['gems']     = True\n",
    "\n",
    "all_measurements['50,True,5'] = run_experiment(PARAMS, EV_PARAMS, X, y)"
   ]
  },
  {
   "cell_type": "markdown",
   "metadata": {},
   "source": [
    "### SM, 100 nodes, gems"
   ]
  },
  {
   "cell_type": "code",
   "execution_count": 6,
   "metadata": {
    "collapsed": true
   },
   "outputs": [
    {
     "name": "stdout",
     "output_type": "stream",
     "text": [
      "0, 1, 2, 3, 4, 5, 6, 7, 8, 9, [0.17589331381833978, 2.7522982572461116e+52, 1.9266087800722782e+53, 0.32701730146451652, 0.096249472544668091, 122, 12.199999999999999, 70, 7.0, 0, 0.0]\n",
      "CPU times: user 3min 18s, sys: 297 ms, total: 3min 18s\n",
      "Wall time: 3min 20s\n"
     ]
    }
   ],
   "source": [
    "%%time\n",
    "random.seed(1)\n",
    "\n",
    "PARAMS['n_cols']      = 100\n",
    "EV_PARAMS['gems']     = True\n",
    "\n",
    "all_measurements['100,True,5'] = run_experiment(PARAMS, EV_PARAMS, X, y)"
   ]
  },
  {
   "cell_type": "markdown",
   "metadata": {},
   "source": [
    "### SM, 10 nodes, gems, jBox 10"
   ]
  },
  {
   "cell_type": "code",
   "execution_count": 7,
   "metadata": {
    "collapsed": true
   },
   "outputs": [
    {
     "name": "stdout",
     "output_type": "stream",
     "text": [
      "0, 1, 2, 3, 4, 5, 6, 7, 8, 9, [0.19858953760134257, 2.5322625906775483e+23, 1.7725838134742842e+24, 0.35565739217156128, 0.085188505776509257, 1017, 101.7, 329, 32.899999999999999, 0, 0.0]\n",
      "CPU times: user 1min 15s, sys: 156 ms, total: 1min 15s\n",
      "Wall time: 1min 15s\n"
     ]
    }
   ],
   "source": [
    "%%time\n",
    "random.seed(1)\n",
    "\n",
    "PARAMS['n_cols']      = 10\n",
    "EV_PARAMS['gems']     = True\n",
    "EV_PARAMS['j_box_size'] = 10\n",
    "\n",
    "all_measurements['10,True,10'] = run_experiment(PARAMS, EV_PARAMS, X, y)"
   ]
  },
  {
   "cell_type": "markdown",
   "metadata": {},
   "source": [
    "### SM, 50 nodes, gems, jbox 10"
   ]
  },
  {
   "cell_type": "code",
   "execution_count": 8,
   "metadata": {
    "collapsed": true
   },
   "outputs": [
    {
     "name": "stdout",
     "output_type": "stream",
     "text": [
      "0, 1, 2, 3, 4, 5, 6, 7, 8, 9, [0.0, 667.67085695866217, 3789.4245760023173, 0.26240031389584517, 0.13743678305961188, 332, 33.200000000000003, 268, 26.800000000000001, 0, 0.0]\n",
      "CPU times: user 2min 22s, sys: 141 ms, total: 2min 22s\n",
      "Wall time: 2min 24s\n"
     ]
    }
   ],
   "source": [
    "%%time\n",
    "random.seed(1)\n",
    "\n",
    "PARAMS['n_cols']      = 50\n",
    "EV_PARAMS['gems']     = True\n",
    "EV_PARAMS['j_box_size'] = 10\n",
    "\n",
    "all_measurements['50,True,10'] = run_experiment(PARAMS, EV_PARAMS, X, y)"
   ]
  },
  {
   "cell_type": "markdown",
   "metadata": {},
   "source": [
    "### SM, 100 nodes, gems, jbox 10"
   ]
  },
  {
   "cell_type": "code",
   "execution_count": 9,
   "metadata": {
    "collapsed": true
   },
   "outputs": [
    {
     "name": "stdout",
     "output_type": "stream",
     "text": [
      "0, 1, 2, 3, 4, 5, 6, 7, 8, 9, [0.10541590712425793, 1.6969397686634688e+24, 6.8196998493184514e+24, 0.30198215460915284, 0.10351654326830467, 265, 26.5, 193, 19.300000000000001, 0, 0.0]\n",
      "CPU times: user 3min 16s, sys: 156 ms, total: 3min 16s\n",
      "Wall time: 3min 18s\n"
     ]
    }
   ],
   "source": [
    "%%time\n",
    "random.seed(1)\n",
    "\n",
    "PARAMS['n_cols']      = 100\n",
    "EV_PARAMS['gems']     = True\n",
    "EV_PARAMS['j_box_size'] = 10\n",
    "\n",
    "all_measurements['100,True,10'] = run_experiment(PARAMS, EV_PARAMS, X, y)"
   ]
  },
  {
   "cell_type": "code",
   "execution_count": 10,
   "metadata": {
    "collapsed": true
   },
   "outputs": [
    {
     "data": {
      "text/html": [
       "<div>\n",
       "<style>\n",
       "    .dataframe thead tr:only-child th {\n",
       "        text-align: right;\n",
       "    }\n",
       "\n",
       "    .dataframe thead th {\n",
       "        text-align: left;\n",
       "    }\n",
       "\n",
       "    .dataframe tbody tr th {\n",
       "        vertical-align: top;\n",
       "    }\n",
       "</style>\n",
       "<table border=\"1\" class=\"dataframe\">\n",
       "  <thead>\n",
       "    <tr style=\"text-align: right;\">\n",
       "      <th></th>\n",
       "      <th>best fitness</th>\n",
       "      <th>mean of last gen</th>\n",
       "      <th>std of last gen</th>\n",
       "      <th>mean of best individual</th>\n",
       "      <th>std of best indvidiual</th>\n",
       "      <th>g_better</th>\n",
       "      <th>g_better avg</th>\n",
       "      <th>g_worse</th>\n",
       "      <th>g_worse avg</th>\n",
       "      <th>g_same</th>\n",
       "      <th>g_same avg</th>\n",
       "    </tr>\n",
       "  </thead>\n",
       "  <tbody>\n",
       "    <tr>\n",
       "      <th>10,True,5</th>\n",
       "      <td>0.361771</td>\n",
       "      <td>2.536063e+00</td>\n",
       "      <td>5.875309e+00</td>\n",
       "      <td>0.395903</td>\n",
       "      <td>0.028546</td>\n",
       "      <td>599</td>\n",
       "      <td>59.9</td>\n",
       "      <td>331</td>\n",
       "      <td>33.1</td>\n",
       "      <td>0</td>\n",
       "      <td>0.0</td>\n",
       "    </tr>\n",
       "    <tr>\n",
       "      <th>50,True,5</th>\n",
       "      <td>0.057092</td>\n",
       "      <td>4.418375e+49</td>\n",
       "      <td>3.092863e+50</td>\n",
       "      <td>0.307245</td>\n",
       "      <td>0.138752</td>\n",
       "      <td>200</td>\n",
       "      <td>20.0</td>\n",
       "      <td>96</td>\n",
       "      <td>9.6</td>\n",
       "      <td>0</td>\n",
       "      <td>0.0</td>\n",
       "    </tr>\n",
       "    <tr>\n",
       "      <th>100,True,5</th>\n",
       "      <td>0.175893</td>\n",
       "      <td>2.752298e+52</td>\n",
       "      <td>1.926609e+53</td>\n",
       "      <td>0.327017</td>\n",
       "      <td>0.096249</td>\n",
       "      <td>122</td>\n",
       "      <td>12.2</td>\n",
       "      <td>70</td>\n",
       "      <td>7.0</td>\n",
       "      <td>0</td>\n",
       "      <td>0.0</td>\n",
       "    </tr>\n",
       "    <tr>\n",
       "      <th>10,True,10</th>\n",
       "      <td>0.198590</td>\n",
       "      <td>2.532263e+23</td>\n",
       "      <td>1.772584e+24</td>\n",
       "      <td>0.355657</td>\n",
       "      <td>0.085189</td>\n",
       "      <td>1017</td>\n",
       "      <td>101.7</td>\n",
       "      <td>329</td>\n",
       "      <td>32.9</td>\n",
       "      <td>0</td>\n",
       "      <td>0.0</td>\n",
       "    </tr>\n",
       "    <tr>\n",
       "      <th>50,True,10</th>\n",
       "      <td>0.000000</td>\n",
       "      <td>6.676709e+02</td>\n",
       "      <td>3.789425e+03</td>\n",
       "      <td>0.262400</td>\n",
       "      <td>0.137437</td>\n",
       "      <td>332</td>\n",
       "      <td>33.2</td>\n",
       "      <td>268</td>\n",
       "      <td>26.8</td>\n",
       "      <td>0</td>\n",
       "      <td>0.0</td>\n",
       "    </tr>\n",
       "    <tr>\n",
       "      <th>100,True,10</th>\n",
       "      <td>0.105416</td>\n",
       "      <td>1.696940e+24</td>\n",
       "      <td>6.819700e+24</td>\n",
       "      <td>0.301982</td>\n",
       "      <td>0.103517</td>\n",
       "      <td>265</td>\n",
       "      <td>26.5</td>\n",
       "      <td>193</td>\n",
       "      <td>19.3</td>\n",
       "      <td>0</td>\n",
       "      <td>0.0</td>\n",
       "    </tr>\n",
       "  </tbody>\n",
       "</table>\n",
       "</div>"
      ],
      "text/plain": [
       "             best fitness  mean of last gen  std of last gen  \\\n",
       "10,True,5        0.361771      2.536063e+00     5.875309e+00   \n",
       "50,True,5        0.057092      4.418375e+49     3.092863e+50   \n",
       "100,True,5       0.175893      2.752298e+52     1.926609e+53   \n",
       "10,True,10       0.198590      2.532263e+23     1.772584e+24   \n",
       "50,True,10       0.000000      6.676709e+02     3.789425e+03   \n",
       "100,True,10      0.105416      1.696940e+24     6.819700e+24   \n",
       "\n",
       "             mean of best individual  std of best indvidiual  g_better  \\\n",
       "10,True,5                   0.395903                0.028546       599   \n",
       "50,True,5                   0.307245                0.138752       200   \n",
       "100,True,5                  0.327017                0.096249       122   \n",
       "10,True,10                  0.355657                0.085189      1017   \n",
       "50,True,10                  0.262400                0.137437       332   \n",
       "100,True,10                 0.301982                0.103517       265   \n",
       "\n",
       "             g_better avg  g_worse  g_worse avg  g_same  g_same avg  \n",
       "10,True,5            59.9      331         33.1       0         0.0  \n",
       "50,True,5            20.0       96          9.6       0         0.0  \n",
       "100,True,5           12.2       70          7.0       0         0.0  \n",
       "10,True,10          101.7      329         32.9       0         0.0  \n",
       "50,True,10           33.2      268         26.8       0         0.0  \n",
       "100,True,10          26.5      193         19.3       0         0.0  "
      ]
     },
     "execution_count": 10,
     "metadata": {},
     "output_type": "execute_result"
    }
   ],
   "source": [
    "import pandas as pd\n",
    "df = pd.DataFrame.from_dict(all_measurements, orient='index')\n",
    "df.columns = ['best fitness', 'mean of last gen', 'std of last gen', 'mean of best individual', 'std of best indvidiual',\n",
    "             'g_better', 'g_better avg', 'g_worse', 'g_worse avg', 'g_same', 'g_same avg']\n",
    "df"
   ]
  },
  {
   "cell_type": "code",
   "execution_count": null,
   "metadata": {},
   "outputs": [],
   "source": []
  }
 ],
 "metadata": {
  "kernelspec": {
   "display_name": "Python 3",
   "language": "python",
   "name": "python3"
  },
  "language_info": {
   "codemirror_mode": {
    "name": "ipython",
    "version": 3
   },
   "file_extension": ".py",
   "mimetype": "text/x-python",
   "name": "python",
   "nbconvert_exporter": "python",
   "pygments_lexer": "ipython3",
   "version": "3.6.2"
  }
 },
 "nbformat": 4,
 "nbformat_minor": 2
}
