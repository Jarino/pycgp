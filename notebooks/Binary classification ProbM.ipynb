{
 "cells": [
  {
   "cell_type": "markdown",
   "metadata": {},
   "source": [
    "# Binary classification using probabilistic mutation"
   ]
  },
  {
   "cell_type": "code",
   "execution_count": 1,
   "metadata": {
    "collapsed": true
   },
   "outputs": [],
   "source": [
    "from pycgp.benchmarks.classification import X_train, y_train, X_test, y_test, PARAMS, EV_PARAMS\n",
    "from pycgp.evolution import evolution\n",
    "import random\n",
    "import numpy as np"
   ]
  },
  {
   "cell_type": "markdown",
   "metadata": {},
   "source": [
    "Statistics we want to measure for classification task:\n",
    "- best train error achieved\n",
    "- mean and std of best train errors\n",
    "- best test error achieved\n",
    "- mean and std of best test errors\n",
    "- mean and std of last generation's train error\n",
    "- mean and std of last generation's test error"
   ]
  },
  {
   "cell_type": "code",
   "execution_count": 2,
   "metadata": {},
   "outputs": [],
   "source": [
    "def run_experiment(PARAMS,EV_PARAMS):\n",
    "    train_stat = []\n",
    "    test_stat = []\n",
    "    for i in range(0, 5):\n",
    "        print(i, end=', ')\n",
    "        result = evolution(PARAMS, EV_PARAMS, X_train, y_train)\n",
    "        \n",
    "        train_stat.append([x.fitness for x in result['final']])\n",
    "        test_stat.append([EV_PARAMS['cost_func'](y_test, x.execute(X_test)) for x in result['final']   ])\n",
    "    \n",
    "    train_results = [\n",
    "        np.min(train_stat), # best fitness\n",
    "        np.mean(train_stat), # mean of fitnesses of all last generations\n",
    "        np.std(train_stat), # std of fitnesses of all last generations\n",
    "        np.mean(np.min(train_stat, axis=1)), # mean of best individuals from run\n",
    "        np.std(np.min(train_stat, axis=1)) # std of best individuals from run\n",
    "    ]\n",
    "    \n",
    "    test_results = [\n",
    "        np.min(test_stat), # best fitness\n",
    "        np.mean(test_stat), # mean of fitnesses of all last generations\n",
    "        np.std(test_stat), # std of fitnesses of all last generations\n",
    "        np.mean(np.min(test_stat, axis=1)), # mean of best individuals from run\n",
    "        np.std(np.min(test_stat, axis=1)) # std of best individuals from run\n",
    "    ]\n",
    "    print('Train: ', train_results)\n",
    "    print('Test: ', test_results)\n",
    "    return train_results, test_results\n",
    "        \n",
    "        "
   ]
  },
  {
   "cell_type": "code",
   "execution_count": 3,
   "metadata": {},
   "outputs": [],
   "source": [
    "train_measurements = {}\n",
    "test_measurements = {}"
   ]
  },
  {
   "cell_type": "code",
   "execution_count": 4,
   "metadata": {},
   "outputs": [],
   "source": [
    "from pycgp.mutation import probabilistic_mutation\n",
    "from pycgp.gems import GemSM, MatchSMStrategy\n",
    "EV_PARAMS['gem_type'] = GemSM\n",
    "EV_PARAMS['mutation'] = probabilistic_mutation\n",
    "EV_PARAMS['match_strategy'] = MatchSMStrategy"
   ]
  },
  {
   "cell_type": "markdown",
   "metadata": {},
   "source": [
    "### BinClassification, PM, 10 nodes"
   ]
  },
  {
   "cell_type": "code",
   "execution_count": 5,
   "metadata": {},
   "outputs": [
    {
     "name": "stdout",
     "output_type": "stream",
     "text": [
      "0, 1, 2, 3, 4, Train:  [-0.9346733668341709, -0.72522613065326635, 0.16940097248108835, -0.91859296482412067, 0.011524969790130377]\n",
      "Test:  [-0.9064327485380117, -0.72070175438596507, 0.15832542516955778, -0.89824561403508763, 0.0070175438596491377]\n",
      "CPU times: user 4min 24s, sys: 328 ms, total: 4min 25s\n",
      "Wall time: 4min 46s\n"
     ]
    }
   ],
   "source": [
    "%%time\n",
    "random.seed(1)\n",
    "\n",
    "key = '10,false'\n",
    "results = run_experiment(PARAMS, EV_PARAMS)\n",
    "train_measurements[key] = results[0]\n",
    "test_measurements[key] = results[1]"
   ]
  },
  {
   "cell_type": "markdown",
   "metadata": {},
   "source": [
    "### BinClassification, PM, 50 nodes"
   ]
  },
  {
   "cell_type": "code",
   "execution_count": 6,
   "metadata": {},
   "outputs": [
    {
     "name": "stdout",
     "output_type": "stream",
     "text": [
      "0, 1, 2, 3, 4, Train:  [-0.95477386934673369, -0.64562814070351748, 0.20988967438213121, -0.92763819095477396, 0.020250695155386814]\n",
      "Test:  [-0.92397660818713445, -0.63812865497076021, 0.19540440169672602, -0.89122807017543848, 0.017967592392675084]\n",
      "CPU times: user 6min 30s, sys: 812 ms, total: 6min 31s\n",
      "Wall time: 7min 23s\n"
     ]
    }
   ],
   "source": [
    "%%time\n",
    "random.seed(1)\n",
    "\n",
    "PARAMS['n_cols'] = 50\n",
    "EV_PARAMS['gems'] = False\n",
    "\n",
    "key = '50,false'\n",
    "results = run_experiment(PARAMS, EV_PARAMS)\n",
    "train_measurements[key] = results[0]\n",
    "test_measurements[key] = results[1]"
   ]
  },
  {
   "cell_type": "markdown",
   "metadata": {},
   "source": [
    "### BinClassification, PM, 100 nodes"
   ]
  },
  {
   "cell_type": "code",
   "execution_count": 7,
   "metadata": {},
   "outputs": [
    {
     "name": "stdout",
     "output_type": "stream",
     "text": [
      "0, 1, 2, 3, 4, Train:  [-0.95226130653266328, -0.67809045226130649, 0.16612478595615118, -0.93517587939698499, 0.020062778671032275]\n",
      "Test:  [-0.93567251461988299, -0.66573099415204684, 0.15584706450049976, -0.90526315789473677, 0.033369222497513708]\n",
      "CPU times: user 7min 14s, sys: 969 ms, total: 7min 15s\n",
      "Wall time: 8min 1s\n"
     ]
    }
   ],
   "source": [
    "%%time\n",
    "random.seed(1)\n",
    "\n",
    "PARAMS['n_cols'] = 100\n",
    "EV_PARAMS['gems'] = False\n",
    "\n",
    "key = '100,false'\n",
    "results = run_experiment(PARAMS, EV_PARAMS)\n",
    "train_measurements[key] = results[0]\n",
    "test_measurements[key] = results[1]"
   ]
  },
  {
   "cell_type": "markdown",
   "metadata": {},
   "source": [
    "### BinClassification, PM, 10 nodes, gems"
   ]
  },
  {
   "cell_type": "code",
   "execution_count": 8,
   "metadata": {},
   "outputs": [
    {
     "name": "stdout",
     "output_type": "stream",
     "text": [
      "0, 1, 2, 3, 4, Train:  [-0.9346733668341709, -0.72522613065326635, 0.16940097248108835, -0.91859296482412067, 0.011524969790130377]\n",
      "Test:  [-0.9064327485380117, -0.72070175438596507, 0.15832542516955778, -0.89824561403508763, 0.0070175438596491377]\n",
      "CPU times: user 3min 11s, sys: 203 ms, total: 3min 11s\n",
      "Wall time: 3min 24s\n"
     ]
    }
   ],
   "source": [
    "%%time\n",
    "random.seed(1)\n",
    "\n",
    "PARAMS['n_cols'] = 10\n",
    "EV_PARAMS['gems'] = True\n",
    "\n",
    "key = '10,True'\n",
    "results = run_experiment(PARAMS, EV_PARAMS)\n",
    "train_measurements[key] = results[0]\n",
    "test_measurements[key] = results[1]"
   ]
  },
  {
   "cell_type": "markdown",
   "metadata": {},
   "source": [
    "### BinClassification, PM, 50 nodes, gems"
   ]
  },
  {
   "cell_type": "code",
   "execution_count": 9,
   "metadata": {},
   "outputs": [
    {
     "name": "stdout",
     "output_type": "stream",
     "text": [
      "0, 1, 2, 3, 4, Train:  [-0.95477386934673369, -0.64562814070351748, 0.20988967438213121, -0.92763819095477396, 0.020250695155386814]\n",
      "Test:  [-0.92397660818713445, -0.63812865497076021, 0.19540440169672602, -0.89122807017543848, 0.017967592392675084]\n",
      "CPU times: user 4min 46s, sys: 344 ms, total: 4min 47s\n",
      "Wall time: 4min 59s\n"
     ]
    }
   ],
   "source": [
    "%%time\n",
    "random.seed(1)\n",
    "\n",
    "PARAMS['n_cols'] = 50\n",
    "EV_PARAMS['gems'] = True\n",
    "\n",
    "key = '50,True'\n",
    "results = run_experiment(PARAMS, EV_PARAMS)\n",
    "train_measurements[key] = results[0]\n",
    "test_measurements[key] = results[1]"
   ]
  },
  {
   "cell_type": "markdown",
   "metadata": {},
   "source": [
    "### BinClassification, PM, 100 nodes, gems"
   ]
  },
  {
   "cell_type": "code",
   "execution_count": 10,
   "metadata": {},
   "outputs": [
    {
     "name": "stdout",
     "output_type": "stream",
     "text": [
      "0, 1, 2, 3, 4, Train:  [-0.95226130653266328, -0.67809045226130649, 0.16612478595615118, -0.93517587939698499, 0.020062778671032275]\n",
      "Test:  [-0.93567251461988299, -0.66573099415204684, 0.15584706450049976, -0.90526315789473677, 0.033369222497513708]\n",
      "CPU times: user 7min 21s, sys: 656 ms, total: 7min 22s\n",
      "Wall time: 7min 58s\n"
     ]
    }
   ],
   "source": [
    "%%time\n",
    "random.seed(1)\n",
    "\n",
    "PARAMS['n_cols'] = 100\n",
    "EV_PARAMS['gems'] = True\n",
    "\n",
    "key = '100,True'\n",
    "results = run_experiment(PARAMS, EV_PARAMS)\n",
    "train_measurements[key] = results[0]\n",
    "test_measurements[key] = results[1]"
   ]
  },
  {
   "cell_type": "markdown",
   "metadata": {},
   "source": [
    "### BinClassification, PM, 10 nodes, gems, 5"
   ]
  },
  {
   "cell_type": "code",
   "execution_count": 11,
   "metadata": {},
   "outputs": [
    {
     "name": "stdout",
     "output_type": "stream",
     "text": [
      "0, 1, 2, 3, 4, Train:  [-0.9346733668341709, -0.72522613065326635, 0.16940097248108835, -0.91859296482412067, 0.011524969790130377]\n",
      "Test:  [-0.9064327485380117, -0.72070175438596507, 0.15832542516955778, -0.89824561403508763, 0.0070175438596491377]\n",
      "CPU times: user 3min 15s, sys: 453 ms, total: 3min 15s\n",
      "Wall time: 3min 34s\n"
     ]
    }
   ],
   "source": [
    "%%time\n",
    "random.seed(1)\n",
    "\n",
    "PARAMS['n_cols'] = 10\n",
    "EV_PARAMS['gems'] = True\n",
    "EV_PARAMS['j_box_size'] = 10\n",
    "\n",
    "key = '10,True,10'\n",
    "results = run_experiment(PARAMS, EV_PARAMS)\n",
    "train_measurements[key] = results[0]\n",
    "test_measurements[key] = results[1]"
   ]
  },
  {
   "cell_type": "code",
   "execution_count": 12,
   "metadata": {},
   "outputs": [
    {
     "name": "stdout",
     "output_type": "stream",
     "text": [
      "0, 1, 2, 3, 4, Train:  [-0.95477386934673369, -0.64562814070351748, 0.20988967438213121, -0.92763819095477396, 0.020250695155386814]\n",
      "Test:  [-0.92397660818713445, -0.63812865497076021, 0.19540440169672602, -0.89122807017543848, 0.017967592392675084]\n",
      "CPU times: user 5min 27s, sys: 734 ms, total: 5min 27s\n",
      "Wall time: 6min\n"
     ]
    }
   ],
   "source": [
    "%%time\n",
    "random.seed(1)\n",
    "\n",
    "PARAMS['n_cols'] = 50\n",
    "EV_PARAMS['gems'] = True\n",
    "EV_PARAMS['j_box_size'] = 10\n",
    "\n",
    "key = '50,True,10'\n",
    "results = run_experiment(PARAMS, EV_PARAMS)\n",
    "train_measurements[key] = results[0]\n",
    "test_measurements[key] = results[1]"
   ]
  },
  {
   "cell_type": "code",
   "execution_count": 13,
   "metadata": {},
   "outputs": [
    {
     "name": "stdout",
     "output_type": "stream",
     "text": [
      "0, 1, 2, 3, 4, Train:  [-0.95226130653266328, -0.67809045226130649, 0.16612478595615118, -0.93517587939698499, 0.020062778671032275]\n",
      "Test:  [-0.93567251461988299, -0.66573099415204684, 0.15584706450049976, -0.90526315789473677, 0.033369222497513708]\n",
      "CPU times: user 7min 15s, sys: 688 ms, total: 7min 16s\n",
      "Wall time: 7min 57s\n"
     ]
    }
   ],
   "source": [
    "%%time\n",
    "random.seed(1)\n",
    "\n",
    "PARAMS['n_cols'] = 100\n",
    "EV_PARAMS['gems'] = True\n",
    "EV_PARAMS['j_box_size'] = 10\n",
    "\n",
    "key = '100,True,10'\n",
    "results = run_experiment(PARAMS, EV_PARAMS)\n",
    "train_measurements[key] = results[0]\n",
    "test_measurements[key] = results[1]"
   ]
  },
  {
   "cell_type": "markdown",
   "metadata": {},
   "source": [
    "# Summary"
   ]
  },
  {
   "cell_type": "code",
   "execution_count": 14,
   "metadata": {},
   "outputs": [
    {
     "data": {
      "text/html": [
       "<div>\n",
       "<style>\n",
       "    .dataframe thead tr:only-child th {\n",
       "        text-align: right;\n",
       "    }\n",
       "\n",
       "    .dataframe thead th {\n",
       "        text-align: left;\n",
       "    }\n",
       "\n",
       "    .dataframe tbody tr th {\n",
       "        vertical-align: top;\n",
       "    }\n",
       "</style>\n",
       "<table border=\"1\" class=\"dataframe\">\n",
       "  <thead>\n",
       "    <tr style=\"text-align: right;\">\n",
       "      <th></th>\n",
       "      <th>best fitness</th>\n",
       "      <th>mean of last gen</th>\n",
       "      <th>std of last gen</th>\n",
       "      <th>mean of best individual</th>\n",
       "      <th>std of best indvidiual</th>\n",
       "    </tr>\n",
       "  </thead>\n",
       "  <tbody>\n",
       "    <tr>\n",
       "      <th>10,false</th>\n",
       "      <td>-0.934673</td>\n",
       "      <td>-0.725226</td>\n",
       "      <td>0.169401</td>\n",
       "      <td>-0.918593</td>\n",
       "      <td>0.011525</td>\n",
       "    </tr>\n",
       "    <tr>\n",
       "      <th>50,false</th>\n",
       "      <td>-0.954774</td>\n",
       "      <td>-0.645628</td>\n",
       "      <td>0.209890</td>\n",
       "      <td>-0.927638</td>\n",
       "      <td>0.020251</td>\n",
       "    </tr>\n",
       "    <tr>\n",
       "      <th>100,false</th>\n",
       "      <td>-0.952261</td>\n",
       "      <td>-0.678090</td>\n",
       "      <td>0.166125</td>\n",
       "      <td>-0.935176</td>\n",
       "      <td>0.020063</td>\n",
       "    </tr>\n",
       "    <tr>\n",
       "      <th>10,True</th>\n",
       "      <td>-0.934673</td>\n",
       "      <td>-0.725226</td>\n",
       "      <td>0.169401</td>\n",
       "      <td>-0.918593</td>\n",
       "      <td>0.011525</td>\n",
       "    </tr>\n",
       "    <tr>\n",
       "      <th>50,True</th>\n",
       "      <td>-0.954774</td>\n",
       "      <td>-0.645628</td>\n",
       "      <td>0.209890</td>\n",
       "      <td>-0.927638</td>\n",
       "      <td>0.020251</td>\n",
       "    </tr>\n",
       "    <tr>\n",
       "      <th>100,True</th>\n",
       "      <td>-0.952261</td>\n",
       "      <td>-0.678090</td>\n",
       "      <td>0.166125</td>\n",
       "      <td>-0.935176</td>\n",
       "      <td>0.020063</td>\n",
       "    </tr>\n",
       "    <tr>\n",
       "      <th>10,True,10</th>\n",
       "      <td>-0.934673</td>\n",
       "      <td>-0.725226</td>\n",
       "      <td>0.169401</td>\n",
       "      <td>-0.918593</td>\n",
       "      <td>0.011525</td>\n",
       "    </tr>\n",
       "    <tr>\n",
       "      <th>50,True,10</th>\n",
       "      <td>-0.954774</td>\n",
       "      <td>-0.645628</td>\n",
       "      <td>0.209890</td>\n",
       "      <td>-0.927638</td>\n",
       "      <td>0.020251</td>\n",
       "    </tr>\n",
       "    <tr>\n",
       "      <th>100,True,10</th>\n",
       "      <td>-0.952261</td>\n",
       "      <td>-0.678090</td>\n",
       "      <td>0.166125</td>\n",
       "      <td>-0.935176</td>\n",
       "      <td>0.020063</td>\n",
       "    </tr>\n",
       "  </tbody>\n",
       "</table>\n",
       "</div>"
      ],
      "text/plain": [
       "             best fitness  mean of last gen  std of last gen  \\\n",
       "10,false        -0.934673         -0.725226         0.169401   \n",
       "50,false        -0.954774         -0.645628         0.209890   \n",
       "100,false       -0.952261         -0.678090         0.166125   \n",
       "10,True         -0.934673         -0.725226         0.169401   \n",
       "50,True         -0.954774         -0.645628         0.209890   \n",
       "100,True        -0.952261         -0.678090         0.166125   \n",
       "10,True,10      -0.934673         -0.725226         0.169401   \n",
       "50,True,10      -0.954774         -0.645628         0.209890   \n",
       "100,True,10     -0.952261         -0.678090         0.166125   \n",
       "\n",
       "             mean of best individual  std of best indvidiual  \n",
       "10,false                   -0.918593                0.011525  \n",
       "50,false                   -0.927638                0.020251  \n",
       "100,false                  -0.935176                0.020063  \n",
       "10,True                    -0.918593                0.011525  \n",
       "50,True                    -0.927638                0.020251  \n",
       "100,True                   -0.935176                0.020063  \n",
       "10,True,10                 -0.918593                0.011525  \n",
       "50,True,10                 -0.927638                0.020251  \n",
       "100,True,10                -0.935176                0.020063  "
      ]
     },
     "execution_count": 14,
     "metadata": {},
     "output_type": "execute_result"
    }
   ],
   "source": [
    "import pandas as pd\n",
    "df = pd.DataFrame.from_dict(train_measurements, orient='index')\n",
    "df.columns = ['best fitness', 'mean of last gen', 'std of last gen', 'mean of best individual', 'std of best indvidiual']\n",
    "df"
   ]
  },
  {
   "cell_type": "code",
   "execution_count": 15,
   "metadata": {},
   "outputs": [
    {
     "data": {
      "text/html": [
       "<div>\n",
       "<style>\n",
       "    .dataframe thead tr:only-child th {\n",
       "        text-align: right;\n",
       "    }\n",
       "\n",
       "    .dataframe thead th {\n",
       "        text-align: left;\n",
       "    }\n",
       "\n",
       "    .dataframe tbody tr th {\n",
       "        vertical-align: top;\n",
       "    }\n",
       "</style>\n",
       "<table border=\"1\" class=\"dataframe\">\n",
       "  <thead>\n",
       "    <tr style=\"text-align: right;\">\n",
       "      <th></th>\n",
       "      <th>best fitness</th>\n",
       "      <th>mean of last gen</th>\n",
       "      <th>std of last gen</th>\n",
       "      <th>mean of best individual</th>\n",
       "      <th>std of best indvidiual</th>\n",
       "    </tr>\n",
       "  </thead>\n",
       "  <tbody>\n",
       "    <tr>\n",
       "      <th>10,false</th>\n",
       "      <td>-0.906433</td>\n",
       "      <td>-0.720702</td>\n",
       "      <td>0.158325</td>\n",
       "      <td>-0.898246</td>\n",
       "      <td>0.007018</td>\n",
       "    </tr>\n",
       "    <tr>\n",
       "      <th>50,false</th>\n",
       "      <td>-0.923977</td>\n",
       "      <td>-0.638129</td>\n",
       "      <td>0.195404</td>\n",
       "      <td>-0.891228</td>\n",
       "      <td>0.017968</td>\n",
       "    </tr>\n",
       "    <tr>\n",
       "      <th>100,false</th>\n",
       "      <td>-0.935673</td>\n",
       "      <td>-0.665731</td>\n",
       "      <td>0.155847</td>\n",
       "      <td>-0.905263</td>\n",
       "      <td>0.033369</td>\n",
       "    </tr>\n",
       "    <tr>\n",
       "      <th>10,True</th>\n",
       "      <td>-0.906433</td>\n",
       "      <td>-0.720702</td>\n",
       "      <td>0.158325</td>\n",
       "      <td>-0.898246</td>\n",
       "      <td>0.007018</td>\n",
       "    </tr>\n",
       "    <tr>\n",
       "      <th>50,True</th>\n",
       "      <td>-0.923977</td>\n",
       "      <td>-0.638129</td>\n",
       "      <td>0.195404</td>\n",
       "      <td>-0.891228</td>\n",
       "      <td>0.017968</td>\n",
       "    </tr>\n",
       "    <tr>\n",
       "      <th>100,True</th>\n",
       "      <td>-0.935673</td>\n",
       "      <td>-0.665731</td>\n",
       "      <td>0.155847</td>\n",
       "      <td>-0.905263</td>\n",
       "      <td>0.033369</td>\n",
       "    </tr>\n",
       "    <tr>\n",
       "      <th>10,True,10</th>\n",
       "      <td>-0.906433</td>\n",
       "      <td>-0.720702</td>\n",
       "      <td>0.158325</td>\n",
       "      <td>-0.898246</td>\n",
       "      <td>0.007018</td>\n",
       "    </tr>\n",
       "    <tr>\n",
       "      <th>50,True,10</th>\n",
       "      <td>-0.923977</td>\n",
       "      <td>-0.638129</td>\n",
       "      <td>0.195404</td>\n",
       "      <td>-0.891228</td>\n",
       "      <td>0.017968</td>\n",
       "    </tr>\n",
       "    <tr>\n",
       "      <th>100,True,10</th>\n",
       "      <td>-0.935673</td>\n",
       "      <td>-0.665731</td>\n",
       "      <td>0.155847</td>\n",
       "      <td>-0.905263</td>\n",
       "      <td>0.033369</td>\n",
       "    </tr>\n",
       "  </tbody>\n",
       "</table>\n",
       "</div>"
      ],
      "text/plain": [
       "             best fitness  mean of last gen  std of last gen  \\\n",
       "10,false        -0.906433         -0.720702         0.158325   \n",
       "50,false        -0.923977         -0.638129         0.195404   \n",
       "100,false       -0.935673         -0.665731         0.155847   \n",
       "10,True         -0.906433         -0.720702         0.158325   \n",
       "50,True         -0.923977         -0.638129         0.195404   \n",
       "100,True        -0.935673         -0.665731         0.155847   \n",
       "10,True,10      -0.906433         -0.720702         0.158325   \n",
       "50,True,10      -0.923977         -0.638129         0.195404   \n",
       "100,True,10     -0.935673         -0.665731         0.155847   \n",
       "\n",
       "             mean of best individual  std of best indvidiual  \n",
       "10,false                   -0.898246                0.007018  \n",
       "50,false                   -0.891228                0.017968  \n",
       "100,false                  -0.905263                0.033369  \n",
       "10,True                    -0.898246                0.007018  \n",
       "50,True                    -0.891228                0.017968  \n",
       "100,True                   -0.905263                0.033369  \n",
       "10,True,10                 -0.898246                0.007018  \n",
       "50,True,10                 -0.891228                0.017968  \n",
       "100,True,10                -0.905263                0.033369  "
      ]
     },
     "execution_count": 15,
     "metadata": {},
     "output_type": "execute_result"
    }
   ],
   "source": [
    "import pandas as pd\n",
    "df = pd.DataFrame.from_dict(test_measurements, orient='index')\n",
    "df.columns = ['best fitness', 'mean of last gen', 'std of last gen', 'mean of best individual', 'std of best indvidiual']\n",
    "df"
   ]
  },
  {
   "cell_type": "code",
   "execution_count": 16,
   "metadata": {},
   "outputs": [],
   "source": [
    "from pycgp.counter import Counter"
   ]
  },
  {
   "cell_type": "code",
   "execution_count": 20,
   "metadata": {},
   "outputs": [
    {
     "data": {
      "text/plain": [
       "dict_keys(['g_better', 'g_worse', 'mean', 'best', 'gens', 'g_same_as_parent'])"
      ]
     },
     "execution_count": 20,
     "metadata": {},
     "output_type": "execute_result"
    }
   ],
   "source": [
    "Counter.get().dict.keys()"
   ]
  },
  {
   "cell_type": "code",
   "execution_count": 23,
   "metadata": {},
   "outputs": [
    {
     "data": {
      "text/plain": [
       "0"
      ]
     },
     "execution_count": 23,
     "metadata": {},
     "output_type": "execute_result"
    }
   ],
   "source": [
    "Counter.get().dict['g_same_as_parent']"
   ]
  },
  {
   "cell_type": "code",
   "execution_count": null,
   "metadata": {},
   "outputs": [],
   "source": []
  }
 ],
 "metadata": {
  "kernelspec": {
   "display_name": "Python 3",
   "language": "python",
   "name": "python3"
  },
  "language_info": {
   "codemirror_mode": {
    "name": "ipython",
    "version": 3
   },
   "file_extension": ".py",
   "mimetype": "text/x-python",
   "name": "python",
   "nbconvert_exporter": "python",
   "pygments_lexer": "ipython3",
   "version": "3.6.2"
  }
 },
 "nbformat": 4,
 "nbformat_minor": 2
}
