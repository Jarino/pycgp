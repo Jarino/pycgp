{
 "cells": [
  {
   "cell_type": "markdown",
   "metadata": {},
   "source": [
    "# Symbolic regression benchmark, Probabilistic mutation"
   ]
  },
  {
   "cell_type": "code",
   "execution_count": 1,
   "metadata": {
    "collapsed": true
   },
   "outputs": [],
   "source": [
    "from pycgp.benchmarks.symbolic import PARAMS, EV_PARAMS, X, y, target_function\n",
    "from pycgp.evolution import evolution\n",
    "from pycgp.counter import Counter\n",
    "import random\n",
    "import numpy as np"
   ]
  },
  {
   "cell_type": "code",
   "execution_count": 2,
   "metadata": {
    "collapsed": true
   },
   "outputs": [],
   "source": [
    "def run_experiment(params, ev_params, x, y):\n",
    "    rstat = []\n",
    "    n_better = []\n",
    "    n_worse = []\n",
    "    n_same = []\n",
    "    for i in range(0, 10):\n",
    "        print(i, end=', ')\n",
    "\n",
    "        result = evolution(PARAMS, EV_PARAMS, X, y)\n",
    "\n",
    "        rstat.append([EV_PARAMS['cost_func'](y, individual.execute(X)) for individual in result['final']])\n",
    "        n_better.append(Counter.get().dict['g_better'])\n",
    "        n_worse.append(Counter.get().dict['g_worse'])\n",
    "        n_same.append(Counter.get().dict['g_same_as_parent'])\n",
    "    \n",
    "    #print('Best fitness: {}'.format(np.min(stats)))\n",
    "    #print('mean and std of fitness of last generation: {}, {}'.format(np.mean(stats), np.std(stats)))\n",
    "    #print('Mean and std of best fitness: {}, {}'.format(np.mean(np.min(stats, axis=1)), np.std(np.min(stats, axis=1))))\n",
    "    # best fitness, mean of last generation, std of last generation, mean of best individual, std of best individual\n",
    "    results = [\n",
    "        np.min(rstat), np.mean(rstat), np.std(rstat), np.mean(np.min(rstat, axis=1)), np.std(np.min(rstat, axis=1)),\n",
    "        np.sum(n_better), np.mean(n_better),\n",
    "        np.sum(n_worse), np.mean(n_worse),\n",
    "        np.sum(n_same), np.mean(n_same)\n",
    "    ]\n",
    "    print(results)\n",
    "    return results"
   ]
  },
  {
   "cell_type": "markdown",
   "metadata": {},
   "source": [
    "## Probabilistic mutation"
   ]
  },
  {
   "cell_type": "code",
   "execution_count": 3,
   "metadata": {
    "collapsed": true
   },
   "outputs": [],
   "source": [
    "from pycgp.mutation import probabilistic_mutation\n",
    "from pycgp.gems import MatchSMStrategy, GemSM\n",
    "EV_PARAMS['gem_type'] = GemSM\n",
    "EV_PARAMS['match_strategy'] = MatchSMStrategy\n",
    "EV_PARAMS['mutation'] = probabilistic_mutation\n",
    "all_measurements = {}"
   ]
  },
  {
   "cell_type": "markdown",
   "metadata": {},
   "source": [
    "### ProbM, 10 nodes"
   ]
  },
  {
   "cell_type": "code",
   "execution_count": 4,
   "metadata": {},
   "outputs": [
    {
     "name": "stdout",
     "output_type": "stream",
     "text": [
      "0, 1, 2, 3, 4, 5, 6, 7, 8, 9, [0.11761416387514366, 332.44934324353596, 2256.6560028539516, 0.22964535027716329, 0.096359742757995553, 0, 0.0, 0, 0.0, 0, 0.0]\n",
      "CPU times: user 1min 56s, sys: 172 ms, total: 1min 56s\n",
      "Wall time: 1min 57s\n"
     ]
    }
   ],
   "source": [
    "%%time\n",
    "random.seed(1)\n",
    "\n",
    "PARAMS['n_cols']      = 10\n",
    "EV_PARAMS['gems']     = False\n",
    "\n",
    "all_measurements['10,false'] = run_experiment(PARAMS, EV_PARAMS, X, y)"
   ]
  },
  {
   "cell_type": "markdown",
   "metadata": {},
   "source": [
    "### ProbM, 50 nodes"
   ]
  },
  {
   "cell_type": "code",
   "execution_count": 5,
   "metadata": {},
   "outputs": [
    {
     "name": "stdout",
     "output_type": "stream",
     "text": [
      "0, 1, 2, 3, 4, 5, 6, 7, 8, 9, [0.15450182862392237, 4.0841549712271243e+24, 1.9386971370959768e+25, 0.20542548052163764, 0.05086463543582681, 0, 0.0, 0, 0.0, 0, 0.0]\n",
      "CPU times: user 3min 39s, sys: 438 ms, total: 3min 40s\n",
      "Wall time: 3min 41s\n"
     ]
    }
   ],
   "source": [
    "%%time\n",
    "random.seed(1)\n",
    "\n",
    "PARAMS['n_cols']      = 50\n",
    "EV_PARAMS['gems']     = False\n",
    "\n",
    "all_measurements['50,false'] = run_experiment(PARAMS, EV_PARAMS, X, y)"
   ]
  },
  {
   "cell_type": "markdown",
   "metadata": {},
   "source": [
    "### ProbM, 100 nodes"
   ]
  },
  {
   "cell_type": "code",
   "execution_count": 6,
   "metadata": {},
   "outputs": [
    {
     "name": "stdout",
     "output_type": "stream",
     "text": [
      "0, 1, 2, 3, "
     ]
    },
    {
     "name": "stderr",
     "output_type": "stream",
     "text": [
      "/home/jarino/anaconda3/lib/python3.6/site-packages/sklearn/metrics/regression.py:239: RuntimeWarning: overflow encountered in square\n",
      "  output_errors = np.average((y_true - y_pred) ** 2, axis=0,\n"
     ]
    },
    {
     "name": "stdout",
     "output_type": "stream",
     "text": [
      "4, 5, 6, 7, 8, 9, [0.16776289758895796, 3.0452327573746614e+23, 2.131662930162263e+24, 0.28097085666355393, 0.092455501443875737, 0, 0.0, 0, 0.0, 0, 0.0]\n",
      "CPU times: user 5min 35s, sys: 141 ms, total: 5min 35s\n",
      "Wall time: 5min 39s\n"
     ]
    }
   ],
   "source": [
    "%%time\n",
    "random.seed(1)\n",
    "\n",
    "PARAMS['n_cols']      = 100\n",
    "EV_PARAMS['gems']     = False\n",
    "\n",
    "all_measurements['100,false'] = run_experiment(PARAMS, EV_PARAMS, X, y)"
   ]
  },
  {
   "cell_type": "markdown",
   "metadata": {},
   "source": [
    "### ProbM, 10 nodes, gems"
   ]
  },
  {
   "cell_type": "code",
   "execution_count": 7,
   "metadata": {},
   "outputs": [
    {
     "name": "stdout",
     "output_type": "stream",
     "text": [
      "0, 1, 2, 3, 4, 5, 6, 7, 8, 9, [0.19858953760134257, 1.0826201469542883e+24, 5.3838183381464922e+24, 0.26128284461272588, 0.06540258641497973, 18, 1.8, 44, 4.4000000000000004, 0, 0.0]\n",
      "CPU times: user 1min 31s, sys: 109 ms, total: 1min 31s\n",
      "Wall time: 1min 32s\n"
     ]
    }
   ],
   "source": [
    "%%time\n",
    "random.seed(1)\n",
    "\n",
    "PARAMS['n_cols']      = 10\n",
    "EV_PARAMS['gems']     = True\n",
    "\n",
    "all_measurements['10,5'] = run_experiment(PARAMS, EV_PARAMS, X, y)"
   ]
  },
  {
   "cell_type": "markdown",
   "metadata": {},
   "source": [
    "### ProbM, 50 nodes, gems"
   ]
  },
  {
   "cell_type": "code",
   "execution_count": 8,
   "metadata": {
    "collapsed": true
   },
   "outputs": [
    {
     "name": "stdout",
     "output_type": "stream",
     "text": [
      "0, 1, 2, 3, 4, 5, 6, 7, 8, 9, [0.15450182862392237, 4.0841549712271243e+24, 1.9386971370959768e+25, 0.20542548052163764, 0.05086463543582681, 0, 0.0, 0, 0.0, 0, 0.0]\n",
      "CPU times: user 2min 44s, sys: 109 ms, total: 2min 44s\n",
      "Wall time: 2min 46s\n"
     ]
    }
   ],
   "source": [
    "%%time\n",
    "random.seed(1)\n",
    "\n",
    "PARAMS['n_cols']      = 50\n",
    "EV_PARAMS['gems']     = True\n",
    "\n",
    "all_measurements['50,True,5'] = run_experiment(PARAMS, EV_PARAMS, X, y)"
   ]
  },
  {
   "cell_type": "markdown",
   "metadata": {},
   "source": [
    "### ProbM, 100 nodes, gems"
   ]
  },
  {
   "cell_type": "code",
   "execution_count": 9,
   "metadata": {
    "collapsed": true
   },
   "outputs": [
    {
     "name": "stdout",
     "output_type": "stream",
     "text": [
      "0, 1, 2, 3, "
     ]
    },
    {
     "name": "stderr",
     "output_type": "stream",
     "text": [
      "/home/jarino/anaconda3/lib/python3.6/site-packages/sklearn/metrics/regression.py:239: RuntimeWarning: overflow encountered in square\n",
      "  output_errors = np.average((y_true - y_pred) ** 2, axis=0,\n"
     ]
    },
    {
     "name": "stdout",
     "output_type": "stream",
     "text": [
      "4, 5, 6, 7, 8, 9, [0.16776289758895796, 3.0452327573746614e+23, 2.131662930162263e+24, 0.28097085666355393, 0.092455501443875737, 0, 0.0, 0, 0.0, 0, 0.0]\n",
      "CPU times: user 4min 18s, sys: 250 ms, total: 4min 18s\n",
      "Wall time: 4min 21s\n"
     ]
    }
   ],
   "source": [
    "%%time\n",
    "random.seed(1)\n",
    "\n",
    "PARAMS['n_cols']      = 100\n",
    "EV_PARAMS['gems']     = True\n",
    "\n",
    "all_measurements['100,True,5'] = run_experiment(PARAMS, EV_PARAMS, X, y)"
   ]
  },
  {
   "cell_type": "markdown",
   "metadata": {},
   "source": [
    "### ProbM, 10 nodes, gems, jBox 10"
   ]
  },
  {
   "cell_type": "code",
   "execution_count": 10,
   "metadata": {
    "collapsed": true
   },
   "outputs": [
    {
     "name": "stdout",
     "output_type": "stream",
     "text": [
      "0, 1, 2, 3, 4, 5, 6, 7, 8, 9, [0.12095524544055436, 9.9390976256697243, 25.86235130255811, 0.18980812559953381, 0.024113866814439215, 46, 4.5999999999999996, 71, 7.0999999999999996, 0, 0.0]\n",
      "CPU times: user 1min 32s, sys: 109 ms, total: 1min 32s\n",
      "Wall time: 1min 34s\n"
     ]
    }
   ],
   "source": [
    "%%time\n",
    "random.seed(1)\n",
    "\n",
    "PARAMS['n_cols']      = 10\n",
    "EV_PARAMS['gems']     = True\n",
    "EV_PARAMS['j_box_size'] = 10\n",
    "\n",
    "all_measurements['10,True,10'] = run_experiment(PARAMS, EV_PARAMS, X, y)"
   ]
  },
  {
   "cell_type": "markdown",
   "metadata": {},
   "source": [
    "### ProbM, 50 nodes, gems, jbox 10"
   ]
  },
  {
   "cell_type": "code",
   "execution_count": 11,
   "metadata": {
    "collapsed": true
   },
   "outputs": [
    {
     "name": "stdout",
     "output_type": "stream",
     "text": [
      "0, 1, 2, 3, 4, 5, 6, 7, 8, 9, [0.15450182862392237, 4.0841549712271243e+24, 1.9386971370959768e+25, 0.20542548052163764, 0.05086463543582681, 0, 0.0, 0, 0.0, 0, 0.0]\n",
      "CPU times: user 2min 42s, sys: 156 ms, total: 2min 42s\n",
      "Wall time: 2min 42s\n"
     ]
    }
   ],
   "source": [
    "%%time\n",
    "random.seed(1)\n",
    "\n",
    "PARAMS['n_cols']      = 50\n",
    "EV_PARAMS['gems']     = True\n",
    "EV_PARAMS['j_box_size'] = 10\n",
    "\n",
    "all_measurements['50,True,10'] = run_experiment(PARAMS, EV_PARAMS, X, y)"
   ]
  },
  {
   "cell_type": "markdown",
   "metadata": {},
   "source": [
    "### ProbM, 100 nodes, gems, jbox 10"
   ]
  },
  {
   "cell_type": "code",
   "execution_count": 12,
   "metadata": {
    "collapsed": true
   },
   "outputs": [
    {
     "name": "stdout",
     "output_type": "stream",
     "text": [
      "0, 1, 2, 3, "
     ]
    },
    {
     "name": "stderr",
     "output_type": "stream",
     "text": [
      "/home/jarino/anaconda3/lib/python3.6/site-packages/sklearn/metrics/regression.py:239: RuntimeWarning: overflow encountered in square\n",
      "  output_errors = np.average((y_true - y_pred) ** 2, axis=0,\n"
     ]
    },
    {
     "name": "stdout",
     "output_type": "stream",
     "text": [
      "4, 5, 6, 7, 8, 9, [0.16776289758895796, 3.0452327573746614e+23, 2.131662930162263e+24, 0.28097085666355393, 0.092455501443875737, 0, 0.0, 0, 0.0, 0, 0.0]\n",
      "CPU times: user 3min 58s, sys: 78.1 ms, total: 3min 58s\n",
      "Wall time: 3min 58s\n"
     ]
    }
   ],
   "source": [
    "%%time\n",
    "random.seed(1)\n",
    "\n",
    "PARAMS['n_cols']      = 100\n",
    "EV_PARAMS['gems']     = True\n",
    "EV_PARAMS['j_box_size'] = 10\n",
    "\n",
    "all_measurements['100,True,10'] = run_experiment(PARAMS, EV_PARAMS, X, y)"
   ]
  },
  {
   "cell_type": "code",
   "execution_count": 13,
   "metadata": {
    "collapsed": true
   },
   "outputs": [
    {
     "data": {
      "text/html": [
       "<div>\n",
       "<style>\n",
       "    .dataframe thead tr:only-child th {\n",
       "        text-align: right;\n",
       "    }\n",
       "\n",
       "    .dataframe thead th {\n",
       "        text-align: left;\n",
       "    }\n",
       "\n",
       "    .dataframe tbody tr th {\n",
       "        vertical-align: top;\n",
       "    }\n",
       "</style>\n",
       "<table border=\"1\" class=\"dataframe\">\n",
       "  <thead>\n",
       "    <tr style=\"text-align: right;\">\n",
       "      <th></th>\n",
       "      <th>best fitness</th>\n",
       "      <th>mean of last gen</th>\n",
       "      <th>std of last gen</th>\n",
       "      <th>mean of best individual</th>\n",
       "      <th>std of best indvidiual</th>\n",
       "      <th>g_better</th>\n",
       "      <th>g_better avg</th>\n",
       "      <th>g_worse</th>\n",
       "      <th>g_worse avg</th>\n",
       "      <th>g_same</th>\n",
       "      <th>g_same avg</th>\n",
       "    </tr>\n",
       "  </thead>\n",
       "  <tbody>\n",
       "    <tr>\n",
       "      <th>10,false</th>\n",
       "      <td>0.117614</td>\n",
       "      <td>3.324493e+02</td>\n",
       "      <td>2.256656e+03</td>\n",
       "      <td>0.229645</td>\n",
       "      <td>0.096360</td>\n",
       "      <td>0</td>\n",
       "      <td>0.0</td>\n",
       "      <td>0</td>\n",
       "      <td>0.0</td>\n",
       "      <td>0</td>\n",
       "      <td>0.0</td>\n",
       "    </tr>\n",
       "    <tr>\n",
       "      <th>50,false</th>\n",
       "      <td>0.154502</td>\n",
       "      <td>4.084155e+24</td>\n",
       "      <td>1.938697e+25</td>\n",
       "      <td>0.205425</td>\n",
       "      <td>0.050865</td>\n",
       "      <td>0</td>\n",
       "      <td>0.0</td>\n",
       "      <td>0</td>\n",
       "      <td>0.0</td>\n",
       "      <td>0</td>\n",
       "      <td>0.0</td>\n",
       "    </tr>\n",
       "    <tr>\n",
       "      <th>100,false</th>\n",
       "      <td>0.167763</td>\n",
       "      <td>3.045233e+23</td>\n",
       "      <td>2.131663e+24</td>\n",
       "      <td>0.280971</td>\n",
       "      <td>0.092456</td>\n",
       "      <td>0</td>\n",
       "      <td>0.0</td>\n",
       "      <td>0</td>\n",
       "      <td>0.0</td>\n",
       "      <td>0</td>\n",
       "      <td>0.0</td>\n",
       "    </tr>\n",
       "    <tr>\n",
       "      <th>10,5</th>\n",
       "      <td>0.198590</td>\n",
       "      <td>1.082620e+24</td>\n",
       "      <td>5.383818e+24</td>\n",
       "      <td>0.261283</td>\n",
       "      <td>0.065403</td>\n",
       "      <td>18</td>\n",
       "      <td>1.8</td>\n",
       "      <td>44</td>\n",
       "      <td>4.4</td>\n",
       "      <td>0</td>\n",
       "      <td>0.0</td>\n",
       "    </tr>\n",
       "    <tr>\n",
       "      <th>50,True,5</th>\n",
       "      <td>0.154502</td>\n",
       "      <td>4.084155e+24</td>\n",
       "      <td>1.938697e+25</td>\n",
       "      <td>0.205425</td>\n",
       "      <td>0.050865</td>\n",
       "      <td>0</td>\n",
       "      <td>0.0</td>\n",
       "      <td>0</td>\n",
       "      <td>0.0</td>\n",
       "      <td>0</td>\n",
       "      <td>0.0</td>\n",
       "    </tr>\n",
       "    <tr>\n",
       "      <th>100,True,5</th>\n",
       "      <td>0.167763</td>\n",
       "      <td>3.045233e+23</td>\n",
       "      <td>2.131663e+24</td>\n",
       "      <td>0.280971</td>\n",
       "      <td>0.092456</td>\n",
       "      <td>0</td>\n",
       "      <td>0.0</td>\n",
       "      <td>0</td>\n",
       "      <td>0.0</td>\n",
       "      <td>0</td>\n",
       "      <td>0.0</td>\n",
       "    </tr>\n",
       "    <tr>\n",
       "      <th>10,True,10</th>\n",
       "      <td>0.120955</td>\n",
       "      <td>9.939098e+00</td>\n",
       "      <td>2.586235e+01</td>\n",
       "      <td>0.189808</td>\n",
       "      <td>0.024114</td>\n",
       "      <td>46</td>\n",
       "      <td>4.6</td>\n",
       "      <td>71</td>\n",
       "      <td>7.1</td>\n",
       "      <td>0</td>\n",
       "      <td>0.0</td>\n",
       "    </tr>\n",
       "    <tr>\n",
       "      <th>50,True,10</th>\n",
       "      <td>0.154502</td>\n",
       "      <td>4.084155e+24</td>\n",
       "      <td>1.938697e+25</td>\n",
       "      <td>0.205425</td>\n",
       "      <td>0.050865</td>\n",
       "      <td>0</td>\n",
       "      <td>0.0</td>\n",
       "      <td>0</td>\n",
       "      <td>0.0</td>\n",
       "      <td>0</td>\n",
       "      <td>0.0</td>\n",
       "    </tr>\n",
       "    <tr>\n",
       "      <th>100,True,10</th>\n",
       "      <td>0.167763</td>\n",
       "      <td>3.045233e+23</td>\n",
       "      <td>2.131663e+24</td>\n",
       "      <td>0.280971</td>\n",
       "      <td>0.092456</td>\n",
       "      <td>0</td>\n",
       "      <td>0.0</td>\n",
       "      <td>0</td>\n",
       "      <td>0.0</td>\n",
       "      <td>0</td>\n",
       "      <td>0.0</td>\n",
       "    </tr>\n",
       "  </tbody>\n",
       "</table>\n",
       "</div>"
      ],
      "text/plain": [
       "             best fitness  mean of last gen  std of last gen  \\\n",
       "10,false         0.117614      3.324493e+02     2.256656e+03   \n",
       "50,false         0.154502      4.084155e+24     1.938697e+25   \n",
       "100,false        0.167763      3.045233e+23     2.131663e+24   \n",
       "10,5             0.198590      1.082620e+24     5.383818e+24   \n",
       "50,True,5        0.154502      4.084155e+24     1.938697e+25   \n",
       "100,True,5       0.167763      3.045233e+23     2.131663e+24   \n",
       "10,True,10       0.120955      9.939098e+00     2.586235e+01   \n",
       "50,True,10       0.154502      4.084155e+24     1.938697e+25   \n",
       "100,True,10      0.167763      3.045233e+23     2.131663e+24   \n",
       "\n",
       "             mean of best individual  std of best indvidiual  g_better  \\\n",
       "10,false                    0.229645                0.096360         0   \n",
       "50,false                    0.205425                0.050865         0   \n",
       "100,false                   0.280971                0.092456         0   \n",
       "10,5                        0.261283                0.065403        18   \n",
       "50,True,5                   0.205425                0.050865         0   \n",
       "100,True,5                  0.280971                0.092456         0   \n",
       "10,True,10                  0.189808                0.024114        46   \n",
       "50,True,10                  0.205425                0.050865         0   \n",
       "100,True,10                 0.280971                0.092456         0   \n",
       "\n",
       "             g_better avg  g_worse  g_worse avg  g_same  g_same avg  \n",
       "10,false              0.0        0          0.0       0         0.0  \n",
       "50,false              0.0        0          0.0       0         0.0  \n",
       "100,false             0.0        0          0.0       0         0.0  \n",
       "10,5                  1.8       44          4.4       0         0.0  \n",
       "50,True,5             0.0        0          0.0       0         0.0  \n",
       "100,True,5            0.0        0          0.0       0         0.0  \n",
       "10,True,10            4.6       71          7.1       0         0.0  \n",
       "50,True,10            0.0        0          0.0       0         0.0  \n",
       "100,True,10           0.0        0          0.0       0         0.0  "
      ]
     },
     "execution_count": 13,
     "metadata": {},
     "output_type": "execute_result"
    }
   ],
   "source": [
    "import pandas as pd\n",
    "df = pd.DataFrame.from_dict(all_measurements, orient='index')\n",
    "df.columns = ['best fitness', 'mean of last gen', 'std of last gen', 'mean of best individual', 'std of best indvidiual',\n",
    "             'g_better', 'g_better avg', 'g_worse', 'g_worse avg', 'g_same', 'g_same avg']\n",
    "df"
   ]
  },
  {
   "cell_type": "code",
   "execution_count": null,
   "metadata": {},
   "outputs": [],
   "source": []
  }
 ],
 "metadata": {
  "kernelspec": {
   "display_name": "Python 3",
   "language": "python",
   "name": "python3"
  },
  "language_info": {
   "codemirror_mode": {
    "name": "ipython",
    "version": 3
   },
   "file_extension": ".py",
   "mimetype": "text/x-python",
   "name": "python",
   "nbconvert_exporter": "python",
   "pygments_lexer": "ipython3",
   "version": "3.6.2"
  }
 },
 "nbformat": 4,
 "nbformat_minor": 2
}
